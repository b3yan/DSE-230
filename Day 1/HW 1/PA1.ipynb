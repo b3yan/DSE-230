{
 "cells": [
  {
   "cell_type": "code",
   "execution_count": null,
   "id": "demanding-couple",
   "metadata": {
    "tags": []
   },
   "outputs": [],
   "source": [
    "import os\n",
    "pathToFile = os.environ['DATA_FILE_PATH']"
   ]
  },
  {
   "cell_type": "markdown",
   "id": "plain-swing",
   "metadata": {},
   "source": [
    "### 1. (From JupyterLab terminal) Copy data file(BookReviews_1M.txt) from local FS to HDFS"
   ]
  },
  {
   "cell_type": "code",
   "execution_count": 1,
   "id": "radical-court",
   "metadata": {},
   "outputs": [
    {
     "name": "stdout",
     "output_type": "stream",
     "text": [
      "/home/work\n"
     ]
    }
   ],
   "source": [
    "!pwd"
   ]
  },
  {
   "cell_type": "code",
   "execution_count": 2,
   "id": "mediterranean-recorder",
   "metadata": {},
   "outputs": [
    {
     "name": "stdout",
     "output_type": "stream",
     "text": [
      "BookReviews_1M.txt  PA1.ipynb  launch.sh\n"
     ]
    }
   ],
   "source": [
    "!ls"
   ]
  },
  {
   "cell_type": "code",
   "execution_count": 4,
   "id": "interesting-transportation",
   "metadata": {},
   "outputs": [],
   "source": [
    "!hadoop fs -mkdir /hdfs_folder"
   ]
  },
  {
   "cell_type": "code",
   "execution_count": 5,
   "id": "hired-handy",
   "metadata": {},
   "outputs": [],
   "source": [
    "!hadoop fs -copyFromLocal BookReviews_1M.txt /hdfs_folder"
   ]
  },
  {
   "cell_type": "markdown",
   "id": "demonstrated-induction",
   "metadata": {},
   "source": [
    "### 2. Start spark session"
   ]
  },
  {
   "cell_type": "code",
   "execution_count": 6,
   "id": "substantial-sandwich",
   "metadata": {},
   "outputs": [],
   "source": [
    "import pyspark\n",
    "from pyspark.sql import SparkSession\n",
    "\n",
    "conf = pyspark.SparkConf().setAll([\n",
    "         ('spark.master', 'local[1]'),\n",
    "         ('spark.app.name', 'App Name')])\n",
    "    \n",
    "spark = SparkSession.builder.config(conf=conf).getOrCreate()"
   ]
  },
  {
   "cell_type": "markdown",
   "id": "adjusted-paintball",
   "metadata": {},
   "source": [
    "### 3. Read data from HDFS into Spark DataFrame"
   ]
  },
  {
   "cell_type": "code",
   "execution_count": 7,
   "id": "swiss-tongue",
   "metadata": {},
   "outputs": [],
   "source": [
    "df = spark.read.text('/hdfs_folder/BookReviews_1M.txt')"
   ]
  },
  {
   "cell_type": "markdown",
   "id": "compatible-recorder",
   "metadata": {},
   "source": [
    "### 4. Print number of lines read in"
   ]
  },
  {
   "cell_type": "code",
   "execution_count": 8,
   "id": "homeless-target",
   "metadata": {},
   "outputs": [
    {
     "name": "stdout",
     "output_type": "stream",
     "text": [
      "Number of lines read in:\n",
      " 1000000\n"
     ]
    }
   ],
   "source": [
    "df_count = df.count()\n",
    "print('Number of lines read in:\\n', df_count)"
   ]
  },
  {
   "cell_type": "markdown",
   "id": "completed-population",
   "metadata": {},
   "source": [
    "### 5. Show first 20 lines using pyspark.sql.DataFrame.show"
   ]
  },
  {
   "cell_type": "code",
   "execution_count": 9,
   "id": "fatal-deficit",
   "metadata": {},
   "outputs": [
    {
     "name": "stdout",
     "output_type": "stream",
     "text": [
      "+-----------------------------------------------------------------------------------------------------------------------------------------------------------------------------------------------------------------------------------------------------------------------------------------------------------------------------------------------------------------------------------------------------------------------------------------------------------------------------------------------------------------------------------------------------------------------------------------------------------------------------------------------------------------------------------------------------------------------------------------------------------------------------------------------------------------------------------------------------------------------------------------------------------------------------------------------+\n",
      "|value                                                                                                                                                                                                                                                                                                                                                                                                                                                                                                                                                                                                                                                                                                                                                                                                                                                                                                                                          |\n",
      "+-----------------------------------------------------------------------------------------------------------------------------------------------------------------------------------------------------------------------------------------------------------------------------------------------------------------------------------------------------------------------------------------------------------------------------------------------------------------------------------------------------------------------------------------------------------------------------------------------------------------------------------------------------------------------------------------------------------------------------------------------------------------------------------------------------------------------------------------------------------------------------------------------------------------------------------------------+\n",
      "|This was the first time I read Garcia-Aguilera.  I came upon the name of this book on Live with Regis and Kelly. This book was exactly what I was looking for ... it hit the spot.  I really enjoyed this book because it was well written. Once I started this book it kept me coming back for more. It had culture, family, friendship and romance. I was looking for a little more romance when I picked this book but in the end it turned out to be just right.  I love the main chartachter Margarita (aka Daisy). I've never been to Miami but the way Daisy told the story I certainly felt I'd been there.                                                                                                                                                                                                                                                                                                                            |\n",
      "|Also after going through all of Daisy's perils ... I closed the book with a feeling I had grown emotionally as well.                                                                                                                                                                                                                                                                                                                                                                                                                                                                                                                                                                                                                                                                                                                                                                                                                           |\n",
      "|As with all of Ms. Garcia-Aguilera's books, I think this is a MUST READ, impossible to put down. Successful deviation from past Lupe Solano series-captures the very essence of the excitement, local color and diverse fabric of MIAMI. Sensual and culturally enlightened!                                                                                                                                                                                                                                                                                                                                                                                                                                                                                                                                                                                                                                                                   |\n",
      "|I've not read any of Ms Aguilera's works before, but after having just finished One Hot Summer I'm going to check out the Lupe Solano series I've heard so much about.  One Hot Summer is sooo steamy! Made me want to move to Miami!  Couldn't put the book down.                                                                                                                                                                                                                                                                                                                                                                                                                                                                                                                                                                                                                                                                             |\n",
      "|This romance novel is right up there with the rest of her amazing mystery novels.  Being a guy, I was a little hesitant about reading a romance novel but I just had to give this book a shot because I have been such a huge fan of Garcia-Aguilera's books.  And to be honest, I absolutely loved this book.  I love the way she presents funky Miami and its crazy Cubans in not just this book but all her books.  Garcia-Aguilera did a superb job with this book, and I can't wait till her next book.  You gotta read this book!!!!                                                                                                                                                                                                                                                                                                                                                                                                     |\n",
      "|Carolina Garcia Aguilera has done it again.  She's written another highly enjoyable book and infused it with the right amount of Cuban-American tidbits.  My family and I cannot put her books down once we start and this one was not a let down.                                                                                                                                                                                                                                                                                                                                                                                                                                                                                                                                                                                                                                                                                             |\n",
      "|Not only can she write mysteries,but she sure can write a love story! This was \"ONE HOT SUMMER\" read that I couldn't put down !!!                                                                                                                                                                                                                                                                                                                                                                                                                                                                                                                                                                                                                                                                                                                                                                                                              |\n",
      "|Once again Garcia-Aguilera has written a book that I just can't put down. I have read and love all her mysteries- so I picked up this romance with eager anticipation. I was not disappointed. The main character Margarita is easily likeable, which makes the trials she faces that much more intriguing. Sometimes you want to yell at the book and tell Margarita what she should (and shouldn't) do. But the author is measured in the development of the plot and keeps you turning the pages all the way to the end. Mix that in with an interesting take on Cuban exile politics and humorous insights on the world around Margarita and the picture of wild, steamy Miami is complete. Another winner from Garcia-Aguilera.                                                                                                                                                                                                           |\n",
      "|The timing is just right for a good book. Actually, it's long overdue. Therefore, I highly recommend you read this book. I promise you won't be disappointed. If this doesn't make the bestsellers list something is definitely wrong here. This well written story is so engaging, funny, almost true, etc. The character Beryl was funny and sad. Unfortunately, there are women just like her and people take advantage of them. What we won't do for love. Penn said, women can be so stupid. He told her he love her on their first night together and she belived him. That was her demise right there.                                                                                                                                                                                                                                                                                                                                  |\n",
      "|Engaging. Dark. Reading the book you could almost feel the train wreck about to happen.  The collision of characters is painful yet stimulating.  Files show the depth of her writing in this book especially by showcasing her ethnically diverse cast.  It wasn't what I was expecting, but if you can get past the initial character introductions you'll be hooked!  The sex and graphic violence can be overwhelming and hard to stomach, but it's what makes this book...the book.  If you like tidiness this isn't the book for you...it's everything, but tidy.  Personally, I was slightly disappointed in the final direction of the book, but from a literary perspective this is close to a masterpiece.  Her books just keep getting better and better.  This one really pushes the reader mentally and educationally through her use of real literary terms and vocabulary words that may require a quick tour through Webster's.|\n",
      "|Set amid the backdrop of New York City's impervious and highly competitive literary world, a disinherited, struggling writer, Penn Hamilton, plots his course to stardom.  Born with dastardly good looks and a genius I.Q., Penn seduces the top editor in the business, Beryl Unger.  Beryl is a homely, narcoleptic, obsessive-compulsive workaholic who instantly falls for Penn's charms and his manuscript.  The spin-doctors are engaged and Penn, as much as his novel, is an overnight sensation.  The money, power, respect, and women ensue.  When Beryl discovers that Penn has another lover and threatens to expose him and ruin his budding career, Penn ends the charade by committing a heinous crime.                                                                                                                                                                                                                        |\n",
      "|This novel is a dark comedy, filled with cynicism and wit, and a touch of satire surrounding literary figures (editors, agents, etc.) and concepts (Wagner's Gesamtkunstwerk).  Files offers a credible plot behind the evolution of Penn's ascent as an artist and embodiment of himself as a \"brand\" spanning all genres - music, fashion, literature, cinema, even legal scandals - the total package.  He becomes an infamous, opportunistic, conniving, heartless protagonist - and yet, he is still fairly likeable.  Files keeps the novel fresh and hip.  Through Penn, the reader hangs with the \"in crowd\" and meets modern icons in today's entertainment arena.                                                                                                                                                                                                                                                                    |\n",
      "|If readers are adventurous enough to veer away from the \"Reesy and Misty\" novels and are patient enough to appreciate the rather lengthy passages dedicated to character development, the underlying ripples of black humor, and the clever infusion of actual literary works and personalities, I think File's fans may appreciate this book as an enriched departure from her traditional `girlfriend' type of novels.                                                                                                                                                                                                                                                                                                                                                                                                                                                                                                                       |\n",
      "|Reviewed by Phyllis                                                                                                                                                                                                                                                                                                                                                                                                                                                                                                                                                                                                                                                                                                                                                                                                                                                                                                                            |\n",
      "|APOOO BookClub                                                                                                                                                                                                                                                                                                                                                                                                                                                                                                                                                                                                                                                                                                                                                                                                                                                                                                                                 |\n",
      "|A guilty pleasure of a book with characters so well formed, dialogue so entertaining and a story so well plotted that you want to consume it whole, gorge yourself on it and then call up everyone you know and love and recommend it to them.  That is exactly my reaction to \"Sex. Lies. Murder. Fame\" by Lolita Files.                                                                                                                                                                                                                                                                                                                                                                                                                                                                                                                                                                                                                      |\n",
      "|In the tradition of Kurt Andersen's fictional dissection of the nineties in \"Turn of the Century\", and Tom Wolfe's mining of the excesses of the eighties in \"The Bonfire of the Vanities\", Ms Files has written a titillating exploration of fame and branding in the twenty-first century.  Sex. Lies. Murder. Fame is a wild adventure through a pop culture world spinning on the axis of the NYC publishing industry and all it's media related tentacles.                                                                                                                                                                                                                                                                                                                                                                                                                                                                                |\n",
      "|Beryl Unger, top editor at Kittell Press, sufferer of narcolepsy and obsessive compulsive disorder is on the hunt for \"him\".  The one.  The man of her dreams.  (But reader - I beg you - before the past six years of \"chick lit\" that has been thrown at us clouds your judgement  - please hold back your pre-conceived notions about reading a book about a woman looking for love.  Make no mistake - this is a bona fide novel - with no cutesy \"lit\" categories to describe it.)  When Beryl finally meets \"him\" he comes in the form of one Pennbook Hamilton, a murderous, mentally warped, Ivy League genius that just so happens to have written a novel.                                                                                                                                                                                                                                                                           |\n",
      "|What follows is a tale of love, murder, deceit, fame, fortune and cross merchandising.  It is a mental feast chock full of real time culture, witty dialogue, fascinating multi-dimensional characters, and bedroom (and bathroom stall) scenes that would make Judith Krantz blush.                                                                                                                                                                                                                                                                                                                                                                                                                                                                                                                                                                                                                                                           |\n",
      "|The book flap says Kanye West has optioned one of Ms. Files other novels for film development and I sincerely hope that the lucky Hollywood executives who have (or will) stumble onto this story take note of Beryl's marketing genius and cross promote the hell out of Ms. Lolita Files.  Well done.                                                                                                                                                                                                                                                                                                                                                                                                                                                                                                                                                                                                                                        |\n",
      "+-----------------------------------------------------------------------------------------------------------------------------------------------------------------------------------------------------------------------------------------------------------------------------------------------------------------------------------------------------------------------------------------------------------------------------------------------------------------------------------------------------------------------------------------------------------------------------------------------------------------------------------------------------------------------------------------------------------------------------------------------------------------------------------------------------------------------------------------------------------------------------------------------------------------------------------------------+\n",
      "only showing top 20 rows\n",
      "\n"
     ]
    }
   ],
   "source": [
    "df.show(n = 20, truncate = False)"
   ]
  },
  {
   "cell_type": "markdown",
   "id": "aggregate-genre",
   "metadata": {},
   "source": [
    "### 6. Stop spark session"
   ]
  },
  {
   "cell_type": "code",
   "execution_count": 10,
   "id": "neutral-clothing",
   "metadata": {},
   "outputs": [],
   "source": [
    "spark.stop()"
   ]
  },
  {
   "cell_type": "code",
   "execution_count": null,
   "id": "informed-ending",
   "metadata": {},
   "outputs": [],
   "source": []
  }
 ],
 "metadata": {
  "kernelspec": {
   "display_name": "Python 3",
   "language": "python",
   "name": "python3"
  },
  "language_info": {
   "codemirror_mode": {
    "name": "ipython",
    "version": 3
   },
   "file_extension": ".py",
   "mimetype": "text/x-python",
   "name": "python",
   "nbconvert_exporter": "python",
   "pygments_lexer": "ipython3",
   "version": "3.8.5"
  }
 },
 "nbformat": 4,
 "nbformat_minor": 5
}
