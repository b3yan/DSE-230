{
 "cells": [
  {
   "cell_type": "markdown",
   "metadata": {},
   "source": [
    "# Hyperparameter Tuning with Sckit-Learn and Dask Demo\n",
    "\n",
    "## **DSE 230**"
   ]
  },
  {
   "cell_type": "markdown",
   "metadata": {},
   "source": [
    "### Import libraries"
   ]
  },
  {
   "cell_type": "code",
   "execution_count": 1,
   "metadata": {},
   "outputs": [],
   "source": [
    "import numpy as np\n",
    "import pandas as pd\n",
    "from matplotlib import pyplot as plt\n",
    "%matplotlib inline"
   ]
  },
  {
   "cell_type": "markdown",
   "metadata": {},
   "source": [
    "### Load Data from weather_encoded.csv"
   ]
  },
  {
   "cell_type": "code",
   "execution_count": 2,
   "metadata": {},
   "outputs": [],
   "source": [
    "data_file = \"weather_encoded.csv\"\n",
    "df = pd.read_csv(data_file)"
   ]
  },
  {
   "cell_type": "markdown",
   "metadata": {},
   "source": [
    "### Print the columns of the dataframe"
   ]
  },
  {
   "cell_type": "code",
   "execution_count": 3,
   "metadata": {},
   "outputs": [
    {
     "data": {
      "text/plain": [
       "Index(['Unnamed: 0', 'MinTemp', 'MaxTemp', 'Rainfall', 'Evaporation',\n",
       "       'Sunshine', 'WindGustSpeed', 'WindSpeed9am', 'WindSpeed3pm',\n",
       "       'Humidity9am', 'Humidity3pm', 'Pressure9am', 'Pressure3pm', 'Cloud9am',\n",
       "       'Cloud3pm', 'Temp9am', 'Temp3pm', 'RainToday', 'RISK_MM',\n",
       "       'RainTomorrow', 'WindGustDir_ENE', 'WindGustDir_ESE', 'WindGustDir_N',\n",
       "       'WindGustDir_NE', 'WindGustDir_NNE', 'WindGustDir_NNW',\n",
       "       'WindGustDir_NW', 'WindGustDir_S', 'WindGustDir_SE', 'WindGustDir_SSE',\n",
       "       'WindGustDir_SSW', 'WindGustDir_SW', 'WindGustDir_W', 'WindGustDir_WNW',\n",
       "       'WindGustDir_WSW', 'WindDir9am_ENE', 'WindDir9am_ESE', 'WindDir9am_N',\n",
       "       'WindDir9am_NE', 'WindDir9am_NNE', 'WindDir9am_NNW', 'WindDir9am_NW',\n",
       "       'WindDir9am_S', 'WindDir9am_SE', 'WindDir9am_SSE', 'WindDir9am_SSW',\n",
       "       'WindDir9am_SW', 'WindDir9am_W', 'WindDir9am_WNW', 'WindDir9am_WSW',\n",
       "       'WindDir3pm_ENE', 'WindDir3pm_ESE', 'WindDir3pm_N', 'WindDir3pm_NE',\n",
       "       'WindDir3pm_NNE', 'WindDir3pm_NNW', 'WindDir3pm_NW', 'WindDir3pm_S',\n",
       "       'WindDir3pm_SE', 'WindDir3pm_SSE', 'WindDir3pm_SSW', 'WindDir3pm_SW',\n",
       "       'WindDir3pm_W', 'WindDir3pm_WNW', 'WindDir3pm_WSW'],\n",
       "      dtype='object')"
      ]
     },
     "execution_count": 3,
     "metadata": {},
     "output_type": "execute_result"
    }
   ],
   "source": [
    "df.columns"
   ]
  },
  {
   "cell_type": "markdown",
   "metadata": {},
   "source": [
    "### Print the number of rows in the dataframe"
   ]
  },
  {
   "cell_type": "code",
   "execution_count": 4,
   "metadata": {},
   "outputs": [
    {
     "data": {
      "text/plain": [
       "328"
      ]
     },
     "execution_count": 4,
     "metadata": {},
     "output_type": "execute_result"
    }
   ],
   "source": [
    "len(df)"
   ]
  },
  {
   "cell_type": "markdown",
   "metadata": {},
   "source": [
    "### Print the schema of the dataframe"
   ]
  },
  {
   "cell_type": "code",
   "execution_count": 5,
   "metadata": {},
   "outputs": [
    {
     "name": "stdout",
     "output_type": "stream",
     "text": [
      "<class 'pandas.core.frame.DataFrame'>\n",
      "RangeIndex: 328 entries, 0 to 327\n",
      "Data columns (total 65 columns):\n",
      " #   Column           Non-Null Count  Dtype  \n",
      "---  ------           --------------  -----  \n",
      " 0   Unnamed: 0       328 non-null    int64  \n",
      " 1   MinTemp          328 non-null    float64\n",
      " 2   MaxTemp          328 non-null    float64\n",
      " 3   Rainfall         328 non-null    float64\n",
      " 4   Evaporation      328 non-null    float64\n",
      " 5   Sunshine         328 non-null    float64\n",
      " 6   WindGustSpeed    328 non-null    int64  \n",
      " 7   WindSpeed9am     328 non-null    int64  \n",
      " 8   WindSpeed3pm     328 non-null    int64  \n",
      " 9   Humidity9am      328 non-null    int64  \n",
      " 10  Humidity3pm      328 non-null    int64  \n",
      " 11  Pressure9am      328 non-null    float64\n",
      " 12  Pressure3pm      328 non-null    float64\n",
      " 13  Cloud9am         328 non-null    int64  \n",
      " 14  Cloud3pm         328 non-null    int64  \n",
      " 15  Temp9am          328 non-null    float64\n",
      " 16  Temp3pm          328 non-null    float64\n",
      " 17  RainToday        328 non-null    bool   \n",
      " 18  RISK_MM          328 non-null    float64\n",
      " 19  RainTomorrow     328 non-null    bool   \n",
      " 20  WindGustDir_ENE  328 non-null    int64  \n",
      " 21  WindGustDir_ESE  328 non-null    int64  \n",
      " 22  WindGustDir_N    328 non-null    int64  \n",
      " 23  WindGustDir_NE   328 non-null    int64  \n",
      " 24  WindGustDir_NNE  328 non-null    int64  \n",
      " 25  WindGustDir_NNW  328 non-null    int64  \n",
      " 26  WindGustDir_NW   328 non-null    int64  \n",
      " 27  WindGustDir_S    328 non-null    int64  \n",
      " 28  WindGustDir_SE   328 non-null    int64  \n",
      " 29  WindGustDir_SSE  328 non-null    int64  \n",
      " 30  WindGustDir_SSW  328 non-null    int64  \n",
      " 31  WindGustDir_SW   328 non-null    int64  \n",
      " 32  WindGustDir_W    328 non-null    int64  \n",
      " 33  WindGustDir_WNW  328 non-null    int64  \n",
      " 34  WindGustDir_WSW  328 non-null    int64  \n",
      " 35  WindDir9am_ENE   328 non-null    int64  \n",
      " 36  WindDir9am_ESE   328 non-null    int64  \n",
      " 37  WindDir9am_N     328 non-null    int64  \n",
      " 38  WindDir9am_NE    328 non-null    int64  \n",
      " 39  WindDir9am_NNE   328 non-null    int64  \n",
      " 40  WindDir9am_NNW   328 non-null    int64  \n",
      " 41  WindDir9am_NW    328 non-null    int64  \n",
      " 42  WindDir9am_S     328 non-null    int64  \n",
      " 43  WindDir9am_SE    328 non-null    int64  \n",
      " 44  WindDir9am_SSE   328 non-null    int64  \n",
      " 45  WindDir9am_SSW   328 non-null    int64  \n",
      " 46  WindDir9am_SW    328 non-null    int64  \n",
      " 47  WindDir9am_W     328 non-null    int64  \n",
      " 48  WindDir9am_WNW   328 non-null    int64  \n",
      " 49  WindDir9am_WSW   328 non-null    int64  \n",
      " 50  WindDir3pm_ENE   328 non-null    int64  \n",
      " 51  WindDir3pm_ESE   328 non-null    int64  \n",
      " 52  WindDir3pm_N     328 non-null    int64  \n",
      " 53  WindDir3pm_NE    328 non-null    int64  \n",
      " 54  WindDir3pm_NNE   328 non-null    int64  \n",
      " 55  WindDir3pm_NNW   328 non-null    int64  \n",
      " 56  WindDir3pm_NW    328 non-null    int64  \n",
      " 57  WindDir3pm_S     328 non-null    int64  \n",
      " 58  WindDir3pm_SE    328 non-null    int64  \n",
      " 59  WindDir3pm_SSE   328 non-null    int64  \n",
      " 60  WindDir3pm_SSW   328 non-null    int64  \n",
      " 61  WindDir3pm_SW    328 non-null    int64  \n",
      " 62  WindDir3pm_W     328 non-null    int64  \n",
      " 63  WindDir3pm_WNW   328 non-null    int64  \n",
      " 64  WindDir3pm_WSW   328 non-null    int64  \n",
      "dtypes: bool(2), float64(10), int64(53)\n",
      "memory usage: 162.2 KB\n"
     ]
    }
   ],
   "source": [
    "df.info()"
   ]
  },
  {
   "cell_type": "markdown",
   "metadata": {},
   "source": [
    "## Prepare Data\n",
    "\n",
    "Drop the column `RISK_MM`. Assign `RainTomorrow` as the target label"
   ]
  },
  {
   "cell_type": "code",
   "execution_count": 6,
   "metadata": {},
   "outputs": [
    {
     "name": "stdout",
     "output_type": "stream",
     "text": [
      "feature columns: \n",
      "Index(['Unnamed: 0', 'MinTemp', 'MaxTemp', 'Rainfall', 'Evaporation',\n",
      "       'Sunshine', 'WindGustSpeed', 'WindSpeed9am', 'WindSpeed3pm',\n",
      "       'Humidity9am', 'Humidity3pm', 'Pressure9am', 'Pressure3pm', 'Cloud9am',\n",
      "       'Cloud3pm', 'Temp9am', 'Temp3pm', 'RainToday', 'WindGustDir_ENE',\n",
      "       'WindGustDir_ESE', 'WindGustDir_N', 'WindGustDir_NE', 'WindGustDir_NNE',\n",
      "       'WindGustDir_NNW', 'WindGustDir_NW', 'WindGustDir_S', 'WindGustDir_SE',\n",
      "       'WindGustDir_SSE', 'WindGustDir_SSW', 'WindGustDir_SW', 'WindGustDir_W',\n",
      "       'WindGustDir_WNW', 'WindGustDir_WSW', 'WindDir9am_ENE',\n",
      "       'WindDir9am_ESE', 'WindDir9am_N', 'WindDir9am_NE', 'WindDir9am_NNE',\n",
      "       'WindDir9am_NNW', 'WindDir9am_NW', 'WindDir9am_S', 'WindDir9am_SE',\n",
      "       'WindDir9am_SSE', 'WindDir9am_SSW', 'WindDir9am_SW', 'WindDir9am_W',\n",
      "       'WindDir9am_WNW', 'WindDir9am_WSW', 'WindDir3pm_ENE', 'WindDir3pm_ESE',\n",
      "       'WindDir3pm_N', 'WindDir3pm_NE', 'WindDir3pm_NNE', 'WindDir3pm_NNW',\n",
      "       'WindDir3pm_NW', 'WindDir3pm_S', 'WindDir3pm_SE', 'WindDir3pm_SSE',\n",
      "       'WindDir3pm_SSW', 'WindDir3pm_SW', 'WindDir3pm_W', 'WindDir3pm_WNW',\n",
      "       'WindDir3pm_WSW'],\n",
      "      dtype='object')\n",
      "\n",
      "Features: \n",
      "   Unnamed: 0  MinTemp  MaxTemp  Rainfall  Evaporation  Sunshine  \\\n",
      "0           0      8.0     24.3       0.0          3.4       6.3   \n",
      "1           1     14.0     26.9       3.6          4.4       9.7   \n",
      "2           2     13.7     23.4       3.6          5.8       3.3   \n",
      "3           3     13.3     15.5      39.8          7.2       9.1   \n",
      "4           4      7.6     16.1       2.8          5.6      10.6   \n",
      "\n",
      "   WindGustSpeed  WindSpeed9am  WindSpeed3pm  Humidity9am  ...  \\\n",
      "0             30             6            20           68  ...   \n",
      "1             39             4            17           80  ...   \n",
      "2             85             6             6           82  ...   \n",
      "3             54            30            24           62  ...   \n",
      "4             50            20            28           68  ...   \n",
      "\n",
      "   WindDir3pm_NNW  WindDir3pm_NW  WindDir3pm_S  WindDir3pm_SE  WindDir3pm_SSE  \\\n",
      "0               0              1             0              0               0   \n",
      "1               0              0             0              0               0   \n",
      "2               0              0             0              0               0   \n",
      "3               0              0             0              0               0   \n",
      "4               0              0             0              0               0   \n",
      "\n",
      "   WindDir3pm_SSW  WindDir3pm_SW  WindDir3pm_W  WindDir3pm_WNW  WindDir3pm_WSW  \n",
      "0               0              0             0               0               0  \n",
      "1               0              0             1               0               0  \n",
      "2               0              0             0               0               0  \n",
      "3               0              0             1               0               0  \n",
      "4               0              0             0               0               0  \n",
      "\n",
      "[5 rows x 63 columns]\n",
      "\n",
      "Labels: \n",
      "0     True\n",
      "1     True\n",
      "2     True\n",
      "3     True\n",
      "4    False\n",
      "Name: RainTomorrow, dtype: bool\n"
     ]
    }
   ],
   "source": [
    "features, label = df.drop([\"RainTomorrow\", \"RISK_MM\"], axis=1), df[\"RainTomorrow\"]\n",
    "\n",
    "print(f\"feature columns: \\n{features.columns}\\n\")\n",
    "print(f\"Features: \\n{features.head()}\\n\")\n",
    "print(f\"Labels: \\n{label.head()}\")"
   ]
  },
  {
   "cell_type": "markdown",
   "metadata": {},
   "source": [
    "### Split into train and test data"
   ]
  },
  {
   "cell_type": "code",
   "execution_count": 7,
   "metadata": {},
   "outputs": [
    {
     "name": "stdout",
     "output_type": "stream",
     "text": [
      "Number of train samples: 196\n",
      "Number of test samples: 132\n"
     ]
    }
   ],
   "source": [
    "from sklearn.model_selection import train_test_split\n",
    "\n",
    "seed=123\n",
    "X_train, X_test, y_train, y_test = train_test_split(features, label, test_size=0.4, random_state=seed)\n",
    "print(\"Number of train samples:\", len(X_train))\n",
    "print(\"Number of test samples:\", len(X_test))"
   ]
  },
  {
   "cell_type": "markdown",
   "metadata": {},
   "source": [
    "### Build Decision Tree Classifier\n",
    "\n",
    "* Refer - https://scikit-learn.org/stable/modules/generated/sklearn.tree.DecisionTreeClassifier.html\n",
    "* Pass `random_state=seed` as an argument to `DecisionTreeClassifier`"
   ]
  },
  {
   "cell_type": "code",
   "execution_count": 8,
   "metadata": {},
   "outputs": [
    {
     "data": {
      "text/plain": [
       "DecisionTreeClassifier(random_state=123)"
      ]
     },
     "execution_count": 8,
     "metadata": {},
     "output_type": "execute_result"
    }
   ],
   "source": [
    "from sklearn.tree import DecisionTreeClassifier\n",
    "\n",
    "# seed for reproducing the same result\n",
    "dt_model = DecisionTreeClassifier(random_state=seed)\n",
    "\n",
    "dt_model.fit(X_train,y_train)"
   ]
  },
  {
   "cell_type": "markdown",
   "metadata": {},
   "source": [
    "### Print train and test accuracy"
   ]
  },
  {
   "cell_type": "code",
   "execution_count": 9,
   "metadata": {},
   "outputs": [
    {
     "name": "stdout",
     "output_type": "stream",
     "text": [
      "Train accuracy: 1.0\n",
      "Test accuracy: 0.7196969696969697\n"
     ]
    }
   ],
   "source": [
    "print(\"Train accuracy:\", dt_model.score(X_train,y_train))\n",
    "print(\"Test accuracy:\", dt_model.score(X_test,y_test))"
   ]
  },
  {
   "cell_type": "markdown",
   "metadata": {},
   "source": [
    "### Hyperparameters of the model\n",
    "* `dt_model._tree` returns the underlying tree structure\n",
    "* Refer - https://scikit-learn.org/stable/auto_examples/tree/plot_unveil_tree_structure.html#sphx-glr-auto-examples-tree-plot-unveil-tree-structure-py"
   ]
  },
  {
   "cell_type": "code",
   "execution_count": 10,
   "metadata": {},
   "outputs": [
    {
     "name": "stdout",
     "output_type": "stream",
     "text": [
      "7\n"
     ]
    },
    {
     "data": {
      "text/plain": [
       "{'ccp_alpha': 0.0,\n",
       " 'class_weight': None,\n",
       " 'criterion': 'gini',\n",
       " 'max_depth': None,\n",
       " 'max_features': None,\n",
       " 'max_leaf_nodes': None,\n",
       " 'min_impurity_decrease': 0.0,\n",
       " 'min_impurity_split': None,\n",
       " 'min_samples_leaf': 1,\n",
       " 'min_samples_split': 2,\n",
       " 'min_weight_fraction_leaf': 0.0,\n",
       " 'random_state': 123,\n",
       " 'splitter': 'best'}"
      ]
     },
     "execution_count": 10,
     "metadata": {},
     "output_type": "execute_result"
    }
   ],
   "source": [
    "print(dt_model.tree_.max_depth)\n",
    "dt_model.get_params()"
   ]
  },
  {
   "cell_type": "markdown",
   "metadata": {},
   "source": [
    "## Hyperparameter Tuning"
   ]
  },
  {
   "cell_type": "markdown",
   "metadata": {},
   "source": [
    "### Set up grid search\n",
    "\n",
    "* Parameters:\n",
    "    * `max_depth` in the range \\[1,10) - Maximum depth of the tree\n",
    "    * `min_samples_split` in the range \\[2, 10) - Minimum number of samples required in a split\n",
    "    * `creiterion` in ['gini', 'entropy'] - Criterion for splitting at a given node\n",
    "* Refer - https://scikit-learn.org/stable/modules/generated/sklearn.model_selection.GridSearchCV.html"
   ]
  },
  {
   "cell_type": "code",
   "execution_count": 11,
   "metadata": {},
   "outputs": [],
   "source": [
    "from sklearn.model_selection import GridSearchCV\n",
    "\n",
    "param_grid = {'max_depth'        : list(range(1, 10)),\n",
    "              'min_samples_split': list(range(2, 10)),\n",
    "              'criterion'        : ['gini','entropy']\n",
    "             }"
   ]
  },
  {
   "cell_type": "markdown",
   "metadata": {},
   "source": [
    "### Scikit-learn with no parallelism\n",
    "\n",
    "* `%%time` calculates the time taken to execute the cell\n",
    "* `cv` parameter determines the cross-validation splits\n",
    "* `param_list` is dictionary with parameters names as keys and lists of parameter settings to try as values"
   ]
  },
  {
   "cell_type": "code",
   "execution_count": 12,
   "metadata": {},
   "outputs": [
    {
     "name": "stdout",
     "output_type": "stream",
     "text": [
      "CPU times: user 16.2 s, sys: 0 ns, total: 16.2 s\n",
      "Wall time: 16.2 s\n"
     ]
    },
    {
     "data": {
      "text/plain": [
       "GridSearchCV(cv=10, estimator=DecisionTreeClassifier(random_state=123),\n",
       "             param_grid={'criterion': ['gini', 'entropy'],\n",
       "                         'max_depth': [1, 2, 3, 4, 5, 6, 7, 8, 9],\n",
       "                         'min_samples_split': [2, 3, 4, 5, 6, 7, 8, 9]})"
      ]
     },
     "execution_count": 12,
     "metadata": {},
     "output_type": "execute_result"
    }
   ],
   "source": [
    "%%time \n",
    "\n",
    "dt_model = DecisionTreeClassifier(random_state=seed)\n",
    "dt_model_grid = GridSearchCV(dt_model, param_grid, cv=10)\n",
    "dt_model_grid.fit(X_train, y_train)"
   ]
  },
  {
   "cell_type": "code",
   "execution_count": 13,
   "metadata": {},
   "outputs": [
    {
     "name": "stdout",
     "output_type": "stream",
     "text": [
      "{'criterion': 'entropy', 'max_depth': 2, 'min_samples_split': 2}\n",
      "0.908421052631579\n",
      "Train accuracy: 0.923469387755102\n",
      "Test accuracy: 0.8106060606060606\n"
     ]
    }
   ],
   "source": [
    "print(dt_model_grid.best_params_)\n",
    "print(dt_model_grid.best_score_)\n",
    "print(\"Train accuracy:\", dt_model_grid.score(X_train, y_train))\n",
    "print(\"Test accuracy:\", dt_model_grid.score(X_test, y_test))"
   ]
  },
  {
   "cell_type": "markdown",
   "metadata": {},
   "source": [
    "### Parallelism with Scikit-Learn\n",
    "Same as above, but pass `n_jobs=-1` as a parameter to `GridSearchCV`"
   ]
  },
  {
   "cell_type": "code",
   "execution_count": 14,
   "metadata": {},
   "outputs": [
    {
     "name": "stdout",
     "output_type": "stream",
     "text": [
      "CPU times: user 1.44 s, sys: 182 ms, total: 1.63 s\n",
      "Wall time: 5.62 s\n"
     ]
    },
    {
     "data": {
      "text/plain": [
       "GridSearchCV(cv=10, estimator=DecisionTreeClassifier(random_state=123),\n",
       "             n_jobs=-1,\n",
       "             param_grid={'criterion': ['gini', 'entropy'],\n",
       "                         'max_depth': [1, 2, 3, 4, 5, 6, 7, 8, 9],\n",
       "                         'min_samples_split': [2, 3, 4, 5, 6, 7, 8, 9]})"
      ]
     },
     "execution_count": 14,
     "metadata": {},
     "output_type": "execute_result"
    }
   ],
   "source": [
    "%%time \n",
    "\n",
    "dt_model = DecisionTreeClassifier(random_state=seed)\n",
    "dt_model_grid = GridSearchCV(dt_model, param_grid, cv=10, n_jobs=-1)\n",
    "dt_model_grid.fit(X_train, y_train)"
   ]
  },
  {
   "cell_type": "code",
   "execution_count": 15,
   "metadata": {},
   "outputs": [
    {
     "name": "stdout",
     "output_type": "stream",
     "text": [
      "{'criterion': 'entropy', 'max_depth': 2, 'min_samples_split': 2}\n",
      "0.908421052631579\n",
      "Train accuracy: 0.923469387755102\n",
      "Test accuracy: 0.8106060606060606\n"
     ]
    }
   ],
   "source": [
    "print (dt_model_grid.best_params_)\n",
    "print (dt_model_grid.best_score_)\n",
    "print (f\"Train accuracy:\", dt_model_grid.score(X_train, y_train))\n",
    "print (f\"Test accuracy:\", dt_model_grid.score(X_test, y_test))"
   ]
  },
  {
   "cell_type": "markdown",
   "metadata": {},
   "source": [
    "### Parallelism with Dask"
   ]
  },
  {
   "cell_type": "markdown",
   "metadata": {},
   "source": [
    "Many Scikit-Learn algorithms are written for parallel execution using Joblib, which natively provides thread-based and process-based parallelism. Joblib is what backs the `n_jobs=` parameter in normal use of Scikit-Learn.\n",
    "\n",
    "Dask can scale these Joblib-backed algorithms out to a **cluster of machines** by providing an alternative Joblib backend.\n",
    "\n",
    "Refer - https://ml.dask.org/joblib.html"
   ]
  },
  {
   "cell_type": "code",
   "execution_count": 16,
   "metadata": {},
   "outputs": [],
   "source": [
    "import joblib\n",
    "from dask.distributed import Client\n",
    "\n",
    "# Start and connect to local client\n",
    "client = Client(n_workers=2)\n",
    "\n",
    "# client = Client(\"scheduler-address:8786\")  # connecting to remote cluster"
   ]
  },
  {
   "cell_type": "code",
   "execution_count": 17,
   "metadata": {},
   "outputs": [
    {
     "data": {
      "text/html": [
       "<table style=\"border: 2px solid white;\">\n",
       "<tr>\n",
       "<td style=\"vertical-align: top; border: 0px solid white\">\n",
       "<h3 style=\"text-align: left;\">Client</h3>\n",
       "<ul style=\"text-align: left; list-style: none; margin: 0; padding: 0;\">\n",
       "  <li><b>Scheduler: </b>tcp://127.0.0.1:39301</li>\n",
       "  <li><b>Dashboard: </b><a href='http://127.0.0.1:8787/status' target='_blank'>http://127.0.0.1:8787/status</a></li>\n",
       "</ul>\n",
       "</td>\n",
       "<td style=\"vertical-align: top; border: 0px solid white\">\n",
       "<h3 style=\"text-align: left;\">Cluster</h3>\n",
       "<ul style=\"text-align: left; list-style:none; margin: 0; padding: 0;\">\n",
       "  <li><b>Workers: </b>2</li>\n",
       "  <li><b>Cores: </b>8</li>\n",
       "  <li><b>Memory: </b>13.29 GB</li>\n",
       "</ul>\n",
       "</td>\n",
       "</tr>\n",
       "</table>"
      ],
      "text/plain": [
       "<Client: 'tcp://127.0.0.1:39301' processes=2 threads=8, memory=13.29 GB>"
      ]
     },
     "execution_count": 17,
     "metadata": {},
     "output_type": "execute_result"
    }
   ],
   "source": [
    "client"
   ]
  },
  {
   "cell_type": "markdown",
   "metadata": {},
   "source": [
    "### Use dask backend to Joblib\n",
    "\n",
    "* To use the Dask backend to Joblib you have to create a Client, and wrap your `scikit-learn` code with `joblib.parallel_backend('dask')`"
   ]
  },
  {
   "cell_type": "code",
   "execution_count": 18,
   "metadata": {},
   "outputs": [
    {
     "name": "stdout",
     "output_type": "stream",
     "text": [
      "CPU times: user 7.43 s, sys: 854 ms, total: 8.28 s\n",
      "Wall time: 17.8 s\n"
     ]
    }
   ],
   "source": [
    "%%time \n",
    "\n",
    "dt_model = DecisionTreeClassifier(random_state=seed)\n",
    "dt_model_grid = GridSearchCV(dt_model, param_grid, cv=10)\n",
    "with joblib.parallel_backend(\"dask\"):\n",
    "    # Your scikit-learn code\n",
    "    dt_model_grid.fit (X_train, y_train)"
   ]
  },
  {
   "cell_type": "code",
   "execution_count": 19,
   "metadata": {},
   "outputs": [
    {
     "name": "stdout",
     "output_type": "stream",
     "text": [
      "{'criterion': 'entropy', 'max_depth': 2, 'min_samples_split': 2}\n",
      "0.908421052631579\n",
      "Train accuracy: 0.923469387755102\n",
      "Test accuracy: 0.8106060606060606\n"
     ]
    }
   ],
   "source": [
    "print (dt_model_grid.best_params_)\n",
    "print (dt_model_grid.best_score_)\n",
    "print (\"Train accuracy:\", dt_model_grid.score(X_train, y_train))\n",
    "print (\"Test accuracy:\", dt_model_grid.score(X_test, y_test))"
   ]
  },
  {
   "cell_type": "markdown",
   "metadata": {},
   "source": [
    "### Close connection to client"
   ]
  },
  {
   "cell_type": "code",
   "execution_count": 20,
   "metadata": {},
   "outputs": [
    {
     "name": "stderr",
     "output_type": "stream",
     "text": [
      "distributed.client - ERROR - Failed to reconnect to scheduler after 10.00 seconds, closing client\n",
      "_GatheringFuture exception was never retrieved\n",
      "future: <_GatheringFuture finished exception=CancelledError()>\n",
      "asyncio.exceptions.CancelledError\n"
     ]
    }
   ],
   "source": [
    "client.shutdown()"
   ]
  }
 ],
 "metadata": {
  "kernelspec": {
   "display_name": "Python 3",
   "language": "python",
   "name": "python3"
  },
  "language_info": {
   "codemirror_mode": {
    "name": "ipython",
    "version": 3
   },
   "file_extension": ".py",
   "mimetype": "text/x-python",
   "name": "python",
   "nbconvert_exporter": "python",
   "pygments_lexer": "ipython3",
   "version": "3.8.8"
  }
 },
 "nbformat": 4,
 "nbformat_minor": 4
}
