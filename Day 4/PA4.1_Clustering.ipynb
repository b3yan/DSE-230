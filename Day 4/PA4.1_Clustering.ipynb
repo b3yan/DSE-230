{
 "cells": [
  {
   "cell_type": "markdown",
   "metadata": {},
   "source": [
    "# DSE 230: Programming Assignment 4.1 - K-Means Cluster Analysis\n",
    "---\n",
    "#### Tasks:\n",
    "- Work with `minute_weather.csv`\n",
    "    - Use scikit-learn to perform k-means clustering (25%)\n",
    "    - Explore parallelism with scikit-learn for k-means clustering (10%)\n",
    "    - Explore parallelism with dask for k-means clustering (65%)\n",
    "- Submission on Gradescope (2 files)\n",
    "  - Completed notebook (.ipynb) or PDF with results under **PA4.1 Notebook**\n",
    "    - Make sure that all expected outputs are present\n",
    "  - An executable script (.py) exported from this notebook under **PA4.1**\n",
    "\n",
    "#### Due date: Friday 5/28/2021 at 11:59 PM PST"
   ]
  },
  {
   "cell_type": "markdown",
   "metadata": {},
   "source": [
    "## Setup"
   ]
  },
  {
   "cell_type": "code",
   "execution_count": null,
   "metadata": {},
   "outputs": [],
   "source": [
    "# Import required libraries\n",
    "# YOUR CODE HERE"
   ]
  },
  {
   "cell_type": "markdown",
   "metadata": {},
   "source": [
    "\n",
    "## Scikit-Learn (25%)\n",
    "---"
   ]
  },
  {
   "cell_type": "markdown",
   "metadata": {},
   "source": [
    "**1.1** (5%) Load Data\n",
    "- Load the \"minute_weather.csv\" into the Pandas dataframe\n",
    "- Drop the two columns [\"rowID\", \"hpwren_timestamp\"] from the dataframe\n",
    "- Print out the column names (features) from the output of the previous step"
   ]
  },
  {
   "cell_type": "code",
   "execution_count": null,
   "metadata": {},
   "outputs": [],
   "source": [
    "# YOUR CODE HERE"
   ]
  },
  {
   "cell_type": "markdown",
   "metadata": {},
   "source": [
    "**1.2** (5%) Data preprocessing and normalization using sklearn\n",
    "- Perform train and test split with 80% of the original dataset being the training dataset and 20% of the original dataset being the testing dataset.\n",
    "    * Pass `random_state=seed` to `train_test_split` for reproducing results\n",
    "- Print the number of samples from both train and test dataset, and the summary statistics of training dataset.\n",
    "- Perform feature normalization on both the train dataset and the test dataset using StandardScaler from sklearn library. Only **train** data should be used for scaling\n",
    "- Print out the mean and standard deviation along the feature columns of both the train and the test dataset.\n",
    "\n",
    "(your output of the mean and std should be a vector of shape (1, number of features) make sure you clearly label your results)"
   ]
  },
  {
   "cell_type": "code",
   "execution_count": null,
   "metadata": {},
   "outputs": [],
   "source": [
    "seed=30\n",
    "# YOUR CODE HERE"
   ]
  },
  {
   "cell_type": "markdown",
   "metadata": {},
   "source": [
    "### Build Clustering Model\n",
    "**1.4** (10%) KMeans Clustering model with sklearn\n",
    "- Use the normalized training dataset to fit a K-means model with 9 clusters\n",
    "    * Pass `random_state=seed` to `KMeans` for reproducing results\n",
    "- Print out the cluster centers found by the model\n",
    "- Print out the computational performance by adding \"%%time\" at the top of the cell"
   ]
  },
  {
   "cell_type": "code",
   "execution_count": null,
   "metadata": {},
   "outputs": [],
   "source": [
    "# YOUR CODE HERE"
   ]
  },
  {
   "cell_type": "markdown",
   "metadata": {},
   "source": [
    "### Evaluate Model\n",
    "\n",
    "**1.5** (5%) Evaluate KMeans clustering model with sklearn\n",
    "- Print out the inertia_ variable of the model, and explain what the number means in KMeans model\n",
    "- Print out the within-cluster sum of squares (WSSE) on the train and test\n",
    "\n",
    "Check documentations on KMeans at https://scikit-learn.org/stable/modules/clustering.html"
   ]
  },
  {
   "cell_type": "code",
   "execution_count": null,
   "metadata": {},
   "outputs": [],
   "source": [
    "# YOUR CODE HERE"
   ]
  },
  {
   "cell_type": "markdown",
   "metadata": {},
   "source": [
    "---\n",
    "## Parallelism with Scikit-Learn (10%)\n",
    "**2.1** (10%) Single machine parallelism using **all** the cores\n",
    "- Fit the model with single-machine parallelism using scikit-learn and joblib (via `n_jobs` parameter)\n",
    "    * Pass `random_state=seed` to `KMeans` for reproducing results\n",
    "- Print out the WSSE on train and test\n",
    "- Use %%time to print out the computational performance\n",
    "\n",
    "Note that your model's parameters and seed setting should remain the same from the previous questions"
   ]
  },
  {
   "cell_type": "code",
   "execution_count": null,
   "metadata": {},
   "outputs": [],
   "source": [
    "# YOUR CODE HERE"
   ]
  },
  {
   "cell_type": "markdown",
   "metadata": {},
   "source": [
    "---\n",
    "## Parallelism with Dask (65%)\n",
    "Multi-machine parallelism using Dask's scalable k-means algorithm"
   ]
  },
  {
   "cell_type": "markdown",
   "metadata": {},
   "source": [
    "### Create and connect to client\n",
    "**3.1** (5%) Setup the Dask distributed client\n",
    "- Create a Dask distributed client with 2 workers\n",
    "- Print out the Dask client information"
   ]
  },
  {
   "cell_type": "code",
   "execution_count": 6,
   "metadata": {},
   "outputs": [],
   "source": [
    "# YOUR CODE HERE"
   ]
  },
  {
   "cell_type": "markdown",
   "metadata": {},
   "source": [
    "### Load Data into Dask DataFrame\n",
    "\n",
    "**3.2** (5%) Load the data into Dask Dataframe\n",
    "- Load the dataset into Dask Dataframe\n",
    "- Use %%time to print out the loading efficiency of the operation"
   ]
  },
  {
   "cell_type": "code",
   "execution_count": 7,
   "metadata": {},
   "outputs": [],
   "source": [
    "# YOUR CODE HERE"
   ]
  },
  {
   "cell_type": "markdown",
   "metadata": {},
   "source": [
    "### Explore Data using Dask\n",
    "\n",
    "**3.3** (5%) Summary statistics\n",
    "- Print out the shape of the dataframe\n",
    "- Print the first 10 rows of the dask dataframe\n",
    "- Print the summary statistics on all the features of the dask dataframe"
   ]
  },
  {
   "cell_type": "code",
   "execution_count": null,
   "metadata": {},
   "outputs": [],
   "source": [
    "# YOUR CODE HERE"
   ]
  },
  {
   "cell_type": "markdown",
   "metadata": {},
   "source": [
    "### Prepare Data using Dask \n",
    "\n",
    "**3.4** (5%) Data Preparation with Dask DataFrame\n",
    "- Drop the [\"rowID\", \"hpwren_timestamp\"] two columns from the dataframe\n",
    "- Perform 80/20 train and test split with `random_state=seed` (same as the previous task but in dask)\n",
    "- Print out the number of samples in train and test dataset\n",
    "\n",
    "Note that numbers of samples are slightly difference since Dask and scikit-learn are different implementations, and also due to round-off differences."
   ]
  },
  {
   "cell_type": "code",
   "execution_count": null,
   "metadata": {},
   "outputs": [],
   "source": [
    "# YOUR CODE HERE"
   ]
  },
  {
   "cell_type": "markdown",
   "metadata": {},
   "source": [
    "**3.5** (10%) Data preprocessing and normalization with Dask\n",
    "- Perform feature normalization using the Dask library. Use only the **train** data for scaling.\n",
    "- Print out the summary statistics of the transformed features in train and test dataframes\n",
    "- Comments on your observation on the summary statistics of the transformed features in train and test dataframes"
   ]
  },
  {
   "cell_type": "code",
   "execution_count": null,
   "metadata": {},
   "outputs": [],
   "source": [
    "# YOUR CODE HERE"
   ]
  },
  {
   "cell_type": "markdown",
   "metadata": {},
   "source": [
    "### Build Dask K-Means Model\n",
    "**3.6** (15%) KMeans clustering model with dask\n",
    "- Fit KMeans model with Dask cluster library with the transformed Dask dataframe, you should set cluster number `n_clusters` and `random_state` as the same number as previous task\n",
    "- Print out the computational performance using %%time\n",
    "\n",
    "Note that Dask's K-Means estimator uses kmeans|| as the default algorithm.  To compare to scikit-learn's implementation of k-means, use k-means++ instead.  "
   ]
  },
  {
   "cell_type": "code",
   "execution_count": null,
   "metadata": {},
   "outputs": [],
   "source": [
    "# YOUR CODE HERE"
   ]
  },
  {
   "cell_type": "markdown",
   "metadata": {},
   "source": [
    "### Evaluate Dask K-Means Model\n",
    "**3.7** (5%) Analyse hyperparameters\n",
    "- Print out the inertia_ of KMeans model\n",
    "- Print out the computational efficiency with %%time\n",
    "- Double check if the dataframes and hyperparameters are the same for both scikit-learn K-Means model and Dask K-Means model. Is the inertia_ you printed different from your answer from the previous question? Explain your observation.\n"
   ]
  },
  {
   "cell_type": "markdown",
   "metadata": {},
   "source": [
    "**3.8** (10%) Dask K-Means estimator does not have a score() method.  As an easy fix, we can instantiate a scikit-learn K-Means estimator with the fitted Dask model (i.e., just copy the cluster centers over) to use the scikit-learn K-Means score method.\n",
    "- Print out the cluster centers found by the Dask KMeans model\n",
    "- Instantiate a scikit-learn KMeans estimator and assign the cluster centers with the one from Dask model\n",
    "- Print out the WSSE on train and test using score method. (Note that WSSE is the within-cluster sum of **square** error)"
   ]
  },
  {
   "cell_type": "code",
   "execution_count": null,
   "metadata": {},
   "outputs": [],
   "source": [
    "# YOUR CODE HERE"
   ]
  },
  {
   "cell_type": "markdown",
   "metadata": {},
   "source": [
    "### Stop the Dask Client\n",
    "\n",
    "**3.9** (5%) Stop the dask client"
   ]
  },
  {
   "cell_type": "code",
   "execution_count": null,
   "metadata": {},
   "outputs": [],
   "source": [
    "# YOUR CODE HERE"
   ]
  }
 ],
 "metadata": {
  "kernelspec": {
   "display_name": "Python 3",
   "language": "python",
   "name": "python3"
  },
  "language_info": {
   "codemirror_mode": {
    "name": "ipython",
    "version": 3
   },
   "file_extension": ".py",
   "mimetype": "text/x-python",
   "name": "python",
   "nbconvert_exporter": "python",
   "pygments_lexer": "ipython3",
   "version": "3.8.5"
  }
 },
 "nbformat": 4,
 "nbformat_minor": 4
}
