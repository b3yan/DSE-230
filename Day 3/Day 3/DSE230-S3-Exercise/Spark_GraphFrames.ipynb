{
 "cells": [
  {
   "cell_type": "markdown",
   "id": "collect-immigration",
   "metadata": {},
   "source": [
    "## DSE 230 : Spark GraphFrames\n",
    "\n",
    "* GraphFrames is a package for Apache Spark which provides DataFrame-based Graphs.\n",
    "* GraphFrames represent graphs: vertices (e.g., users) and edges (e.g., relationships between users).\n",
    "* GraphFrames also provide powerful tools for running queries and standard graph algorithms. With GraphFrames, you can easily search for patterns within graphs, find important vertices, and more."
   ]
  },
  {
   "cell_type": "markdown",
   "id": "armed-groove",
   "metadata": {},
   "source": [
    "### Resources\n",
    "\n",
    "---\n",
    "\n",
    "Spark DataFrame Guide: https://spark.apache.org/docs/latest/sql-programming-guide.html\n",
    "\n",
    "PySpark API Documentation: https://spark.apache.org/docs/latest/api/python/index.html\n",
    "\n",
    "Spark GraphFrames Guide: http://graphframes.github.io/graphframes/docs/_site/user-guide.html\n",
    "\n",
    "Spark GraphFrames Guide: http://graphframes.github.io/graphframes/docs/_site/user-guide.html"
   ]
  },
  {
   "cell_type": "markdown",
   "id": "broad-puppy",
   "metadata": {},
   "source": [
    "### Installing graphframes (Run from a terminal)\n",
    "1. Open a terminal in JupyterLab and run `bash`. Change to work directory:\n",
    "\n",
    "    `cd work`\n",
    "\n",
    "2. Place the graphframes-0.8.1-spark3.0-s_2.12.jar file along with launch.sh in the work directory. Copy graphframes-0.8.1-spark3.0-s_2.12.jar to /usr/spark-3.1.1/jars:\n",
    "\n",
    "    `cp graphframes-0.8.1-spark3.0-s_2.12.jar /usr/spark-3.1.1/jars`\n",
    "    \n",
    "3. Run the following command (Run `exit()` from Pyspark shell once the execution completes):\n",
    "\n",
    "    `pyspark --packages graphframes:graphframes:0.8.1-spark3.0-s_2.12 --jars graphframes-0.3.0-spark3.0-s_2.12.jar`\n",
    "    \n",
    "4. Copy all the jars appearing in /root/.ivy2/jars to your spark's jars directory:\n",
    "\n",
    "    `cp /root/.ivy2/jars/* /usr/spark-3.1.1/jars`\n",
    "    \n",
    "5. Run pyspark command again (Run `exit()` from Pyspark shell once the execution completes):\n",
    "\n",
    "    `pyspark --packages graphframes:graphframes:0.8.1-spark3.0-s_2.12 --jars graphframes-0.3.0-spark3.0-s_2.12.jar`\n",
    "    \n",
    "6. Continue with the instructions in this notebook"
   ]
  },
  {
   "cell_type": "code",
   "execution_count": null,
   "id": "breeding-noise",
   "metadata": {},
   "outputs": [],
   "source": [
    "import pyspark\n",
    "from pyspark.sql import SparkSession, SQLContext"
   ]
  },
  {
   "cell_type": "markdown",
   "id": "asian-michigan",
   "metadata": {},
   "source": [
    "#### The entry point into all functionality in Spark is the SparkSession class. To create a basic SparkSession, just use SparkSession.builder:\n",
    "\n",
    "Also note that graphframes jar is added to the spark context so that graphframes can be imported in the notebook\n",
    "\n",
    "NOTE - Checkpointing must be enabled for applications with any of the following requirements(Here, it is required to run graph connected components):\n",
    " * Usage of stateful transformations - If either updateStateByKey or reduceByKeyAndWindow (with inverse function) is used in the application, then the checkpoint directory must be provided to allow for periodic RDD checkpointing.\n",
    " * Recovering from failures of the driver running the application - Metadata checkpoints are used to recover with progress information. You can setup checkpoint directory using sc.checkpoint(checkpointDirectoryLocation)"
   ]
  },
  {
   "cell_type": "code",
   "execution_count": null,
   "id": "arranged-violence",
   "metadata": {},
   "outputs": [],
   "source": [
    "conf = pyspark.SparkConf().setAll([('spark.master', 'local[*]'),\n",
    "                                   ('spark.app.name', 'Spark GraphFrame Demo')])\n",
    "# Add jar file to current spark context\n",
    "pyspark.SparkContext.getOrCreate(conf).addPyFile('graphframes-0.8.1-spark3.0-s_2.12.jar')\n",
    "\n",
    "spark = SparkSession.builder.config(conf=conf).getOrCreate()\n",
    "spark.setAll\n",
    "\n",
    "# Set checkpoint directory\n",
    "spark.sparkContext.setCheckpointDir('checkpoints')"
   ]
  },
  {
   "cell_type": "code",
   "execution_count": null,
   "id": "primary-slovenia",
   "metadata": {},
   "outputs": [],
   "source": [
    "# Can import graphframe only after adding .jar to context\n",
    "import graphframes"
   ]
  },
  {
   "cell_type": "markdown",
   "id": "colored-machine",
   "metadata": {},
   "source": [
    "#### Create vertex and edge dataframe"
   ]
  },
  {
   "cell_type": "code",
   "execution_count": null,
   "id": "standard-agency",
   "metadata": {},
   "outputs": [],
   "source": [
    "# Create a Vertex DataFrame with unique ID column \"id\"\n",
    "v = spark.createDataFrame([('1', 'Carter', 'Derrick', 50), \n",
    "                           ('2', 'May', 'Derrick', 26),\n",
    "                           ('3', 'Mills', 'Jeff', 80),\n",
    "                           ('4', 'Hood', 'Robert', 65),\n",
    "                           ('5', 'Banks', 'Mike', 93),\n",
    "                           ('98', 'Berg', 'Tim', 28),\n",
    "                           ('99', 'Page', 'Allan', 16)],\n",
    "                          ['id', 'name', 'firstname', 'age'])\n",
    "e = spark.createDataFrame([('1', '2', 'friend'), \n",
    "                           ('2', '1', 'friend'),\n",
    "                           ('3', '1', 'friend'),\n",
    "                           ('1', '3', 'friend'),\n",
    "                           ('2', '3', 'follows'),\n",
    "                           ('3', '4', 'friend'),\n",
    "                           ('4', '3', 'friend'),\n",
    "                           ('5', '3', 'friend'),\n",
    "                           ('3', '5', 'friend'),\n",
    "                           ('4', '5', 'follows'),\n",
    "                           ('98', '99', 'friend'),\n",
    "                           ('99', '98', 'friend')],\n",
    "                          ['src', 'dst', 'type'])"
   ]
  },
  {
   "cell_type": "markdown",
   "id": "distinct-stack",
   "metadata": {},
   "source": [
    "#### Create a graph and run some queries"
   ]
  },
  {
   "cell_type": "code",
   "execution_count": null,
   "id": "seeing-percentage",
   "metadata": {},
   "outputs": [],
   "source": [
    "g = graphframes.GraphFrame(v, e)"
   ]
  },
  {
   "cell_type": "markdown",
   "id": "sticky-lingerie",
   "metadata": {},
   "source": [
    "##### Visualization"
   ]
  },
  {
   "cell_type": "markdown",
   "id": "hydraulic-anatomy",
   "metadata": {},
   "source": [
    "![\"Graph\"](graph.png)"
   ]
  },
  {
   "cell_type": "markdown",
   "id": "parliamentary-graphics",
   "metadata": {},
   "source": [
    "##### Show the in-degrees of all vertices\n",
    "Hint - [`GraphFrame.inDegrees`](http://graphframes.github.io/graphframes/docs/_site/api/python/graphframes.html?highlight=edges#graphframes.GraphFrame.inDegrees)"
   ]
  },
  {
   "cell_type": "code",
   "execution_count": null,
   "id": "cutting-administrator",
   "metadata": {},
   "outputs": [],
   "source": [
    "<<< YOUR CODE HERE >>>"
   ]
  },
  {
   "cell_type": "markdown",
   "id": "expired-amsterdam",
   "metadata": {},
   "source": [
    "##### Count the number of \"friend\" connections in the graph.\n",
    "Hint - `GraphFrame.edges` is a DataFrame holding edge information. Use `filter` on the DataFrame"
   ]
  },
  {
   "cell_type": "code",
   "execution_count": null,
   "id": "musical-honduras",
   "metadata": {},
   "outputs": [],
   "source": [
    "<<< YOUR CODE HERE >>>"
   ]
  },
  {
   "cell_type": "markdown",
   "id": "special-buying",
   "metadata": {},
   "source": [
    "##### Find the shortest paths from '1' and assign the result to 'results'\n",
    "Hint - Use [`Graph.shortestPaths`](https://graphframes.github.io/graphframes/docs/_site/api/python/graphframes.html#graphframes.GraphFrame.shortestPaths)"
   ]
  },
  {
   "cell_type": "code",
   "execution_count": null,
   "id": "foster-reliance",
   "metadata": {},
   "outputs": [],
   "source": [
    "<<< YOUR CODE HERE >>>"
   ]
  },
  {
   "cell_type": "code",
   "execution_count": null,
   "id": "conceptual-shepherd",
   "metadata": {},
   "outputs": [],
   "source": [
    "results.select(\"id\", \"distances\").show()"
   ]
  },
  {
   "cell_type": "markdown",
   "id": "painted-advisory",
   "metadata": {},
   "source": [
    "##### Find the connected components of the graph\n",
    "Hint - [`GraphFrame.connectedComponents`](https://graphframes.github.io/graphframes/docs/_site/api/python/graphframes.html#graphframes.GraphFrame.connectedComponents)\n",
    "\n",
    "NOTE - A random number maybe assigned to each component"
   ]
  },
  {
   "cell_type": "code",
   "execution_count": null,
   "id": "final-spice",
   "metadata": {},
   "outputs": [],
   "source": [
    "<<< YOUR CODE HERE >>>"
   ]
  },
  {
   "cell_type": "code",
   "execution_count": null,
   "id": "injured-orchestra",
   "metadata": {},
   "outputs": [],
   "source": []
  }
 ],
 "metadata": {
  "kernelspec": {
   "display_name": "Python 3",
   "language": "python",
   "name": "python3"
  },
  "language_info": {
   "codemirror_mode": {
    "name": "ipython",
    "version": 3
   },
   "file_extension": ".py",
   "mimetype": "text/x-python",
   "name": "python",
   "nbconvert_exporter": "python",
   "pygments_lexer": "ipython3",
   "version": "3.8.5"
  }
 },
 "nbformat": 4,
 "nbformat_minor": 5
}
