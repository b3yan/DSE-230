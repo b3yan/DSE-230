{
 "cells": [
  {
   "cell_type": "markdown",
   "id": "coupled-toilet",
   "metadata": {},
   "source": [
    "## DSE 230 : Spark GraphFrames\n",
    "\n",
    "* GraphFrames is a package for Apache Spark which provides DataFrame-based Graphs.\n",
    "* GraphFrames represent graphs: vertices (e.g., users) and edges (e.g., relationships between users).\n",
    "* GraphFrames also provide powerful tools for running queries and standard graph algorithms. With GraphFrames, you can easily search for patterns within graphs, find important vertices, and more."
   ]
  },
  {
   "cell_type": "markdown",
   "id": "lovely-attack",
   "metadata": {},
   "source": [
    "### Resources\n",
    "\n",
    "---\n",
    "\n",
    "Spark DataFrame Guide: https://spark.apache.org/docs/latest/sql-programming-guide.html\n",
    "\n",
    "PySpark API Documentation: https://spark.apache.org/docs/latest/api/python/index.html\n",
    "\n",
    "Spark GraphFrames Guide: http://graphframes.github.io/graphframes/docs/_site/user-guide.html\n",
    "\n",
    "Spark GraphFrames Guide: http://graphframes.github.io/graphframes/docs/_site/user-guide.html"
   ]
  },
  {
   "cell_type": "markdown",
   "id": "numeric-encoding",
   "metadata": {},
   "source": [
    "### Installing graphframes (Run from a terminal)\n",
    "1. Place the graphframes-0.8.1-spark3.0-s_2.12.jar file along with launch.sh in the work directory. Copy graphframes-0.8.1-spark3.0-s_2.12.jar to /usr/spark-3.1.1/jars:\n",
    "\n",
    "    `cp graphframes-0.8.1-spark3.0-s_2.12.jar /usr/spark-3.1.1/jars`\n",
    "    \n",
    "2. Run the following command (Run `exit()` from Pyspark shell once the execution completes):\n",
    "\n",
    "    `pyspark --packages graphframes:graphframes:0.8.1-spark3.0-s_2.12 --jars graphframes-0.3.0-spark3.0-s_2.12.jar`\n",
    "    \n",
    "3. Copy all the jars appearing in /root/.ivy2/jars to your spark's jars directory:\n",
    "\n",
    "    `cp /root/.ivy2/jars/* /usr/spark-3.1.1/jars`\n",
    "    \n",
    "4. Run pyspark command again (Run `exit()` from Pyspark shell once the execution completes):\n",
    "\n",
    "    `pyspark --packages graphframes:graphframes:0.8.1-spark3.0-s_2.12 --jars graphframes-0.3.0-spark3.0-s_2.12.jar`\n",
    "    \n",
    "5. Continue with the instructions in this notebook"
   ]
  },
  {
   "cell_type": "code",
   "execution_count": 1,
   "id": "classical-sunday",
   "metadata": {},
   "outputs": [],
   "source": [
    "import pyspark\n",
    "from pyspark.sql import SparkSession, SQLContext"
   ]
  },
  {
   "cell_type": "markdown",
   "id": "systematic-fundamental",
   "metadata": {},
   "source": [
    "#### The entry point into all functionality in Spark is the SparkSession class. To create a basic SparkSession, just use SparkSession.builder:\n",
    "\n",
    "Also note that graphframes jar is added to the spark context so that graphframes can be imported in the notebook"
   ]
  },
  {
   "cell_type": "code",
   "execution_count": 2,
   "id": "frozen-frank",
   "metadata": {},
   "outputs": [],
   "source": [
    "conf = pyspark.SparkConf().setAll([('spark.master', 'local[1]'),\n",
    "                                   ('spark.app.name', 'Spark GraphFrame Demo')])\n",
    "# Add jar file to current spark context\n",
    "pyspark.SparkContext.getOrCreate(conf).addPyFile(\"graphframes-0.8.1-spark3.0-s_2.12.jar\")\n",
    "\n",
    "spark = SparkSession.builder.config(conf=conf).getOrCreate()"
   ]
  },
  {
   "cell_type": "code",
   "execution_count": 3,
   "id": "built-reliance",
   "metadata": {},
   "outputs": [],
   "source": [
    "# Can import graphframe only after adding .jar to context\n",
    "import graphframes"
   ]
  },
  {
   "cell_type": "markdown",
   "id": "indirect-convertible",
   "metadata": {},
   "source": [
    "#### Create vertex and edge dataframe"
   ]
  },
  {
   "cell_type": "code",
   "execution_count": 4,
   "id": "played-broadcasting",
   "metadata": {},
   "outputs": [],
   "source": [
    "# Create a Vertex DataFrame with unique ID column \"id\"\n",
    "v = spark.createDataFrame([\n",
    "  (\"a\", \"Alice\", 34),\n",
    "  (\"b\", \"Bob\", 36),\n",
    "  (\"c\", \"Charlie\", 30),\n",
    "], [\"id\", \"name\", \"age\"])\n",
    "# Create an Edge DataFrame with \"src\" and \"dst\" columns\n",
    "e = spark.createDataFrame([\n",
    "  (\"a\", \"b\", \"friend\"),\n",
    "  (\"b\", \"c\", \"follow\"),\n",
    "  (\"c\", \"b\", \"follow\"),\n",
    "], [\"src\", \"dst\", \"relationship\"])"
   ]
  },
  {
   "cell_type": "markdown",
   "id": "waiting-ancient",
   "metadata": {},
   "source": [
    "#### Create a graph and run some queries"
   ]
  },
  {
   "cell_type": "code",
   "execution_count": 5,
   "id": "premium-richards",
   "metadata": {},
   "outputs": [],
   "source": [
    "g = graphframes.GraphFrame(v, e)"
   ]
  },
  {
   "cell_type": "code",
   "execution_count": 6,
   "id": "injured-disabled",
   "metadata": {},
   "outputs": [
    {
     "name": "stdout",
     "output_type": "stream",
     "text": [
      "+---+--------+\n",
      "| id|inDegree|\n",
      "+---+--------+\n",
      "|  c|       1|\n",
      "|  b|       2|\n",
      "+---+--------+\n",
      "\n"
     ]
    }
   ],
   "source": [
    "# Query: Get in-degree of each vertex.\n",
    "g.inDegrees.show()"
   ]
  },
  {
   "cell_type": "code",
   "execution_count": 7,
   "id": "editorial-timing",
   "metadata": {},
   "outputs": [
    {
     "data": {
      "text/plain": [
       "2"
      ]
     },
     "execution_count": 7,
     "metadata": {},
     "output_type": "execute_result"
    }
   ],
   "source": [
    "# Query: Count the number of \"follow\" connections in the graph.\n",
    "g.edges.filter(\"relationship = 'follow'\").count()"
   ]
  },
  {
   "cell_type": "markdown",
   "id": "attached-holmes",
   "metadata": {},
   "source": [
    "#### Shortest path\n",
    "\n",
    " - Applications of these graph algorithms\n",
    " - Number of connected components - Applications and how the algorithm works"
   ]
  },
  {
   "cell_type": "code",
   "execution_count": 8,
   "id": "organic-mortality",
   "metadata": {},
   "outputs": [],
   "source": [
    "from graphframes.examples import Graphs\n",
    "\n",
    "g = Graphs(spark).friends().cache()  # Get example graph\n",
    "# TODO: Show the graph using a plotting library"
   ]
  },
  {
   "cell_type": "code",
   "execution_count": 9,
   "id": "patent-ontario",
   "metadata": {},
   "outputs": [
    {
     "name": "stdout",
     "output_type": "stream",
     "text": [
      "+---+---------+\n",
      "| id|distances|\n",
      "+---+---------+\n",
      "|  f|       {}|\n",
      "|  a| {a -> 0}|\n",
      "|  e| {a -> 2}|\n",
      "|  d| {a -> 1}|\n",
      "|  b|       {}|\n",
      "|  c|       {}|\n",
      "+---+---------+\n",
      "\n",
      "+---+---------+\n",
      "| id|distances|\n",
      "+---+---------+\n",
      "|  f|       {}|\n",
      "|  a| {a -> 0}|\n",
      "|  e| {a -> 2}|\n",
      "|  d| {a -> 1}|\n",
      "|  b|       {}|\n",
      "|  c|       {}|\n",
      "+---+---------+\n",
      "\n",
      "+---+---------+\n",
      "| id|distances|\n",
      "+---+---------+\n",
      "|  f|       {}|\n",
      "|  a| {a -> 0}|\n",
      "|  e| {a -> 2}|\n",
      "|  d| {a -> 1}|\n",
      "|  b|       {}|\n",
      "|  c|       {}|\n",
      "+---+---------+\n",
      "\n",
      "+---+---------+\n",
      "| id|distances|\n",
      "+---+---------+\n",
      "|  f|       {}|\n",
      "|  a| {a -> 0}|\n",
      "|  e| {a -> 2}|\n",
      "|  d| {a -> 1}|\n",
      "|  b|       {}|\n",
      "|  c|       {}|\n",
      "+---+---------+\n",
      "\n",
      "+---+---------+\n",
      "| id|distances|\n",
      "+---+---------+\n",
      "|  f|       {}|\n",
      "|  a| {a -> 0}|\n",
      "|  e| {a -> 2}|\n",
      "|  d| {a -> 1}|\n",
      "|  b|       {}|\n",
      "|  c|       {}|\n",
      "+---+---------+\n",
      "\n",
      "+---+---------+\n",
      "| id|distances|\n",
      "+---+---------+\n",
      "|  f|       {}|\n",
      "|  a| {a -> 0}|\n",
      "|  e| {a -> 2}|\n",
      "|  d| {a -> 1}|\n",
      "|  b|       {}|\n",
      "|  c|       {}|\n",
      "+---+---------+\n",
      "\n",
      "+---+---------+\n",
      "| id|distances|\n",
      "+---+---------+\n",
      "|  f|       {}|\n",
      "|  a| {a -> 0}|\n",
      "|  e| {a -> 2}|\n",
      "|  d| {a -> 1}|\n",
      "|  b|       {}|\n",
      "|  c|       {}|\n",
      "+---+---------+\n",
      "\n",
      "+---+---------+\n",
      "| id|distances|\n",
      "+---+---------+\n",
      "|  f|       {}|\n",
      "|  a| {a -> 0}|\n",
      "|  e| {a -> 2}|\n",
      "|  d| {a -> 1}|\n",
      "|  b|       {}|\n",
      "|  c|       {}|\n",
      "+---+---------+\n",
      "\n",
      "10.5 s ± 866 ms per loop (mean ± std. dev. of 7 runs, 1 loop each)\n"
     ]
    }
   ],
   "source": [
    "%%timeit\n",
    "results = g.shortestPaths(landmarks=[\"a\"])\n",
    "results.select(\"id\", \"distances\").show()"
   ]
  },
  {
   "cell_type": "code",
   "execution_count": null,
   "id": "referenced-tooth",
   "metadata": {},
   "outputs": [],
   "source": []
  }
 ],
 "metadata": {
  "kernelspec": {
   "display_name": "Python 3",
   "language": "python",
   "name": "python3"
  },
  "language_info": {
   "codemirror_mode": {
    "name": "ipython",
    "version": 3
   },
   "file_extension": ".py",
   "mimetype": "text/x-python",
   "name": "python",
   "nbconvert_exporter": "python",
   "pygments_lexer": "ipython3",
   "version": "3.8.5"
  }
 },
 "nbformat": 4,
 "nbformat_minor": 5
}
