{
 "cells": [
  {
   "cell_type": "markdown",
   "id": "solar-minister",
   "metadata": {},
   "source": [
    "# DSE 230: Programming Assignment 3 - Linear Regression\n",
    "\n",
    "#### Tasks: \n",
    "\n",
    "- Linear Regression on the Boston Housing dataset.  \n",
    "  \n",
    "- Submission on Gradescope:\n",
    "  - Submit this Jupyter Notebook as a PDF to \"PA3 Notebook\"\n",
    "  - Convert this Notebook to a .py file and submit that to \"PA3\"\n",
    "\n",
    "#### Due date: Friday 5/14/2021 at 11:59 PM PST\n",
    "\n",
    "---\n",
    "\n",
    "Remember: when in doubt, read the documentation first. It's always helpful to search for the class that you're trying to work with, e.g. pyspark.sql.DataFrame. \n",
    "\n",
    "PySpark API Documentation: https://spark.apache.org/docs/latest/api/python/index.html\n",
    "\n",
    "Spark DataFrame Guide:  https://spark.apache.org/docs/latest/sql-programming-guide.html\n",
    "\n",
    "Spark MLlib Guide: https://spark.apache.org/docs/latest/ml-guide.html"
   ]
  },
  {
   "cell_type": "markdown",
   "id": "vertical-cooperation",
   "metadata": {},
   "source": [
    "### Import libraries/functions"
   ]
  },
  {
   "cell_type": "code",
   "execution_count": 1,
   "id": "raising-greeting",
   "metadata": {},
   "outputs": [],
   "source": [
    "from pyspark import SparkConf, SparkContext\n",
    "from pyspark.sql import SQLContext\n",
    "import pyspark\n",
    "from pyspark.sql import SparkSession\n",
    "from pyspark.ml.evaluation import RegressionEvaluator\n",
    "from pyspark.ml.regression import LinearRegression\n",
    "from pyspark.ml.feature import StandardScaler\n",
    "from pyspark.ml.feature import VectorAssembler\n",
    "from matplotlib.pyplot import figure\n",
    "import matplotlib.pyplot as plt\n",
    "import numpy as np"
   ]
  },
  {
   "cell_type": "markdown",
   "id": "bright-allocation",
   "metadata": {},
   "source": [
    "### Initialize Spark\n",
    "* Initialize Spark with 2 cores"
   ]
  },
  {
   "cell_type": "code",
   "execution_count": 2,
   "id": "statewide-fellowship",
   "metadata": {},
   "outputs": [],
   "source": [
    "conf = pyspark.SparkConf().setAll([('spark.master', 'local[2]'),\n",
    "                                   ('spark.app.name', 'Python Spark SQL Demo')])\n",
    "spark = SparkSession.builder.config(conf=conf).getOrCreate()"
   ]
  },
  {
   "cell_type": "markdown",
   "id": "governmental-fields",
   "metadata": {},
   "source": [
    "### Read the data from Boston_Housing.csv file\n",
    "* Print the number of rows in the dataframe"
   ]
  },
  {
   "cell_type": "code",
   "execution_count": 3,
   "id": "bridal-liver",
   "metadata": {},
   "outputs": [
    {
     "name": "stdout",
     "output_type": "stream",
     "text": [
      "506\n"
     ]
    }
   ],
   "source": [
    "# Create DataFrame based on contents of a JSON file\n",
    "df = spark.read.csv(\"file:///home/work/Boston_Housing.csv\", header = True, inferSchema = True)\n",
    "print(df.count())"
   ]
  },
  {
   "cell_type": "markdown",
   "id": "incredible-coordination",
   "metadata": {},
   "source": [
    "### Column names in file and their description\n",
    "\n",
    "CRIM — per capita crime rate by town.\n",
    "\n",
    "ZN — proportion of residential land zoned for lots over 25,000 sq.ft.\n",
    "\n",
    "INDUS — proportion of non-retail business acres per town.\n",
    "\n",
    "CHAS — Charles River dummy variable (= 1 if tract bounds river; 0 otherwise).\n",
    "\n",
    "NOX — nitrogen oxides concentration (parts per 10 million).\n",
    "\n",
    "RM — average number of rooms per dwelling.\n",
    "\n",
    "AGE — proportion of owner-occupied units built prior to 1940.\n",
    "\n",
    "DIS — weighted mean of distances to five Boston employment centres.\n",
    "\n",
    "RAD — index of accessibility to radial highways.\n",
    "\n",
    "TAX — full-value property-tax rate per $10,000.\n",
    "\n",
    "PTRATIO — pupil-teacher ratio by town.\n",
    "\n",
    "BLACK — 1000(Bk — 0.63)² where Bk is the proportion of blacks by town.\n",
    "\n",
    "LSTAT — lower status of the population (percent).\n",
    "\n",
    "MV — median value of owner-occupied homes in $1000s. This is the target variable."
   ]
  },
  {
   "cell_type": "markdown",
   "id": "coordinate-staff",
   "metadata": {},
   "source": [
    "### See one row of the dataframe"
   ]
  },
  {
   "cell_type": "code",
   "execution_count": 4,
   "id": "sharp-crack",
   "metadata": {},
   "outputs": [
    {
     "name": "stdout",
     "output_type": "stream",
     "text": [
      "+-------+----+-----+----+-----+-----+----+----+---+-----+-------+-----+-----+----+\n",
      "|   CRIM|  ZN|INDUS|CHAS|  NOX|   RM| AGE| DIS|RAD|  TAX|PTRATIO|BLACK|LSTAT|  MV|\n",
      "+-------+----+-----+----+-----+-----+----+----+---+-----+-------+-----+-----+----+\n",
      "|0.00632|18.0| 2.31|   0|0.538|6.575|65.2|4.09|  1|296.0|   15.3|396.9| 4.98|24.0|\n",
      "+-------+----+-----+----+-----+-----+----+----+---+-----+-------+-----+-----+----+\n",
      "only showing top 1 row\n",
      "\n"
     ]
    }
   ],
   "source": [
    "df.show(1)"
   ]
  },
  {
   "cell_type": "markdown",
   "id": "forward-watson",
   "metadata": {},
   "source": [
    "### Helper function for filling columns using mean or median strategy"
   ]
  },
  {
   "cell_type": "code",
   "execution_count": 5,
   "id": "sublime-content",
   "metadata": {},
   "outputs": [],
   "source": [
    "from pyspark.ml.feature import Imputer\n",
    "\n",
    "def fill_na(df, strategy):    \n",
    "    imputer = Imputer(\n",
    "        strategy=strategy,\n",
    "        inputCols=df.columns, \n",
    "        outputCols=[\"{}_imputed\".format(c) for c in df.columns]\n",
    "    )\n",
    "    \n",
    "    new_df = imputer.fit(df).transform(df)\n",
    "    \n",
    "    # Select the newly created columns with all filled values\n",
    "    new_df = new_df.select([c for c in new_df.columns if \"imputed\" in c])\n",
    "    \n",
    "    for col in new_df.columns:\n",
    "        new_df = new_df.withColumnRenamed(col, col.split(\"_imputed\")[0])\n",
    "        \n",
    "    return new_df"
   ]
  },
  {
   "cell_type": "markdown",
   "id": "following-report",
   "metadata": {},
   "source": [
    "### Feature selection\n",
    "* Print schema to verify"
   ]
  },
  {
   "cell_type": "code",
   "execution_count": 6,
   "id": "increased-ethnic",
   "metadata": {},
   "outputs": [
    {
     "name": "stdout",
     "output_type": "stream",
     "text": [
      "root\n",
      " |-- CRIM: double (nullable = true)\n",
      " |-- ZN: double (nullable = true)\n",
      " |-- INDUS: double (nullable = true)\n",
      " |-- CHAS: integer (nullable = true)\n",
      " |-- NOX: double (nullable = true)\n",
      " |-- RM: double (nullable = true)\n",
      " |-- AGE: double (nullable = true)\n",
      " |-- DIS: double (nullable = true)\n",
      " |-- RAD: integer (nullable = true)\n",
      " |-- TAX: double (nullable = true)\n",
      " |-- PTRATIO: double (nullable = true)\n",
      " |-- BLACK: double (nullable = true)\n",
      " |-- LSTAT: double (nullable = true)\n",
      " |-- MV: double (nullable = true)\n",
      "\n"
     ]
    }
   ],
   "source": [
    "# These are the column names in the csv file as described above.\n",
    "col_names = ['CRIM' , 'ZN', 'INDUS', 'CHAS', 'NOX', 'RM', 'AGE', 'DIS', 'RAD', 'TAX', 'PTRATIO', 'BLACK', 'LSTAT', 'MV']\n",
    "\n",
    "df.printSchema()"
   ]
  },
  {
   "cell_type": "markdown",
   "id": "expensive-replication",
   "metadata": {},
   "source": [
    "### Drop NA's in the target variable `MV`\n",
    "* Print the number of remaining rows"
   ]
  },
  {
   "cell_type": "code",
   "execution_count": 7,
   "id": "single-screw",
   "metadata": {},
   "outputs": [
    {
     "name": "stdout",
     "output_type": "stream",
     "text": [
      "506\n"
     ]
    }
   ],
   "source": [
    "df = df.dropna(subset = ['MV'])\n",
    "print(df.count())"
   ]
  },
  {
   "cell_type": "markdown",
   "id": "photographic-subscription",
   "metadata": {},
   "source": [
    "### Fill the NA's for remaining columns using a mean strategy\n",
    "* Use the `fill_na` function provided above"
   ]
  },
  {
   "cell_type": "code",
   "execution_count": 8,
   "id": "going-garlic",
   "metadata": {},
   "outputs": [
    {
     "data": {
      "text/plain": [
       "DataFrame[INDUS: double, NOX: double, AGE: double, CHAS: int, PTRATIO: double, CRIM: double, DIS: double, RAD: int, RM: double, ZN: double, TAX: double, MV: double, BLACK: double, LSTAT: double]"
      ]
     },
     "execution_count": 8,
     "metadata": {},
     "output_type": "execute_result"
    }
   ],
   "source": [
    "fill_na(df, 'mean')"
   ]
  },
  {
   "cell_type": "markdown",
   "id": "protected-cholesterol",
   "metadata": {},
   "source": [
    "### Create feature vector using VectorAssembler\n",
    "\n",
    "* Create a vector column composed of _all_ the features\n",
    "* Don't include the label \"MV\" here since label isn't a feature"
   ]
  },
  {
   "cell_type": "code",
   "execution_count": 9,
   "id": "elder-stand",
   "metadata": {},
   "outputs": [
    {
     "name": "stdout",
     "output_type": "stream",
     "text": [
      "+--------------------+----+\n",
      "|            features|  MV|\n",
      "+--------------------+----+\n",
      "|[0.00632,18.0,2.3...|24.0|\n",
      "|[0.02731,0.0,7.07...|21.6|\n",
      "+--------------------+----+\n",
      "only showing top 2 rows\n",
      "\n"
     ]
    }
   ],
   "source": [
    "vectorAssembler = VectorAssembler(inputCols = ['CRIM' , 'ZN', 'INDUS', 'CHAS', 'NOX', 'RM', 'AGE', 'DIS', 'RAD', 'TAX', 'PTRATIO', 'BLACK', 'LSTAT'], outputCol = 'features')\n",
    "vhouse_df = vectorAssembler.transform(df)\n",
    "vhouse_df = vhouse_df.select(['features', 'MV'])\n",
    "vhouse_df.show(2)"
   ]
  },
  {
   "cell_type": "markdown",
   "id": "joint-fabric",
   "metadata": {},
   "source": [
    "### Print first 5 rows of the created dataframe"
   ]
  },
  {
   "cell_type": "code",
   "execution_count": 10,
   "id": "backed-ebony",
   "metadata": {},
   "outputs": [
    {
     "name": "stdout",
     "output_type": "stream",
     "text": [
      "+--------------------+----+\n",
      "|            features|  MV|\n",
      "+--------------------+----+\n",
      "|[0.00632,18.0,2.3...|24.0|\n",
      "|[0.02731,0.0,7.07...|21.6|\n",
      "|[0.02729,0.0,7.07...|34.7|\n",
      "|[0.03237,0.0,2.18...|33.4|\n",
      "|[0.06905,0.0,2.18...|36.2|\n",
      "+--------------------+----+\n",
      "only showing top 5 rows\n",
      "\n",
      "None\n"
     ]
    }
   ],
   "source": [
    "print(vhouse_df.show(5))"
   ]
  },
  {
   "cell_type": "markdown",
   "id": "confirmed-moore",
   "metadata": {},
   "source": [
    "### Rename the column `MV` to `Label`"
   ]
  },
  {
   "cell_type": "code",
   "execution_count": 11,
   "id": "charged-pharmaceutical",
   "metadata": {},
   "outputs": [],
   "source": [
    "vhouse_df = vhouse_df.withColumnRenamed('MV', 'Label')"
   ]
  },
  {
   "cell_type": "markdown",
   "id": "phantom-satellite",
   "metadata": {},
   "source": [
    "### Split the dataframe using the randomSplit() function \n",
    " * Train dataframe and test dataframe with a 75:25 split between them\n",
    " * Use seed=42 as one the parameters of the randomSplit() function to maintain consistency among all submissions.\n",
    " * Print the number of rows in train and test dataframes"
   ]
  },
  {
   "cell_type": "code",
   "execution_count": 12,
   "id": "authorized-village",
   "metadata": {},
   "outputs": [
    {
     "name": "stdout",
     "output_type": "stream",
     "text": [
      "number of rows in train dataframe: 404\n",
      "number of rows in test dataframe: 102\n"
     ]
    }
   ],
   "source": [
    "train_df, test_df = vhouse_df.randomSplit([0.75, 0.25], seed = 42)\n",
    "print('number of rows in train dataframe:', train_df.count())\n",
    "print('number of rows in test dataframe:',test_df.count())"
   ]
  },
  {
   "cell_type": "markdown",
   "id": "canadian-trash",
   "metadata": {},
   "source": [
    "### Use the StandardScaler to standardize your data.\n",
    "* **IMPORTANT** - Use only the training data for scaling\n",
    "* Standardize values to have zero mean and unit standard deviation"
   ]
  },
  {
   "cell_type": "code",
   "execution_count": 13,
   "id": "entertaining-device",
   "metadata": {},
   "outputs": [],
   "source": [
    "scaler = StandardScaler(inputCol = \"features\", outputCol = \"features_scaled\", withStd = True, withMean = False)\n",
    "scalerModel = scaler.fit(train_df)"
   ]
  },
  {
   "cell_type": "markdown",
   "id": "hairy-worth",
   "metadata": {},
   "source": [
    "### Scale your training and test data with the same mean and std that you'll get from the scaler."
   ]
  },
  {
   "cell_type": "code",
   "execution_count": 14,
   "id": "exempt-modern",
   "metadata": {},
   "outputs": [
    {
     "name": "stdout",
     "output_type": "stream",
     "text": [
      "+--------------------+-----+--------------------+\n",
      "|            features|Label|     features_scaled|\n",
      "+--------------------+-----+--------------------+\n",
      "|[0.00632,18.0,2.3...| 24.0|[7.93766268468581...|\n",
      "|[0.00906,90.0,2.9...| 32.2|[0.00113789911270...|\n",
      "+--------------------+-----+--------------------+\n",
      "only showing top 2 rows\n",
      "\n",
      "+--------------------+-----+--------------------+\n",
      "|            features|Label|     features_scaled|\n",
      "+--------------------+-----+--------------------+\n",
      "|[0.01096,55.0,2.2...| 22.0|[0.00137653137696...|\n",
      "|[0.01381,80.0,0.4...| 50.0|[0.00173447977334...|\n",
      "+--------------------+-----+--------------------+\n",
      "only showing top 2 rows\n",
      "\n"
     ]
    },
    {
     "data": {
      "text/plain": [
       "(None, None)"
      ]
     },
     "execution_count": 14,
     "metadata": {},
     "output_type": "execute_result"
    }
   ],
   "source": [
    "train_df_s = scalerModel.transform(train_df)\n",
    "test_df_s  = scalerModel.transform(test_df)\n",
    "train_df_s.show(2), test_df_s.show(2)"
   ]
  },
  {
   "cell_type": "markdown",
   "id": "baking-carpet",
   "metadata": {},
   "source": [
    "### Use `scaler_model.mean`, `scaler_model.std` to see the mean and std for each feature"
   ]
  },
  {
   "cell_type": "code",
   "execution_count": 15,
   "id": "broke-masters",
   "metadata": {},
   "outputs": [
    {
     "name": "stdout",
     "output_type": "stream",
     "text": [
      "[3.417508341584158,10.780940594059409,11.122549504950493,0.06930693069306931,0.55522202970297,6.283118811881186,68.90816831683166,3.807568811881189,9.415841584158414,406.81930693069256,18.420049504950516,358.26940594059397,12.69207920792079] \n",
      "\n",
      "[7.9620415367274475,22.280574011219173,6.848379329391046,0.2542902638996019,0.1177128521788447,0.6991440074611291,27.974318382121538,2.125863132198606,8.595419550856091,167.71697039159437,2.209211259613418,87.31272768062414,7.12031902801469]\n"
     ]
    }
   ],
   "source": [
    "print(scalerModel.mean, '\\n')\n",
    "print(scalerModel.std)"
   ]
  },
  {
   "cell_type": "markdown",
   "id": "august-retro",
   "metadata": {},
   "source": [
    "### Select only the `features` and `label` columns from both train and test dataset"
   ]
  },
  {
   "cell_type": "code",
   "execution_count": 16,
   "id": "increasing-shoot",
   "metadata": {},
   "outputs": [],
   "source": [
    "lr_train_df = train_df_s.drop(\"features\")\n",
    "lr_test_df = test_df_s.drop(\"features\")"
   ]
  },
  {
   "cell_type": "markdown",
   "id": "dutch-guard",
   "metadata": {},
   "source": [
    "### Show the first 5 rows of the resulting train dataframe"
   ]
  },
  {
   "cell_type": "code",
   "execution_count": 17,
   "id": "greenhouse-newark",
   "metadata": {},
   "outputs": [
    {
     "name": "stdout",
     "output_type": "stream",
     "text": [
      "+-----+--------------------+\n",
      "|Label|     features_scaled|\n",
      "+-----+--------------------+\n",
      "| 24.0|[7.93766268468581...|\n",
      "| 32.2|[0.00113789911270...|\n",
      "| 32.7|[0.00163400303050...|\n",
      "| 35.4|[0.00164656262335...|\n",
      "| 18.9|[0.00170810462835...|\n",
      "+-----+--------------------+\n",
      "only showing top 5 rows\n",
      "\n",
      "+-----+--------------------+\n",
      "|Label|     features_scaled|\n",
      "+-----+--------------------+\n",
      "| 22.0|[0.00137653137696...|\n",
      "| 50.0|[0.00173447977334...|\n",
      "| 29.1|[0.00180732541190...|\n",
      "| 24.5|[0.00188519488761...|\n",
      "| 32.9|[0.00223309560971...|\n",
      "+-----+--------------------+\n",
      "only showing top 5 rows\n",
      "\n"
     ]
    }
   ],
   "source": [
    "lr_train_df.show(5)\n",
    "lr_test_df.show(5)"
   ]
  },
  {
   "cell_type": "markdown",
   "id": "explicit-intervention",
   "metadata": {},
   "source": [
    "### Use LinearRegression for training a regression model.\n",
    "* Use maxIter = 100.\n",
    "* Use the following values for regParam and elasticNetParam and see which one works better.\n",
    "  1. regParam = 0, elasticNetParam = 0\n",
    "  2. regParam = 0.3, elasticNetParam = 0.5\n",
    "\n",
    "Look into the [API](https://spark.apache.org/docs/3.1.1/api/python/reference/api/pyspark.ml.regression.LinearRegression.html) specification to get more details."
   ]
  },
  {
   "cell_type": "code",
   "execution_count": 18,
   "id": "intellectual-alexandria",
   "metadata": {
    "tags": []
   },
   "outputs": [],
   "source": [
    "lr_1 = LinearRegression(featuresCol = 'features_scaled', labelCol = 'Label', maxIter = 100, regParam = 0, elasticNetParam = 0)\n",
    "lr_2 = LinearRegression(featuresCol = 'features_scaled', labelCol = 'Label', maxIter = 100, regParam = 0.3, elasticNetParam = 0.5)\n",
    "lr_model_1 = lr_1.fit(lr_train_df)\n",
    "lr_model_2 = lr_2.fit(lr_train_df)"
   ]
  },
  {
   "cell_type": "markdown",
   "id": "hidden-thong",
   "metadata": {},
   "source": [
    "### Print the coefficients and intercept of the linear regression model"
   ]
  },
  {
   "cell_type": "code",
   "execution_count": 19,
   "id": "north-triangle",
   "metadata": {},
   "outputs": [
    {
     "name": "stdout",
     "output_type": "stream",
     "text": [
      "Coefficients: [-0.8654982839390827,1.0767159784838343,0.2880629877607016,0.69962698048881,-2.2250000902411817,2.5886810435508756,0.22320894951489906,-3.0060571952448862,2.8184164805471905,-2.469440944915519,-2.0384477854091956,0.7433366956913473,-3.6258032360105354]\n",
      "Intercept: 37.13708307718883\n",
      "\n",
      "Coefficients: [-0.3783762979879486,0.536880059016428,-0.051277061164408506,0.6864877929868027,-1.3030995642218615,2.862037092063489,0.0,-1.9567109263445066,0.5951496896747155,-0.638225649070947,-1.7764673014471672,0.5995565278720346,-3.4591362643600845]\n",
      "Intercept: 25.711456170521004\n"
     ]
    }
   ],
   "source": [
    "print(\"Coefficients: \" + str(lr_model_1.coefficients))\n",
    "print(\"Intercept: \" + str(lr_model_1.intercept))\n",
    "\n",
    "print(\"\\nCoefficients: \" + str(lr_model_2.coefficients))\n",
    "print(\"Intercept: \" + str(lr_model_2.intercept))"
   ]
  },
  {
   "cell_type": "markdown",
   "id": "sonic-terminology",
   "metadata": {},
   "source": [
    "### Print the training results\n",
    "* Print the root mean squared error(RMSE) of the training\n",
    "* Print the coefficient of determination(r2) of the training"
   ]
  },
  {
   "cell_type": "code",
   "execution_count": 20,
   "id": "sapphire-death",
   "metadata": {},
   "outputs": [
    {
     "name": "stdout",
     "output_type": "stream",
     "text": [
      "RMSE: 4.680225\n",
      "r2: 0.732932\n",
      "\n",
      "RMSE: 4.802660\n",
      "r2: 0.718776\n"
     ]
    }
   ],
   "source": [
    "trainingSummary_1 = lr_model_1.summary\n",
    "print(\"RMSE: %f\" % trainingSummary_1.rootMeanSquaredError)\n",
    "print(\"r2: %f\" % trainingSummary_1.r2)\n",
    "\n",
    "trainingSummary_2 = lr_model_2.summary\n",
    "print(\"\\nRMSE: %f\" % trainingSummary_2.rootMeanSquaredError)\n",
    "print(\"r2: %f\" % trainingSummary_2.r2)"
   ]
  },
  {
   "cell_type": "code",
   "execution_count": 21,
   "id": "advisory-copyright",
   "metadata": {},
   "outputs": [
    {
     "name": "stdout",
     "output_type": "stream",
     "text": [
      "1. regParam = 0, elasticNetParam = 0 works better\n"
     ]
    }
   ],
   "source": [
    "# RMSE (Root Mean Squared Error) is the error rate by the square root of MSE.\n",
    "# R-squared (Coefficient of determination) represents the coefficient of how well the values fit compared to the original values. The value from 0 to 1 interpreted as percentages. The higher the value is, the better the model is.\n",
    "print('1. regParam = 0, elasticNetParam = 0 works better')"
   ]
  },
  {
   "cell_type": "markdown",
   "id": "empirical-prefix",
   "metadata": {},
   "source": [
    "### Test the model on test data\n",
    "* Print the RMSE and r2 on test data\n",
    "* Hint - Refer to [`RegressionEvaluator`](https://spark.apache.org/docs/latest/api/python/reference/api/pyspark.ml.evaluation.RegressionEvaluator.html)"
   ]
  },
  {
   "cell_type": "code",
   "execution_count": 22,
   "id": "billion-salem",
   "metadata": {},
   "outputs": [
    {
     "name": "stdout",
     "output_type": "stream",
     "text": [
      "RMSE: 4.797105\n",
      "r2: 0.754942\n"
     ]
    }
   ],
   "source": [
    "lr_predictions = lr_model_2.transform(lr_test_df)\n",
    "lr_predictions.select(\"prediction\", \"Label\", \"features_scaled\")\n",
    "\n",
    "lr_evaluator = RegressionEvaluator(predictionCol = \"prediction\", labelCol = \"Label\", metricName = \"r2\")\n",
    "\n",
    "test_result = lr_model_2.evaluate(lr_test_df)\n",
    "\n",
    "print(\"RMSE: %f\" % test_result.rootMeanSquaredError)\n",
    "print(\"r2: %f\" % lr_evaluator.evaluate(lr_predictions))"
   ]
  },
  {
   "cell_type": "markdown",
   "id": "separated-deficit",
   "metadata": {},
   "source": [
    "### Plot results on test data(using matplotlib)\n",
    "\n",
    " * In the test data, you have labels, and you also have predictions for each of the test data.\n",
    " * Plot a scatter plot of the labels(in blue) and predictions(in red) on a single plot so that you can visualize how the predictions look as compared to the ground truth.\n"
   ]
  },
  {
   "cell_type": "code",
   "execution_count": 23,
   "id": "executive-tracy",
   "metadata": {
    "tags": []
   },
   "outputs": [
    {
     "data": {
      "image/png": "[encoded data removed]",
      "text/plain": [
       "<Figure size 800x800 with 1 Axes>"
      ]
     },
     "metadata": {
      "needs_background": "light"
     },
     "output_type": "display_data"
    }
   ],
   "source": [
    "figure(figsize = (10, 10), dpi = 80)\n",
    "\n",
    "plt.title('Results on test data')\n",
    "plt.xlabel('row number')\n",
    "plt.ylabel('labels and predictions')\n",
    "\n",
    "x = np.arange(lr_predictions.count())\n",
    "y1 = lr_predictions.select('Label').toPandas()\n",
    "y2 = lr_predictions.select('prediction').toPandas()\n",
    "\n",
    "plt.scatter(x, y1, color = 'blue', marker = '*', label = 'labels', alpha = 0.9, s = 60)\n",
    "plt.scatter(x, y2, color = 'red', marker = 'o', label = 'predictions', alpha = 0.9, s = 60)\n",
    "\n",
    "plt.xlim(-10, 110)\n",
    "plt.ylim(0, 60)\n",
    "\n",
    "plt.legend()\n",
    "plt.grid()\n",
    "plt.show()"
   ]
  },
  {
   "cell_type": "markdown",
   "id": "quiet-blues",
   "metadata": {},
   "source": [
    "### Add regularization to model\n",
    "* Try different values of regularization parameters `regParam` and `elasticNetParam` to see how performance changes.\n",
    "* Look into the API specification for [regParam](https://spark.apache.org/docs/latest/api/python/reference/api/pyspark.ml.regression.LinearRegression.html#pyspark.ml.regression.LinearRegression.regParam) and [elasticNetParam](https://spark.apache.org/docs/latest/api/python/reference/api/pyspark.ml.regression.LinearRegression.html#pyspark.ml.regression.LinearRegression.elasticNetParam) to get more details."
   ]
  },
  {
   "cell_type": "code",
   "execution_count": 24,
   "id": "supreme-recycling",
   "metadata": {},
   "outputs": [
    {
     "name": "stdout",
     "output_type": "stream",
     "text": [
      "regParam: 0.0\n",
      "RMSE: 4.6802249769901465\n",
      "r2: 0.7329316235257317 \n",
      "\n",
      "regParam: 0.001\n",
      "RMSE: 4.680225381983311\n",
      "r2: 0.7329315773053589 \n",
      "\n",
      "regParam: 0.01\n",
      "RMSE: 4.680264517229217\n",
      "r2: 0.7329271109255413 \n",
      "\n",
      "regParam: 0.1\n",
      "RMSE: 4.683404063344088\n",
      "r2: 0.7325686829438911 \n",
      "\n",
      "regParam: 0.5\n",
      "RMSE: 4.720788605369378\n",
      "r2: 0.7282821853007357 \n",
      "\n",
      "regParam: 1.0\n",
      "RMSE: 4.777102441193911\n",
      "r2: 0.7217609285384217 \n",
      "\n",
      "regParam: 2.0\n",
      "RMSE: 4.887228606670016\n",
      "r2: 0.7087846152530008 \n",
      "\n"
     ]
    }
   ],
   "source": [
    "# Fixed maxIter = 100 and elasticNetParam = 0.0\n",
    "for i in [0.0, 0.001, 0.01, 0.1, 0.5, 1.0, 2.0]:\n",
    "    lr_turn = LinearRegression(featuresCol = 'features_scaled', labelCol = 'Label', maxIter = 100, regParam = i, elasticNetParam = 0.0)\n",
    "    lr_model_trun = lr_turn.fit(lr_train_df)\n",
    "    trainingSummary_turn = lr_model_trun.summary\n",
    "    print(\"regParam:\", i)\n",
    "    print(\"RMSE:\", trainingSummary_turn.rootMeanSquaredError)\n",
    "    print(\"r2:\", trainingSummary_turn.r2, '\\n')"
   ]
  },
  {
   "cell_type": "code",
   "execution_count": 25,
   "id": "laden-truck",
   "metadata": {},
   "outputs": [
    {
     "name": "stdout",
     "output_type": "stream",
     "text": [
      "elasticNetParam: 0.0\n",
      "RMSE: 4.720788605369378\n",
      "r2: 0.7282821853007357 \n",
      "\n",
      "elasticNetParam: 0.25\n",
      "RMSE: 4.802772448395353\n",
      "r2: 0.7187626302680573 \n",
      "\n",
      "elasticNetParam: 0.5\n",
      "RMSE: 4.919878044376446\n",
      "r2: 0.704880652991825 \n",
      "\n",
      "elasticNetParam: 0.75\n",
      "RMSE: 5.02044542932767\n",
      "r2: 0.6926922534843293 \n",
      "\n",
      "elasticNetParam: 1.0\n",
      "RMSE: 5.132810679216404\n",
      "r2: 0.6787822778451524 \n",
      "\n"
     ]
    }
   ],
   "source": [
    "# Fixed maxIter = 100 and regParam = 0.0\n",
    "for i in [0.0, 0.25, 0.5, 0.75, 1.0]:\n",
    "    lr_turn_2 = LinearRegression(featuresCol = 'features_scaled', labelCol = 'Label', maxIter = 100, regParam = 0.5 , elasticNetParam = i)\n",
    "    lr_model_trun_2 = lr_turn_2.fit(lr_train_df)\n",
    "    trainingSummary_turn_2 = lr_model_trun_2.summary\n",
    "    print(\"elasticNetParam:\", i)\n",
    "    print(\"RMSE:\", trainingSummary_turn_2.rootMeanSquaredError)\n",
    "    print(\"r2:\", trainingSummary_turn_2.r2, '\\n')"
   ]
  },
  {
   "cell_type": "code",
   "execution_count": 26,
   "id": "increasing-emerald",
   "metadata": {},
   "outputs": [
    {
     "name": "stdout",
     "output_type": "stream",
     "text": [
      "regParam is bigger, the error rate is bigger, vice versa.\n",
      "elasticNetParam is bigger, the error rate is bigger, vice versa.\n"
     ]
    }
   ],
   "source": [
    "print('regParam is bigger, the error rate is bigger, vice versa.')\n",
    "print('elasticNetParam is bigger, the error rate is bigger, vice versa.')"
   ]
  },
  {
   "cell_type": "code",
   "execution_count": 27,
   "id": "copyrighted-hardware",
   "metadata": {
    "tags": []
   },
   "outputs": [],
   "source": [
    "from pyspark.ml.tuning import ParamGridBuilder, CrossValidator\n",
    "\n",
    "lr_3 = LinearRegression(featuresCol = 'features_scaled', labelCol = 'Label')\n",
    "\n",
    "# Create ParamGrid for Cross Validation\n",
    "lrparamGrid = (ParamGridBuilder()\n",
    "             .addGrid(lr_3.regParam, [0.0, 0.001, 0.01, 0.1, 0.5, 1.0, 2.0])\n",
    "             .addGrid(lr_3.elasticNetParam, [0.0, 0.25, 0.5, 0.75, 1.0])\n",
    "             .addGrid(lr_3.maxIter, [1, 5, 10, 20, 50, 100, 200])\n",
    "             .build())\n",
    "\n",
    "lrevaluator = RegressionEvaluator(predictionCol = \"prediction\", labelCol = \"Label\", metricName = \"rmse\")\n",
    "\n",
    "# Create 5-fold CrossValidator\n",
    "lrcv = CrossValidator(estimator = lr_3, estimatorParamMaps = lrparamGrid, evaluator = lrevaluator, numFolds = 5)\n",
    "\n",
    "# Run cross validations\n",
    "lrcvModel = lrcv.fit(lr_test_df)\n",
    "best_model = lrcvModel.bestModel"
   ]
  },
  {
   "cell_type": "code",
   "execution_count": 28,
   "id": "eastern-purse",
   "metadata": {},
   "outputs": [
    {
     "name": "stdout",
     "output_type": "stream",
     "text": [
      "best regParam: 0.001 \n",
      "best elasticNetParam: 0.25 \n",
      "best max iter: 5\n"
     ]
    }
   ],
   "source": [
    "best_reg_param = best_model._java_obj.getRegParam()\n",
    "best_elasticnet_param = best_model._java_obj.getElasticNetParam()\n",
    "best_max_Iter = best_model._java_obj.getMaxIter()\n",
    "print('best regParam:', best_reg_param, '\\nbest elasticNetParam:', best_elasticnet_param, '\\nbest max iter:', best_max_Iter)"
   ]
  },
  {
   "cell_type": "code",
   "execution_count": 29,
   "id": "helpful-forwarding",
   "metadata": {},
   "outputs": [
    {
     "name": "stdout",
     "output_type": "stream",
     "text": [
      "\n",
      "RMSE: 5.059304\n",
      "r2: 0.727421\n"
     ]
    }
   ],
   "source": [
    "Summary = best_model.summary\n",
    "print(\"\\nRMSE: %f\" % Summary.rootMeanSquaredError)\n",
    "print(\"r2: %f\" % Summary.r2)"
   ]
  },
  {
   "cell_type": "markdown",
   "id": "systematic-partition",
   "metadata": {},
   "source": [
    "### Stop the spark session"
   ]
  },
  {
   "cell_type": "code",
   "execution_count": 30,
   "id": "fleet-hartford",
   "metadata": {},
   "outputs": [],
   "source": [
    "spark.stop()"
   ]
  }
 ],
 "metadata": {
  "kernelspec": {
   "display_name": "Python 3",
   "language": "python",
   "name": "python3"
  },
  "language_info": {
   "codemirror_mode": {
    "name": "ipython",
    "version": 3
   },
   "file_extension": ".py",
   "mimetype": "text/x-python",
   "name": "python",
   "nbconvert_exporter": "python",
   "pygments_lexer": "ipython3",
   "version": "3.8.5"
  }
 },
 "nbformat": 4,
 "nbformat_minor": 5
}
