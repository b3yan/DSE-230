{
 "cells": [
  {
   "cell_type": "code",
   "execution_count": 1,
   "id": "1f386b80",
   "metadata": {},
   "outputs": [
    {
     "name": "stdout",
     "output_type": "stream",
     "text": [
      "3.1.1 3.1.1\n"
     ]
    }
   ],
   "source": [
    "# initialize Spark\n",
    "\n",
    "import pyspark\n",
    "from pyspark.sql import SparkSession, Row\n",
    "from pyspark.sql.functions import col, asc,desc\n",
    "import os\n",
    "from pyspark.sql.functions import *\n",
    "import time\n",
    "conf = pyspark.SparkConf().setAll([('spark.master', 'local[4]'),\n",
    "                                   ('spark.app.name', 'PySpark DataFrame Demo')])\n",
    "spark = SparkSession.builder.config(conf=conf).getOrCreate()\n",
    "spark.conf.set(\"spark.sql.repl.eagerEval.enabled\", True)\n",
    "print (spark.version, pyspark.version.__version__)"
   ]
  },
  {
   "cell_type": "code",
   "execution_count": 2,
   "id": "c3d751ff",
   "metadata": {},
   "outputs": [],
   "source": [
    "import pprint\n",
    "import math\n",
    "import numpy as np\n",
    "import pandas as pd\n",
    "from sklearn.cluster import KMeans as sklKMeans\n",
    "from scipy.interpolate import make_interp_spline\n",
    "from sklearn.decomposition import PCA\n",
    "import matplotlib.pyplot as plt\n",
    "import seaborn as sns\n",
    "%matplotlib inline\n",
    "from pyspark.sql import DataFrame\n",
    "from pyspark.sql.types import StructType\n",
    "from pyspark.sql.types import IntegerType,FloatType\n",
    "from pyspark.sql.functions import unix_timestamp, from_unixtime\n",
    "from pyspark.sql.functions import  asin, acos, sin, sqrt, cos\n",
    "from pyspark.sql.functions import pow, col\n",
    "from datetime import datetime\n",
    "import pyspark.sql.functions as F\n",
    "from pyspark.sql.types import DateType\n",
    "from pyspark.sql.functions import radians\n",
    "from pyspark.ml.feature import BucketedRandomProjectionLSH\n",
    "from pyspark.ml.clustering import KMeans\n",
    "from pyspark.ml.feature import VectorAssembler\n",
    "from pyspark.ml.feature import StandardScaler\n",
    "\n",
    "from pyspark.ml.clustering import KMeans\n",
    "from pyspark.ml.evaluation import ClusteringEvaluator\n",
    "\n",
    "pp = pprint.PrettyPrinter(indent=4)"
   ]
  },
  {
   "cell_type": "code",
   "execution_count": 3,
   "id": "e8b08ce1",
   "metadata": {},
   "outputs": [],
   "source": [
    "def get_columns(df_list, counts=False):\n",
    "    df_dict = {}\n",
    "    for df in df_list:\n",
    "        df_dict[namestr(df)] = {}\n",
    "        if(counts):\n",
    "            df_dict[namestr(df)]['count'] = df.count()\n",
    "        else:\n",
    "            df_dict[namestr(df)]['columns'] = df.schema.names\n",
    "            df_dict[namestr(df)]['count'] = df.count()\n",
    "    \n",
    "    return df_dict\n",
    "\n",
    "def namestr(obj, namespace=globals()):\n",
    "    return [name for name in namespace if namespace[name] is obj][0]"
   ]
  },
  {
   "cell_type": "code",
   "execution_count": 4,
   "id": "8a4e3699",
   "metadata": {},
   "outputs": [],
   "source": [
    "DATA_PATH=\"hdfs:///data/\"\n",
    "df_customers = spark.read.csv(DATA_PATH+\"customers_dataset.csv\", header=True)\n",
    "df_customer_reviews = spark.read.csv(DATA_PATH+\"customer_reviews_dataset.csv\", header=True)\n",
    "df_geolocation = spark.read.csv(DATA_PATH+\"geolocation_dataset.csv\", header=True)\n",
    "df_orders = spark.read.csv(DATA_PATH+\"orders_dataset.csv\", header=True)\n",
    "df_order_items = spark.read.csv(DATA_PATH+\"order_items_dataset.csv\", header=True)\n",
    "df_order_payments = spark.read.csv(DATA_PATH+\"order_payments_dataset.csv\", header=True)\n",
    "df_sellers = spark.read.csv(DATA_PATH+\"sellers_dataset.csv\", header=True)\n",
    "df_products = spark.read.csv(DATA_PATH+\"products_dataset.csv\", header=True)\n",
    "df_product_category_name_translation = spark.read.csv(DATA_PATH+\"product_category_name_translation.csv\", header=True)\n",
    "\n",
    "# This will restrict the datasets and prevent kernel crashes while running \n",
    "N_TRAIN_DATA = 30000\n",
    "N_TEST_DATA = 20000\n"
   ]
  },
  {
   "cell_type": "code",
   "execution_count": 5,
   "id": "0e8b4c0f",
   "metadata": {},
   "outputs": [
    {
     "name": "stdout",
     "output_type": "stream",
     "text": [
      "{   'df_customer_reviews': {   'columns': [   'review_id',\n",
      "                                              'order_id',\n",
      "                                              'survey_score',\n",
      "                                              'survey_review_title',\n",
      "                                              'survey_review_content',\n",
      "                                              'survey_send_date',\n",
      "                                              'survey_completion_date'],\n",
      "                               'count': 105189},\n",
      "    'df_customers': {   'columns': [   'customer_id',\n",
      "                                       'customer_unique_id',\n",
      "                                       'customer_zip_code_prefix',\n",
      "                                       'customer_city',\n",
      "                                       'customer_state'],\n",
      "                        'count': 99441},\n",
      "    'df_geolocation': {   'columns': [   'geo_zip_code_prefix',\n",
      "                                         'geo_lat',\n",
      "                                         'geo_lng',\n",
      "                                         'geo_city',\n",
      "                                         'geo_state'],\n",
      "                          'count': 1000163},\n",
      "    'df_order_items': {   'columns': [   'order_id',\n",
      "                                         'order_item_id',\n",
      "                                         'product_id',\n",
      "                                         'seller_id',\n",
      "                                         'shipping_limit_date',\n",
      "                                         'price',\n",
      "                                         'freight_value'],\n",
      "                          'count': 112650},\n",
      "    'df_order_payments': {   'columns': [   'order_id',\n",
      "                                            'payment_sequential',\n",
      "                                            'payment_type',\n",
      "                                            'payment_installments',\n",
      "                                            'payment_value'],\n",
      "                             'count': 103886},\n",
      "    'df_orders': {   'columns': [   'order_id',\n",
      "                                    'customer_id',\n",
      "                                    'order_status',\n",
      "                                    'order_purchase_timestamp',\n",
      "                                    'order_approved_at',\n",
      "                                    'order_carrier_delivery_date',\n",
      "                                    'order_customer_delivery_date',\n",
      "                                    'order_estimated_delivery_date'],\n",
      "                     'count': 99441},\n",
      "    'df_product_category_name_translation': {   'columns': [   'product_category_name',\n",
      "                                                               'product_category_name_english'],\n",
      "                                                'count': 71},\n",
      "    'df_products': {   'columns': [   'product_id',\n",
      "                                      'product_category_name',\n",
      "                                      'product_name_lenght',\n",
      "                                      'product_description_lenght',\n",
      "                                      'product_photos_qty',\n",
      "                                      'product_weight_g',\n",
      "                                      'product_length_cm',\n",
      "                                      'product_height_cm',\n",
      "                                      'product_width_cm'],\n",
      "                       'count': 32951},\n",
      "    'df_sellers': {   'columns': [   'seller_id',\n",
      "                                     'seller_zip_code_prefix',\n",
      "                                     'seller_city',\n",
      "                                     'seller_state'],\n",
      "                      'count': 3095}}\n"
     ]
    }
   ],
   "source": [
    "df_list = [df_customers,\n",
    "           df_customer_reviews,\n",
    "           df_geolocation,\n",
    "           df_orders,\n",
    "           df_order_items,\n",
    "           df_order_payments,\n",
    "           df_sellers,\n",
    "           df_products,\n",
    "           df_product_category_name_translation]\n",
    "\n",
    "pp.pprint(get_columns(df_list))"
   ]
  },
  {
   "cell_type": "markdown",
   "id": "f5d7dcf9",
   "metadata": {},
   "source": [
    "## Data cleaning\n",
    "  * ### Drop NA"
   ]
  },
  {
   "cell_type": "code",
   "execution_count": 6,
   "id": "47b9ecc1",
   "metadata": {},
   "outputs": [
    {
     "name": "stdout",
     "output_type": "stream",
     "text": [
      "{   'df_customer_reviews': {'count': 105189},\n",
      "    'df_customers': {'count': 99441},\n",
      "    'df_geolocation': {'count': 1000163},\n",
      "    'df_order_items': {'count': 112650},\n",
      "    'df_order_payments': {'count': 103886},\n",
      "    'df_orders': {'count': 99441},\n",
      "    'df_product_category_name_translation': {'count': 71},\n",
      "    'df_products': {'count': 32951},\n",
      "    'df_sellers': {'count': 3095}}\n"
     ]
    }
   ],
   "source": [
    "for df in df_list:\n",
    "    df = df.dropna()\n",
    "\n",
    "pp.pprint(get_columns(df_list, True))"
   ]
  },
  {
   "cell_type": "markdown",
   "id": "a685328d",
   "metadata": {},
   "source": [
    "  * ### Filter out only intergers for the customer reviews"
   ]
  },
  {
   "cell_type": "code",
   "execution_count": 7,
   "id": "c5ab645e",
   "metadata": {},
   "outputs": [],
   "source": [
    "df_customer_reviews = df_customer_reviews[\n",
    "                        (df_customer_reviews['survey_score']=='0')|\n",
    "                        (df_customer_reviews['survey_score']=='1')|\n",
    "                        (df_customer_reviews['survey_score']=='2')|\n",
    "                        (df_customer_reviews['survey_score']=='3')|\n",
    "                        (df_customer_reviews['survey_score']=='4')|\n",
    "                        (df_customer_reviews['survey_score']=='5')\n",
    "                        ]\n",
    "# do the type conversion of the text score to integer\n",
    "df_customer_reviews = df_customer_reviews.withColumn('survey_score', df_customer_reviews['survey_score'].cast(IntegerType()))"
   ]
  },
  {
   "cell_type": "markdown",
   "id": "c81f24f5",
   "metadata": {},
   "source": [
    "  * ### Remove duplicate geolocations"
   ]
  },
  {
   "cell_type": "code",
   "execution_count": 8,
   "id": "d0c13135",
   "metadata": {},
   "outputs": [
    {
     "name": "stdout",
     "output_type": "stream",
     "text": [
      "Raw data count = 1000163\n",
      "Data count after dropping duplicates = 19015\n"
     ]
    }
   ],
   "source": [
    "print(\"Raw data count = {}\".format(df_geolocation.count()))\n",
    "df_geolocation = df_geolocation.dropDuplicates(['geo_zip_code_prefix'])\n",
    "print(\"Data count after dropping duplicates = {}\".format(df_geolocation.count()))"
   ]
  },
  {
   "cell_type": "markdown",
   "id": "29c0e33a",
   "metadata": {},
   "source": [
    "## Merge order_items, product_category into products "
   ]
  },
  {
   "cell_type": "code",
   "execution_count": 9,
   "id": "19d390a9",
   "metadata": {},
   "outputs": [
    {
     "name": "stdout",
     "output_type": "stream",
     "text": [
      "{   'df_grp_product_cat': {   'columns': [   'product_id',\n",
      "                                             'order_id',\n",
      "                                             'order_item_id',\n",
      "                                             'seller_id',\n",
      "                                             'shipping_limit_date',\n",
      "                                             'price',\n",
      "                                             'freight_value',\n",
      "                                             'product_category_name',\n",
      "                                             'product_name_lenght',\n",
      "                                             'product_description_lenght',\n",
      "                                             'product_photos_qty',\n",
      "                                             'product_weight_g',\n",
      "                                             'product_length_cm',\n",
      "                                             'product_height_cm',\n",
      "                                             'product_width_cm'],\n",
      "                              'count': 111047}}\n",
      "{   'df_order_merged': {   'columns': [   'order_id',\n",
      "                                          'product_id',\n",
      "                                          'order_item_id',\n",
      "                                          'seller_id',\n",
      "                                          'shipping_limit_date',\n",
      "                                          'price',\n",
      "                                          'freight_value',\n",
      "                                          'product_category_name',\n",
      "                                          'product_name_lenght',\n",
      "                                          'product_description_lenght',\n",
      "                                          'product_photos_qty',\n",
      "                                          'product_weight_g',\n",
      "                                          'product_length_cm',\n",
      "                                          'product_height_cm',\n",
      "                                          'product_width_cm',\n",
      "                                          'customer_id',\n",
      "                                          'order_status',\n",
      "                                          'order_purchase_timestamp',\n",
      "                                          'order_approved_at',\n",
      "                                          'order_carrier_delivery_date',\n",
      "                                          'order_customer_delivery_date',\n",
      "                                          'order_estimated_delivery_date'],\n",
      "                           'count': 108643}}\n"
     ]
    }
   ],
   "source": [
    "df_grp_product_cat = df_order_items.join(df_products, on=['product_id'], how='inner')\n",
    "df_grp_product_cat = df_grp_product_cat.dropna(subset=[\"product_category_name\"])\n",
    "pp.pprint(get_columns([df_grp_product_cat]))\n",
    "df_grp_product_cat = df_grp_product_cat.dropna()\n",
    "df_order_merged = df_grp_product_cat.join(df_orders, on=['order_id'], how='inner')\n",
    "df_order_merged = df_order_merged.dropna()\n",
    "pp.pprint(get_columns([df_order_merged]))\n",
    "\n",
    "# df_grp_product_cat.dropna().count()"
   ]
  },
  {
   "cell_type": "markdown",
   "id": "24ced98d",
   "metadata": {},
   "source": [
    "## Data Conversion"
   ]
  },
  {
   "cell_type": "code",
   "execution_count": 10,
   "id": "37f42237",
   "metadata": {},
   "outputs": [
    {
     "data": {
      "text/plain": [
       "StructType(List(StructField(order_id,StringType,true),StructField(product_id,StringType,true),StructField(order_item_id,StringType,true),StructField(seller_id,StringType,true),StructField(price,FloatType,true),StructField(freight_value,FloatType,true),StructField(product_category_name,StringType,true),StructField(product_name_lenght,IntegerType,true),StructField(product_description_lenght,IntegerType,true),StructField(product_photos_qty,IntegerType,true),StructField(product_weight_g,IntegerType,true),StructField(product_length_cm,IntegerType,true),StructField(product_height_cm,IntegerType,true),StructField(product_width_cm,IntegerType,true),StructField(customer_id,StringType,true),StructField(order_status,StringType,true),StructField(order_purchase_timestamp,StringType,true),StructField(order_approved_at,StringType,true),StructField(order_carrier_delivery_date,StringType,true),StructField(order_customer_delivery_date,StringType,true),StructField(order_estimated_delivery_date,StringType,true)))"
      ]
     },
     "metadata": {},
     "output_type": "display_data"
    }
   ],
   "source": [
    "# Convert to integer Type\n",
    "name_type = ['shipping_limit_date']\n",
    "int_col = ['product_photos_qty',\n",
    "           'product_height_cm', \n",
    "           'product_length_cm', \n",
    "           'product_weight_g', \n",
    "           'product_width_cm', \n",
    "           'product_name_lenght', \n",
    "           'product_description_lenght']\n",
    "float_col = ['price', \n",
    "             'freight_value'] \n",
    "\n",
    "\n",
    "for k in range(len(name_type)):\n",
    "    df_order_merged = df_order_merged.drop(name_type[k])\n",
    "    \n",
    "for k in range(len(int_col)):\n",
    "    df_order_merged = df_order_merged.withColumn(int_col[k], df_order_merged[int_col[k]].cast(IntegerType()))\n",
    "\n",
    "for k in range(len(float_col)):\n",
    "    df_order_merged = df_order_merged.withColumn(float_col[k], df_order_merged[float_col[k]].cast(FloatType()))    \n",
    "\n",
    "display(df_order_merged.schema)"
   ]
  },
  {
   "cell_type": "markdown",
   "id": "70f82f94",
   "metadata": {},
   "source": [
    "## Product dimesnsions \n",
    "  - ### multiply l x w x h and get rid of the l,w,h columns, name the resulting volume calculation as \\_dim "
   ]
  },
  {
   "cell_type": "code",
   "execution_count": 11,
   "id": "1db47f6a",
   "metadata": {},
   "outputs": [
    {
     "data": {
      "text/plain": [
       "['order_id',\n",
       " 'product_id',\n",
       " 'order_item_id',\n",
       " 'seller_id',\n",
       " 'price',\n",
       " 'freight_value',\n",
       " 'product_category_name',\n",
       " 'product_name_lenght',\n",
       " 'product_description_lenght',\n",
       " 'product_photos_qty',\n",
       " 'product_weight_g',\n",
       " 'customer_id',\n",
       " 'order_status',\n",
       " 'order_purchase_timestamp',\n",
       " 'order_approved_at',\n",
       " 'order_carrier_delivery_date',\n",
       " 'order_customer_delivery_date',\n",
       " 'order_estimated_delivery_date',\n",
       " 'product_dim_cm']"
      ]
     },
     "execution_count": 11,
     "metadata": {},
     "output_type": "execute_result"
    }
   ],
   "source": [
    "df_order_merged = df_order_merged.withColumn('product_dim_cm', df_order_merged['product_length_cm']*df_order_merged['product_height_cm']*df_order_merged['product_width_cm'])\n",
    "\n",
    "df_order_merged  = df_order_merged.drop('product_length_cm', 'product_height_cm', 'product_width_cm')\n",
    "\n",
    "df_order_merged.schema.names"
   ]
  },
  {
   "cell_type": "markdown",
   "id": "c74473f0",
   "metadata": {},
   "source": [
    "  - ### Effect of product dimensions on the orders "
   ]
  },
  {
   "cell_type": "code",
   "execution_count": 12,
   "id": "32eeb786",
   "metadata": {},
   "outputs": [
    {
     "data": {
      "image/png": "[encoded data removed]",
      "text/plain": [
       "<Figure size 1800x720 with 1 Axes>"
      ]
     },
     "metadata": {
      "needs_background": "light"
     },
     "output_type": "display_data"
    },
    {
     "data": {
      "text/html": [
       "<div>\n",
       "<style scoped>\n",
       "    .dataframe tbody tr th:only-of-type {\n",
       "        vertical-align: middle;\n",
       "    }\n",
       "\n",
       "    .dataframe tbody tr th {\n",
       "        vertical-align: top;\n",
       "    }\n",
       "\n",
       "    .dataframe thead th {\n",
       "        text-align: right;\n",
       "    }\n",
       "</style>\n",
       "<table border=\"1\" class=\"dataframe\">\n",
       "  <thead>\n",
       "    <tr style=\"text-align: right;\">\n",
       "      <th></th>\n",
       "      <th>product_dim_cm</th>\n",
       "    </tr>\n",
       "  </thead>\n",
       "  <tbody>\n",
       "    <tr>\n",
       "      <th>count</th>\n",
       "      <td>108643.000000</td>\n",
       "    </tr>\n",
       "    <tr>\n",
       "      <th>mean</th>\n",
       "      <td>15220.920750</td>\n",
       "    </tr>\n",
       "    <tr>\n",
       "      <th>std</th>\n",
       "      <td>23264.215598</td>\n",
       "    </tr>\n",
       "    <tr>\n",
       "      <th>min</th>\n",
       "      <td>168.000000</td>\n",
       "    </tr>\n",
       "    <tr>\n",
       "      <th>25%</th>\n",
       "      <td>2856.000000</td>\n",
       "    </tr>\n",
       "    <tr>\n",
       "      <th>50%</th>\n",
       "      <td>6552.000000</td>\n",
       "    </tr>\n",
       "    <tr>\n",
       "      <th>75%</th>\n",
       "      <td>18375.000000</td>\n",
       "    </tr>\n",
       "    <tr>\n",
       "      <th>max</th>\n",
       "      <td>296208.000000</td>\n",
       "    </tr>\n",
       "  </tbody>\n",
       "</table>\n",
       "</div>"
      ],
      "text/plain": [
       "       product_dim_cm\n",
       "count   108643.000000\n",
       "mean     15220.920750\n",
       "std      23264.215598\n",
       "min        168.000000\n",
       "25%       2856.000000\n",
       "50%       6552.000000\n",
       "75%      18375.000000\n",
       "max     296208.000000"
      ]
     },
     "metadata": {},
     "output_type": "display_data"
    },
    {
     "data": {
      "image/png": "[encoded data removed]",
      "text/plain": [
       "<Figure size 432x288 with 1 Axes>"
      ]
     },
     "metadata": {
      "needs_background": "light"
     },
     "output_type": "display_data"
    }
   ],
   "source": [
    "product_dims = df_order_merged.select('product_dim_cm').toPandas()\n",
    "fig = plt.figure(figsize=(25, 10))\n",
    "ax = product_dims['product_dim_cm'].plot.hist(bins=1000, alpha=0.5)\n",
    "ax.set_ylabel(\"count\")\n",
    "plt.title(f\"Product dimensions\\n\")\n",
    "plt.show()\n",
    "product_dims.boxplot(column=['product_dim_cm'])\n",
    "display(product_dims.describe())"
   ]
  },
  {
   "cell_type": "markdown",
   "id": "7d1b7839",
   "metadata": {},
   "source": [
    "## Geolocation"
   ]
  },
  {
   "cell_type": "markdown",
   "id": "edc755ad",
   "metadata": {},
   "source": [
    "  - ### Get the lat,lng for sellers and customers  "
   ]
  },
  {
   "cell_type": "code",
   "execution_count": 13,
   "id": "41b16681",
   "metadata": {},
   "outputs": [
    {
     "data": {
      "text/plain": [
       "{'df_order_merged': {'columns': ['customer_zip_code_prefix',\n",
       "   'seller_zip_code_prefix',\n",
       "   'customer_id',\n",
       "   'seller_id',\n",
       "   'order_id',\n",
       "   'product_id',\n",
       "   'order_item_id',\n",
       "   'price',\n",
       "   'freight_value',\n",
       "   'product_category_name',\n",
       "   'product_name_lenght',\n",
       "   'product_description_lenght',\n",
       "   'product_photos_qty',\n",
       "   'product_weight_g',\n",
       "   'order_status',\n",
       "   'order_purchase_timestamp',\n",
       "   'order_approved_at',\n",
       "   'order_carrier_delivery_date',\n",
       "   'order_customer_delivery_date',\n",
       "   'order_estimated_delivery_date',\n",
       "   'product_dim_cm',\n",
       "   'seller_lat',\n",
       "   'seller_lng',\n",
       "   'customer_lat',\n",
       "   'customer_lng'],\n",
       "  'count': 108113}}"
      ]
     },
     "metadata": {},
     "output_type": "display_data"
    }
   ],
   "source": [
    "df_geolocation.schema.names\n",
    "#df_order_merged.join(df_order_merged) \n",
    "df_order_merged = df_order_merged.join(df_sellers.drop('seller_city','seller_state'), on=['seller_id'], how='inner')\n",
    "df_order_merged = df_order_merged.join(df_customers.drop('customer_unique_id', 'customer_city', 'customer_state'), on=['customer_id'], how='inner')\n",
    "df_order_merged = df_order_merged.join(df_geolocation.selectExpr(\" geo_zip_code_prefix as seller_zip_code_prefix\", \"geo_lat as seller_lat\", \"geo_lng as seller_lng\"), on=['seller_zip_code_prefix'], how='inner')\n",
    "df_order_merged = df_order_merged.join(df_geolocation.selectExpr(\" geo_zip_code_prefix as customer_zip_code_prefix\", \"geo_lat as customer_lat\", \"geo_lng as customer_lng\"), on=['customer_zip_code_prefix'], how='inner')\n",
    "df_order_merged = df_order_merged.dropna()\n",
    "display(get_columns([df_order_merged]))"
   ]
  },
  {
   "cell_type": "markdown",
   "id": "e8fcaa7a",
   "metadata": {},
   "source": [
    "  - ### Haversine calculation for distance\n",
    "    - **convert all the lat,lng into radians and drop original lat,lng**"
   ]
  },
  {
   "cell_type": "code",
   "execution_count": 14,
   "id": "4c6aa48d",
   "metadata": {},
   "outputs": [
    {
     "data": {
      "text/plain": [
       "{'df_order_merged': {'columns': ['customer_zip_code_prefix',\n",
       "   'seller_zip_code_prefix',\n",
       "   'customer_id',\n",
       "   'seller_id',\n",
       "   'order_id',\n",
       "   'product_id',\n",
       "   'order_item_id',\n",
       "   'price',\n",
       "   'freight_value',\n",
       "   'product_category_name',\n",
       "   'product_name_lenght',\n",
       "   'product_description_lenght',\n",
       "   'product_photos_qty',\n",
       "   'product_weight_g',\n",
       "   'order_status',\n",
       "   'order_purchase_timestamp',\n",
       "   'order_approved_at',\n",
       "   'order_carrier_delivery_date',\n",
       "   'order_customer_delivery_date',\n",
       "   'order_estimated_delivery_date',\n",
       "   'product_dim_cm',\n",
       "   'seller_lat_rad',\n",
       "   'seller_lng_rad',\n",
       "   'customer_lat_rad',\n",
       "   'customer_lng_rad'],\n",
       "  'count': 108113}}"
      ]
     },
     "metadata": {},
     "output_type": "display_data"
    }
   ],
   "source": [
    "\n",
    "df_order_merged = df_order_merged.withColumn('seller_lat_rad',radians(df_order_merged['seller_lat']))\n",
    "df_order_merged = df_order_merged.withColumn('seller_lng_rad',radians(df_order_merged['seller_lng']))\n",
    "df_order_merged = df_order_merged.withColumn('customer_lat_rad',radians(df_order_merged['customer_lat']))\n",
    "df_order_merged = df_order_merged.withColumn('customer_lng_rad',radians(df_order_merged['customer_lng']))\n",
    "\n",
    "df_order_merged = df_order_merged.drop('seller_lat')\n",
    "df_order_merged = df_order_merged.drop('seller_lng')\n",
    "df_order_merged = df_order_merged.drop('customer_lat')\n",
    "df_order_merged = df_order_merged.drop('customer_lng')\n",
    "\n",
    "display(get_columns([df_order_merged]))"
   ]
  },
  {
   "cell_type": "markdown",
   "id": "ef61480c",
   "metadata": {},
   "source": [
    "   - **Get the difference between lat, lng seller and customer**"
   ]
  },
  {
   "cell_type": "code",
   "execution_count": 15,
   "id": "3b6f815e",
   "metadata": {},
   "outputs": [
    {
     "data": {
      "text/plain": [
       "{'df_order_merged': {'columns': ['customer_zip_code_prefix',\n",
       "   'seller_zip_code_prefix',\n",
       "   'customer_id',\n",
       "   'seller_id',\n",
       "   'order_id',\n",
       "   'product_id',\n",
       "   'order_item_id',\n",
       "   'price',\n",
       "   'freight_value',\n",
       "   'product_category_name',\n",
       "   'product_name_lenght',\n",
       "   'product_description_lenght',\n",
       "   'product_photos_qty',\n",
       "   'product_weight_g',\n",
       "   'order_status',\n",
       "   'order_purchase_timestamp',\n",
       "   'order_approved_at',\n",
       "   'order_carrier_delivery_date',\n",
       "   'order_customer_delivery_date',\n",
       "   'order_estimated_delivery_date',\n",
       "   'product_dim_cm',\n",
       "   'seller_lat_rad',\n",
       "   'seller_lng_rad',\n",
       "   'customer_lat_rad',\n",
       "   'customer_lng_rad',\n",
       "   'dlng',\n",
       "   'dlat'],\n",
       "  'count': 108113}}"
      ]
     },
     "metadata": {},
     "output_type": "display_data"
    }
   ],
   "source": [
    "df_order_merged = df_order_merged.withColumn('dlng',(df_order_merged['seller_lng_rad'] - df_order_merged['customer_lng_rad'])/2)\n",
    "df_order_merged = df_order_merged.withColumn('dlat',(df_order_merged['seller_lat_rad'] - df_order_merged['customer_lat_rad'])/2)\n",
    "display(get_columns([df_order_merged]))"
   ]
  },
  {
   "cell_type": "markdown",
   "id": "1fb7d634",
   "metadata": {},
   "source": [
    "   - **Calculations for haversine equation**"
   ]
  },
  {
   "cell_type": "code",
   "execution_count": 16,
   "id": "ee60ca0b",
   "metadata": {},
   "outputs": [],
   "source": [
    "\n",
    "df_order_merged = df_order_merged.withColumn('dlng_sin', sin(df_order_merged['dlng']))\n",
    "df_order_merged = df_order_merged.withColumn('dlng_sin_square', pow(df_order_merged['dlng_sin'],2))\n",
    "\n",
    "df_order_merged = df_order_merged.withColumn('dlat_sin', sin(df_order_merged['dlat']))\n",
    "df_order_merged = df_order_merged.withColumn('dlat_sin_square', pow(df_order_merged['dlat_sin'],2))\n",
    "\n",
    "df_order_merged = df_order_merged.withColumn('seller_lat_rad_cos', cos(df_order_merged['seller_lat_rad']))\n",
    "df_order_merged = df_order_merged.withColumn('customer_lat_rad_cos', cos(df_order_merged['customer_lat_rad']))\n",
    "\n",
    "\n",
    "df_order_merged = df_order_merged.withColumn('A',  df_order_merged['dlat_sin_square'] + df_order_merged['customer_lat_rad_cos']*df_order_merged['seller_lat_rad_cos']*df_order_merged['dlng_sin_square'])\n",
    "\n",
    "df_order_merged = df_order_merged.withColumn('A_sqrt', sqrt(df_order_merged['A']))\n",
    "df_order_merged = df_order_merged.withColumn('distance', 7912*asin(df_order_merged['A_sqrt']))\n",
    "\n",
    "\n",
    "cal_list = [\n",
    "            'dlng',\n",
    "            'dlat',\n",
    "            'dlng_sin',\n",
    "            'dlat_sin',\n",
    "            'dlng_sin_square',\n",
    "            'dlat_sin_square',\n",
    "            'seller_lat_rad_cos',\n",
    "            'customer_lat_rad_cos',\n",
    "            'seller_lat_rad',\n",
    "            'customer_lat_rad',\n",
    "            'seller_lng_rad',\n",
    "            'seller_lat_rad',\n",
    "            'customer_lng_rad',\n",
    "            'customer_lat_rad',\n",
    "            'A',\n",
    "            'A_sqrt'\n",
    "           ]\n",
    "## Drop the temporary rows\n",
    "for drop_col in cal_list:\n",
    "    df_order_merged = df_order_merged.drop(drop_col)\n"
   ]
  },
  {
   "cell_type": "markdown",
   "id": "8b24be88",
   "metadata": {},
   "source": [
    "   - **Display the first 10 rows in the dataframe**"
   ]
  },
  {
   "cell_type": "code",
   "execution_count": 17,
   "id": "304a88b9",
   "metadata": {},
   "outputs": [
    {
     "data": {
      "text/html": [
       "<table border='1'>\n",
       "<tr><th>customer_zip_code_prefix</th><th>seller_zip_code_prefix</th><th>customer_id</th><th>seller_id</th><th>order_id</th><th>product_id</th><th>order_item_id</th><th>price</th><th>freight_value</th><th>product_category_name</th><th>product_name_lenght</th><th>product_description_lenght</th><th>product_photos_qty</th><th>product_weight_g</th><th>order_status</th><th>order_purchase_timestamp</th><th>order_approved_at</th><th>order_carrier_delivery_date</th><th>order_customer_delivery_date</th><th>order_estimated_delivery_date</th><th>product_dim_cm</th><th>distance</th></tr>\n",
       "<tr><td>02053</td><td>14940</td><td>8cdbc6c14192efc82...</td><td>4a3ca9315b744ce9f...</td><td>3168875baaa7b1b7b...</td><td>1f30aacc69904c0d0...</td><td>1</td><td>135.0</td><td>16.61</td><td>cama_mesa_banho</td><td>58</td><td>293</td><td>1</td><td>1850</td><td>delivered</td><td>2018-03-28 17:46:58</td><td>2018-03-28 18:08:46</td><td>2018-04-04 00:08:23</td><td>2018-04-11 18:48:44</td><td>2018-04-16 00:00:00</td><td>12000</td><td>186.2724794462031</td></tr>\n",
       "<tr><td>02053</td><td>14940</td><td>bb7874514104785ce...</td><td>d2374cbcbb3ca4ab1...</td><td>7ab737441b79ec93e...</td><td>0152f69b6cf919bcd...</td><td>1</td><td>13.9</td><td>11.85</td><td>cama_mesa_banho</td><td>40</td><td>116</td><td>1</td><td>250</td><td>delivered</td><td>2018-03-03 21:20:15</td><td>2018-03-06 03:51:19</td><td>2018-03-08 21:18:24</td><td>2018-03-29 00:52:30</td><td>2018-04-05 00:00:00</td><td>4800</td><td>186.2724794462031</td></tr>\n",
       "<tr><td>02053</td><td>07112</td><td>2c94ee4423f153e13...</td><td>8581055ce74af1dab...</td><td>0996218f2d0c8ec0c...</td><td>a50acd33ba7a8da8e...</td><td>1</td><td>117.3</td><td>12.81</td><td>automotivo</td><td>53</td><td>555</td><td>1</td><td>4105</td><td>delivered</td><td>2018-04-02 19:13:49</td><td>2018-04-02 19:28:41</td><td>2018-04-04 19:05:46</td><td>2018-04-05 20:08:40</td><td>2018-04-12 00:00:00</td><td>44890</td><td>6.478096287460243</td></tr>\n",
       "<tr><td>02053</td><td>07112</td><td>2c94ee4423f153e13...</td><td>8581055ce74af1dab...</td><td>0996218f2d0c8ec0c...</td><td>dfb97c88e066dc221...</td><td>2</td><td>139.0</td><td>15.88</td><td>automotivo</td><td>53</td><td>597</td><td>1</td><td>5417</td><td>delivered</td><td>2018-04-02 19:13:49</td><td>2018-04-02 19:28:41</td><td>2018-04-04 19:05:46</td><td>2018-04-05 20:08:40</td><td>2018-04-12 00:00:00</td><td>90992</td><td>6.478096287460243</td></tr>\n",
       "<tr><td>02053</td><td>11701</td><td>f0605edc06e3b81fd...</td><td>e9779976487b77c6d...</td><td>b7d6b37701289908b...</td><td>fef63ef09494166bd...</td><td>1</td><td>58.0</td><td>8.27</td><td>esporte_lazer</td><td>57</td><td>3119</td><td>11</td><td>375</td><td>delivered</td><td>2017-05-28 11:05:59</td><td>2017-05-28 11:15:11</td><td>2017-05-29 15:31:29</td><td>2017-05-30 18:48:58</td><td>2017-06-09 00:00:00</td><td>6525</td><td>36.4532508324584</td></tr>\n",
       "<tr><td>02053</td><td>87050</td><td>c1ddb7521d14db907...</td><td>128639473a139ac0f...</td><td>663830a477534735b...</td><td>6a8631b72a2f8729b...</td><td>1</td><td>24.9</td><td>13.51</td><td>eletronicos</td><td>54</td><td>614</td><td>1</td><td>100</td><td>delivered</td><td>2018-07-15 12:37:12</td><td>2018-07-16 12:30:53</td><td>2018-07-16 14:33:00</td><td>2018-07-23 23:56:47</td><td>2018-08-13 00:00:00</td><td>1122</td><td>336.47540988332685</td></tr>\n",
       "<tr><td>02053</td><td>15025</td><td>774a68091890f5f1b...</td><td>1f50f920176fa81da...</td><td>be787f15d899c8ef7...</td><td>0bcc3eeca39e10642...</td><td>1</td><td>59.0</td><td>13.43</td><td>ferramentas_jardim</td><td>57</td><td>339</td><td>2</td><td>1800</td><td>delivered</td><td>2017-12-11 21:11:11</td><td>2017-12-11 21:34:03</td><td>2017-12-13 21:29:21</td><td>2017-12-26 15:45:18</td><td>2018-01-04 00:00:00</td><td>32560</td><td>258.6147106802567</td></tr>\n",
       "<tr><td>02053</td><td>89180</td><td>57f0e44aca47fb9bc...</td><td>519a7aa428f18d125...</td><td>b7b4ac6cf1e3f2b55...</td><td>96ac5914ae8307995...</td><td>1</td><td>29.9</td><td>23.01</td><td>moveis_sala</td><td>47</td><td>521</td><td>4</td><td>1250</td><td>delivered</td><td>2018-07-07 16:56:54</td><td>2018-07-07 17:10:10</td><td>2018-07-09 08:47:00</td><td>2018-07-12 18:22:09</td><td>2018-08-02 00:00:00</td><td>5408</td><td>322.98952366330946</td></tr>\n",
       "<tr><td>02053</td><td>89180</td><td>d1cd0d62067d359ad...</td><td>519a7aa428f18d125...</td><td>27fd0c263b9d38e9c...</td><td>96ac5914ae8307995...</td><td>1</td><td>24.9</td><td>22.97</td><td>moveis_sala</td><td>47</td><td>521</td><td>4</td><td>1250</td><td>delivered</td><td>2018-07-30 21:54:00</td><td>2018-07-30 22:24:22</td><td>2018-07-31 08:40:00</td><td>2018-08-06 17:07:59</td><td>2018-08-17 00:00:00</td><td>5408</td><td>322.98952366330946</td></tr>\n",
       "<tr><td>02943</td><td>14940</td><td>88b61cadc52207340...</td><td>951e8cef368f09bb3...</td><td>989efe8965cc3848a...</td><td>625522e2041f5759b...</td><td>1</td><td>58.99</td><td>17.32</td><td>cama_mesa_banho</td><td>41</td><td>582</td><td>1</td><td>1450</td><td>delivered</td><td>2018-05-08 20:41:49</td><td>2018-05-10 03:09:52</td><td>2018-05-11 12:52:00</td><td>2018-05-16 15:06:53</td><td>2018-05-22 00:00:00</td><td>29925</td><td>178.78291855475408</td></tr>\n",
       "</table>\n"
      ],
      "text/plain": [
       "+------------------------+----------------------+--------------------+--------------------+--------------------+--------------------+-------------+-----+-------------+---------------------+-------------------+--------------------------+------------------+----------------+------------+------------------------+-------------------+---------------------------+----------------------------+-----------------------------+--------------+------------------+\n",
       "|customer_zip_code_prefix|seller_zip_code_prefix|         customer_id|           seller_id|            order_id|          product_id|order_item_id|price|freight_value|product_category_name|product_name_lenght|product_description_lenght|product_photos_qty|product_weight_g|order_status|order_purchase_timestamp|  order_approved_at|order_carrier_delivery_date|order_customer_delivery_date|order_estimated_delivery_date|product_dim_cm|          distance|\n",
       "+------------------------+----------------------+--------------------+--------------------+--------------------+--------------------+-------------+-----+-------------+---------------------+-------------------+--------------------------+------------------+----------------+------------+------------------------+-------------------+---------------------------+----------------------------+-----------------------------+--------------+------------------+\n",
       "|                   02053|                 14940|8cdbc6c14192efc82...|4a3ca9315b744ce9f...|3168875baaa7b1b7b...|1f30aacc69904c0d0...|            1|135.0|        16.61|      cama_mesa_banho|                 58|                       293|                 1|            1850|   delivered|     2018-03-28 17:46:58|2018-03-28 18:08:46|        2018-04-04 00:08:23|         2018-04-11 18:48:44|          2018-04-16 00:00:00|         12000| 186.2724794462031|\n",
       "|                   02053|                 14940|bb7874514104785ce...|d2374cbcbb3ca4ab1...|7ab737441b79ec93e...|0152f69b6cf919bcd...|            1| 13.9|        11.85|      cama_mesa_banho|                 40|                       116|                 1|             250|   delivered|     2018-03-03 21:20:15|2018-03-06 03:51:19|        2018-03-08 21:18:24|         2018-03-29 00:52:30|          2018-04-05 00:00:00|          4800| 186.2724794462031|\n",
       "|                   02053|                 07112|2c94ee4423f153e13...|8581055ce74af1dab...|0996218f2d0c8ec0c...|a50acd33ba7a8da8e...|            1|117.3|        12.81|           automotivo|                 53|                       555|                 1|            4105|   delivered|     2018-04-02 19:13:49|2018-04-02 19:28:41|        2018-04-04 19:05:46|         2018-04-05 20:08:40|          2018-04-12 00:00:00|         44890| 6.478096287460243|\n",
       "|                   02053|                 07112|2c94ee4423f153e13...|8581055ce74af1dab...|0996218f2d0c8ec0c...|dfb97c88e066dc221...|            2|139.0|        15.88|           automotivo|                 53|                       597|                 1|            5417|   delivered|     2018-04-02 19:13:49|2018-04-02 19:28:41|        2018-04-04 19:05:46|         2018-04-05 20:08:40|          2018-04-12 00:00:00|         90992| 6.478096287460243|\n",
       "|                   02053|                 11701|f0605edc06e3b81fd...|e9779976487b77c6d...|b7d6b37701289908b...|fef63ef09494166bd...|            1| 58.0|         8.27|        esporte_lazer|                 57|                      3119|                11|             375|   delivered|     2017-05-28 11:05:59|2017-05-28 11:15:11|        2017-05-29 15:31:29|         2017-05-30 18:48:58|          2017-06-09 00:00:00|          6525|  36.4532508324584|\n",
       "|                   02053|                 87050|c1ddb7521d14db907...|128639473a139ac0f...|663830a477534735b...|6a8631b72a2f8729b...|            1| 24.9|        13.51|          eletronicos|                 54|                       614|                 1|             100|   delivered|     2018-07-15 12:37:12|2018-07-16 12:30:53|        2018-07-16 14:33:00|         2018-07-23 23:56:47|          2018-08-13 00:00:00|          1122|336.47540988332685|\n",
       "|                   02053|                 15025|774a68091890f5f1b...|1f50f920176fa81da...|be787f15d899c8ef7...|0bcc3eeca39e10642...|            1| 59.0|        13.43|   ferramentas_jardim|                 57|                       339|                 2|            1800|   delivered|     2017-12-11 21:11:11|2017-12-11 21:34:03|        2017-12-13 21:29:21|         2017-12-26 15:45:18|          2018-01-04 00:00:00|         32560| 258.6147106802567|\n",
       "|                   02053|                 89180|57f0e44aca47fb9bc...|519a7aa428f18d125...|b7b4ac6cf1e3f2b55...|96ac5914ae8307995...|            1| 29.9|        23.01|          moveis_sala|                 47|                       521|                 4|            1250|   delivered|     2018-07-07 16:56:54|2018-07-07 17:10:10|        2018-07-09 08:47:00|         2018-07-12 18:22:09|          2018-08-02 00:00:00|          5408|322.98952366330946|\n",
       "|                   02053|                 89180|d1cd0d62067d359ad...|519a7aa428f18d125...|27fd0c263b9d38e9c...|96ac5914ae8307995...|            1| 24.9|        22.97|          moveis_sala|                 47|                       521|                 4|            1250|   delivered|     2018-07-30 21:54:00|2018-07-30 22:24:22|        2018-07-31 08:40:00|         2018-08-06 17:07:59|          2018-08-17 00:00:00|          5408|322.98952366330946|\n",
       "|                   02943|                 14940|88b61cadc52207340...|951e8cef368f09bb3...|989efe8965cc3848a...|625522e2041f5759b...|            1|58.99|        17.32|      cama_mesa_banho|                 41|                       582|                 1|            1450|   delivered|     2018-05-08 20:41:49|2018-05-10 03:09:52|        2018-05-11 12:52:00|         2018-05-16 15:06:53|          2018-05-22 00:00:00|         29925|178.78291855475408|\n",
       "+------------------------+----------------------+--------------------+--------------------+--------------------+--------------------+-------------+-----+-------------+---------------------+-------------------+--------------------------+------------------+----------------+------------+------------------------+-------------------+---------------------------+----------------------------+-----------------------------+--------------+------------------+"
      ]
     },
     "execution_count": 17,
     "metadata": {},
     "output_type": "execute_result"
    }
   ],
   "source": [
    "df_order_merged.limit(10)"
   ]
  },
  {
   "cell_type": "markdown",
   "id": "dd52e79a",
   "metadata": {},
   "source": [
    "## Effect of distance on orders"
   ]
  },
  {
   "cell_type": "code",
   "execution_count": 18,
   "id": "387de2a9",
   "metadata": {},
   "outputs": [
    {
     "data": {
      "text/html": [
       "<div>\n",
       "<style scoped>\n",
       "    .dataframe tbody tr th:only-of-type {\n",
       "        vertical-align: middle;\n",
       "    }\n",
       "\n",
       "    .dataframe tbody tr th {\n",
       "        vertical-align: top;\n",
       "    }\n",
       "\n",
       "    .dataframe thead th {\n",
       "        text-align: right;\n",
       "    }\n",
       "</style>\n",
       "<table border=\"1\" class=\"dataframe\">\n",
       "  <thead>\n",
       "    <tr style=\"text-align: right;\">\n",
       "      <th></th>\n",
       "      <th>distance</th>\n",
       "    </tr>\n",
       "  </thead>\n",
       "  <tbody>\n",
       "    <tr>\n",
       "      <th>count</th>\n",
       "      <td>108113.000000</td>\n",
       "    </tr>\n",
       "    <tr>\n",
       "      <th>mean</th>\n",
       "      <td>370.630199</td>\n",
       "    </tr>\n",
       "    <tr>\n",
       "      <th>std</th>\n",
       "      <td>366.329294</td>\n",
       "    </tr>\n",
       "    <tr>\n",
       "      <th>min</th>\n",
       "      <td>0.000000</td>\n",
       "    </tr>\n",
       "    <tr>\n",
       "      <th>25%</th>\n",
       "      <td>115.236940</td>\n",
       "    </tr>\n",
       "    <tr>\n",
       "      <th>50%</th>\n",
       "      <td>268.571504</td>\n",
       "    </tr>\n",
       "    <tr>\n",
       "      <th>75%</th>\n",
       "      <td>491.492344</td>\n",
       "    </tr>\n",
       "    <tr>\n",
       "      <th>max</th>\n",
       "      <td>5425.108268</td>\n",
       "    </tr>\n",
       "  </tbody>\n",
       "</table>\n",
       "</div>"
      ],
      "text/plain": [
       "            distance\n",
       "count  108113.000000\n",
       "mean      370.630199\n",
       "std       366.329294\n",
       "min         0.000000\n",
       "25%       115.236940\n",
       "50%       268.571504\n",
       "75%       491.492344\n",
       "max      5425.108268"
      ]
     },
     "metadata": {},
     "output_type": "display_data"
    },
    {
     "data": {
      "image/png": "[encoded data removed]",
      "text/plain": [
       "<Figure size 720x576 with 1 Axes>"
      ]
     },
     "metadata": {
      "needs_background": "light"
     },
     "output_type": "display_data"
    }
   ],
   "source": [
    "df_dist = df_order_merged.select('distance').toPandas()\n",
    "df_dist.plot.hist(bins=1500, ylim=(0,2000), grid=True, figsize=[10,8])\n",
    "display(df_dist.describe())"
   ]
  },
  {
   "cell_type": "markdown",
   "id": "67ed3630",
   "metadata": {},
   "source": [
    "## Merge the customer reviews"
   ]
  },
  {
   "cell_type": "code",
   "execution_count": 19,
   "id": "78f3e295",
   "metadata": {},
   "outputs": [
    {
     "data": {
      "text/html": [
       "<table border='1'>\n",
       "<tr><th>order_id</th><th>customer_zip_code_prefix</th><th>seller_zip_code_prefix</th><th>customer_id</th><th>seller_id</th><th>product_id</th><th>order_item_id</th><th>price</th><th>freight_value</th><th>product_category_name</th><th>product_name_lenght</th><th>product_description_lenght</th><th>product_photos_qty</th><th>product_weight_g</th><th>order_status</th><th>order_purchase_timestamp</th><th>order_approved_at</th><th>order_carrier_delivery_date</th><th>order_customer_delivery_date</th><th>order_estimated_delivery_date</th><th>product_dim_cm</th><th>distance</th><th>survey_score</th></tr>\n",
       "<tr><td>3168875baaa7b1b7b...</td><td>02053</td><td>14940</td><td>8cdbc6c14192efc82...</td><td>4a3ca9315b744ce9f...</td><td>1f30aacc69904c0d0...</td><td>1</td><td>135.0</td><td>16.61</td><td>cama_mesa_banho</td><td>58</td><td>293</td><td>1</td><td>1850</td><td>delivered</td><td>2018-03-28 17:46:58</td><td>2018-03-28 18:08:46</td><td>2018-04-04 00:08:23</td><td>2018-04-11 18:48:44</td><td>2018-04-16 00:00:00</td><td>12000</td><td>186.2724794462031</td><td>5</td></tr>\n",
       "<tr><td>7ab737441b79ec93e...</td><td>02053</td><td>14940</td><td>bb7874514104785ce...</td><td>d2374cbcbb3ca4ab1...</td><td>0152f69b6cf919bcd...</td><td>1</td><td>13.9</td><td>11.85</td><td>cama_mesa_banho</td><td>40</td><td>116</td><td>1</td><td>250</td><td>delivered</td><td>2018-03-03 21:20:15</td><td>2018-03-06 03:51:19</td><td>2018-03-08 21:18:24</td><td>2018-03-29 00:52:30</td><td>2018-04-05 00:00:00</td><td>4800</td><td>186.2724794462031</td><td>3</td></tr>\n",
       "<tr><td>0996218f2d0c8ec0c...</td><td>02053</td><td>07112</td><td>2c94ee4423f153e13...</td><td>8581055ce74af1dab...</td><td>a50acd33ba7a8da8e...</td><td>1</td><td>117.3</td><td>12.81</td><td>automotivo</td><td>53</td><td>555</td><td>1</td><td>4105</td><td>delivered</td><td>2018-04-02 19:13:49</td><td>2018-04-02 19:28:41</td><td>2018-04-04 19:05:46</td><td>2018-04-05 20:08:40</td><td>2018-04-12 00:00:00</td><td>44890</td><td>6.478096287460243</td><td>5</td></tr>\n",
       "<tr><td>0996218f2d0c8ec0c...</td><td>02053</td><td>07112</td><td>2c94ee4423f153e13...</td><td>8581055ce74af1dab...</td><td>dfb97c88e066dc221...</td><td>2</td><td>139.0</td><td>15.88</td><td>automotivo</td><td>53</td><td>597</td><td>1</td><td>5417</td><td>delivered</td><td>2018-04-02 19:13:49</td><td>2018-04-02 19:28:41</td><td>2018-04-04 19:05:46</td><td>2018-04-05 20:08:40</td><td>2018-04-12 00:00:00</td><td>90992</td><td>6.478096287460243</td><td>5</td></tr>\n",
       "<tr><td>b7d6b37701289908b...</td><td>02053</td><td>11701</td><td>f0605edc06e3b81fd...</td><td>e9779976487b77c6d...</td><td>fef63ef09494166bd...</td><td>1</td><td>58.0</td><td>8.27</td><td>esporte_lazer</td><td>57</td><td>3119</td><td>11</td><td>375</td><td>delivered</td><td>2017-05-28 11:05:59</td><td>2017-05-28 11:15:11</td><td>2017-05-29 15:31:29</td><td>2017-05-30 18:48:58</td><td>2017-06-09 00:00:00</td><td>6525</td><td>36.4532508324584</td><td>5</td></tr>\n",
       "<tr><td>663830a477534735b...</td><td>02053</td><td>87050</td><td>c1ddb7521d14db907...</td><td>128639473a139ac0f...</td><td>6a8631b72a2f8729b...</td><td>1</td><td>24.9</td><td>13.51</td><td>eletronicos</td><td>54</td><td>614</td><td>1</td><td>100</td><td>delivered</td><td>2018-07-15 12:37:12</td><td>2018-07-16 12:30:53</td><td>2018-07-16 14:33:00</td><td>2018-07-23 23:56:47</td><td>2018-08-13 00:00:00</td><td>1122</td><td>336.47540988332685</td><td>5</td></tr>\n",
       "<tr><td>be787f15d899c8ef7...</td><td>02053</td><td>15025</td><td>774a68091890f5f1b...</td><td>1f50f920176fa81da...</td><td>0bcc3eeca39e10642...</td><td>1</td><td>59.0</td><td>13.43</td><td>ferramentas_jardim</td><td>57</td><td>339</td><td>2</td><td>1800</td><td>delivered</td><td>2017-12-11 21:11:11</td><td>2017-12-11 21:34:03</td><td>2017-12-13 21:29:21</td><td>2017-12-26 15:45:18</td><td>2018-01-04 00:00:00</td><td>32560</td><td>258.6147106802567</td><td>5</td></tr>\n",
       "<tr><td>b7b4ac6cf1e3f2b55...</td><td>02053</td><td>89180</td><td>57f0e44aca47fb9bc...</td><td>519a7aa428f18d125...</td><td>96ac5914ae8307995...</td><td>1</td><td>29.9</td><td>23.01</td><td>moveis_sala</td><td>47</td><td>521</td><td>4</td><td>1250</td><td>delivered</td><td>2018-07-07 16:56:54</td><td>2018-07-07 17:10:10</td><td>2018-07-09 08:47:00</td><td>2018-07-12 18:22:09</td><td>2018-08-02 00:00:00</td><td>5408</td><td>322.98952366330946</td><td>5</td></tr>\n",
       "<tr><td>27fd0c263b9d38e9c...</td><td>02053</td><td>89180</td><td>d1cd0d62067d359ad...</td><td>519a7aa428f18d125...</td><td>96ac5914ae8307995...</td><td>1</td><td>24.9</td><td>22.97</td><td>moveis_sala</td><td>47</td><td>521</td><td>4</td><td>1250</td><td>delivered</td><td>2018-07-30 21:54:00</td><td>2018-07-30 22:24:22</td><td>2018-07-31 08:40:00</td><td>2018-08-06 17:07:59</td><td>2018-08-17 00:00:00</td><td>5408</td><td>322.98952366330946</td><td>4</td></tr>\n",
       "<tr><td>989efe8965cc3848a...</td><td>02943</td><td>14940</td><td>88b61cadc52207340...</td><td>951e8cef368f09bb3...</td><td>625522e2041f5759b...</td><td>1</td><td>58.99</td><td>17.32</td><td>cama_mesa_banho</td><td>41</td><td>582</td><td>1</td><td>1450</td><td>delivered</td><td>2018-05-08 20:41:49</td><td>2018-05-10 03:09:52</td><td>2018-05-11 12:52:00</td><td>2018-05-16 15:06:53</td><td>2018-05-22 00:00:00</td><td>29925</td><td>178.78291855475408</td><td>5</td></tr>\n",
       "</table>\n"
      ],
      "text/plain": [
       "+--------------------+------------------------+----------------------+--------------------+--------------------+--------------------+-------------+-----+-------------+---------------------+-------------------+--------------------------+------------------+----------------+------------+------------------------+-------------------+---------------------------+----------------------------+-----------------------------+--------------+------------------+------------+\n",
       "|            order_id|customer_zip_code_prefix|seller_zip_code_prefix|         customer_id|           seller_id|          product_id|order_item_id|price|freight_value|product_category_name|product_name_lenght|product_description_lenght|product_photos_qty|product_weight_g|order_status|order_purchase_timestamp|  order_approved_at|order_carrier_delivery_date|order_customer_delivery_date|order_estimated_delivery_date|product_dim_cm|          distance|survey_score|\n",
       "+--------------------+------------------------+----------------------+--------------------+--------------------+--------------------+-------------+-----+-------------+---------------------+-------------------+--------------------------+------------------+----------------+------------+------------------------+-------------------+---------------------------+----------------------------+-----------------------------+--------------+------------------+------------+\n",
       "|3168875baaa7b1b7b...|                   02053|                 14940|8cdbc6c14192efc82...|4a3ca9315b744ce9f...|1f30aacc69904c0d0...|            1|135.0|        16.61|      cama_mesa_banho|                 58|                       293|                 1|            1850|   delivered|     2018-03-28 17:46:58|2018-03-28 18:08:46|        2018-04-04 00:08:23|         2018-04-11 18:48:44|          2018-04-16 00:00:00|         12000| 186.2724794462031|           5|\n",
       "|7ab737441b79ec93e...|                   02053|                 14940|bb7874514104785ce...|d2374cbcbb3ca4ab1...|0152f69b6cf919bcd...|            1| 13.9|        11.85|      cama_mesa_banho|                 40|                       116|                 1|             250|   delivered|     2018-03-03 21:20:15|2018-03-06 03:51:19|        2018-03-08 21:18:24|         2018-03-29 00:52:30|          2018-04-05 00:00:00|          4800| 186.2724794462031|           3|\n",
       "|0996218f2d0c8ec0c...|                   02053|                 07112|2c94ee4423f153e13...|8581055ce74af1dab...|a50acd33ba7a8da8e...|            1|117.3|        12.81|           automotivo|                 53|                       555|                 1|            4105|   delivered|     2018-04-02 19:13:49|2018-04-02 19:28:41|        2018-04-04 19:05:46|         2018-04-05 20:08:40|          2018-04-12 00:00:00|         44890| 6.478096287460243|           5|\n",
       "|0996218f2d0c8ec0c...|                   02053|                 07112|2c94ee4423f153e13...|8581055ce74af1dab...|dfb97c88e066dc221...|            2|139.0|        15.88|           automotivo|                 53|                       597|                 1|            5417|   delivered|     2018-04-02 19:13:49|2018-04-02 19:28:41|        2018-04-04 19:05:46|         2018-04-05 20:08:40|          2018-04-12 00:00:00|         90992| 6.478096287460243|           5|\n",
       "|b7d6b37701289908b...|                   02053|                 11701|f0605edc06e3b81fd...|e9779976487b77c6d...|fef63ef09494166bd...|            1| 58.0|         8.27|        esporte_lazer|                 57|                      3119|                11|             375|   delivered|     2017-05-28 11:05:59|2017-05-28 11:15:11|        2017-05-29 15:31:29|         2017-05-30 18:48:58|          2017-06-09 00:00:00|          6525|  36.4532508324584|           5|\n",
       "|663830a477534735b...|                   02053|                 87050|c1ddb7521d14db907...|128639473a139ac0f...|6a8631b72a2f8729b...|            1| 24.9|        13.51|          eletronicos|                 54|                       614|                 1|             100|   delivered|     2018-07-15 12:37:12|2018-07-16 12:30:53|        2018-07-16 14:33:00|         2018-07-23 23:56:47|          2018-08-13 00:00:00|          1122|336.47540988332685|           5|\n",
       "|be787f15d899c8ef7...|                   02053|                 15025|774a68091890f5f1b...|1f50f920176fa81da...|0bcc3eeca39e10642...|            1| 59.0|        13.43|   ferramentas_jardim|                 57|                       339|                 2|            1800|   delivered|     2017-12-11 21:11:11|2017-12-11 21:34:03|        2017-12-13 21:29:21|         2017-12-26 15:45:18|          2018-01-04 00:00:00|         32560| 258.6147106802567|           5|\n",
       "|b7b4ac6cf1e3f2b55...|                   02053|                 89180|57f0e44aca47fb9bc...|519a7aa428f18d125...|96ac5914ae8307995...|            1| 29.9|        23.01|          moveis_sala|                 47|                       521|                 4|            1250|   delivered|     2018-07-07 16:56:54|2018-07-07 17:10:10|        2018-07-09 08:47:00|         2018-07-12 18:22:09|          2018-08-02 00:00:00|          5408|322.98952366330946|           5|\n",
       "|27fd0c263b9d38e9c...|                   02053|                 89180|d1cd0d62067d359ad...|519a7aa428f18d125...|96ac5914ae8307995...|            1| 24.9|        22.97|          moveis_sala|                 47|                       521|                 4|            1250|   delivered|     2018-07-30 21:54:00|2018-07-30 22:24:22|        2018-07-31 08:40:00|         2018-08-06 17:07:59|          2018-08-17 00:00:00|          5408|322.98952366330946|           4|\n",
       "|989efe8965cc3848a...|                   02943|                 14940|88b61cadc52207340...|951e8cef368f09bb3...|625522e2041f5759b...|            1|58.99|        17.32|      cama_mesa_banho|                 41|                       582|                 1|            1450|   delivered|     2018-05-08 20:41:49|2018-05-10 03:09:52|        2018-05-11 12:52:00|         2018-05-16 15:06:53|          2018-05-22 00:00:00|         29925|178.78291855475408|           5|\n",
       "+--------------------+------------------------+----------------------+--------------------+--------------------+--------------------+-------------+-----+-------------+---------------------+-------------------+--------------------------+------------------+----------------+------------+------------------------+-------------------+---------------------------+----------------------------+-----------------------------+--------------+------------------+------------+"
      ]
     },
     "metadata": {},
     "output_type": "display_data"
    }
   ],
   "source": [
    "df_order_merged = df_order_merged.join(df_customer_reviews.select('order_id', 'survey_score'), on=['order_id'], how='inner')\n",
    "display(df_order_merged.limit(10))"
   ]
  },
  {
   "cell_type": "markdown",
   "id": "7b840c55",
   "metadata": {},
   "source": [
    "## Distribution plot of customer review"
   ]
  },
  {
   "cell_type": "code",
   "execution_count": 20,
   "id": "56363eb4",
   "metadata": {},
   "outputs": [
    {
     "data": {
      "text/plain": [
       "array([[<AxesSubplot:title={'center':'survey_score'}>]], dtype=object)"
      ]
     },
     "execution_count": 20,
     "metadata": {},
     "output_type": "execute_result"
    },
    {
     "data": {
      "image/png": "[encoded data removed]",
      "text/plain": [
       "<Figure size 432x288 with 1 Axes>"
      ]
     },
     "metadata": {
      "needs_background": "light"
     },
     "output_type": "display_data"
    }
   ],
   "source": [
    "df_order_merged.select('survey_score').toPandas().hist(bins=5)"
   ]
  },
  {
   "cell_type": "markdown",
   "id": "1b4d94bf",
   "metadata": {},
   "source": [
    "## Timestamps"
   ]
  },
  {
   "cell_type": "markdown",
   "id": "d67a57c5",
   "metadata": {},
   "source": [
    "   - **Merge the month**"
   ]
  },
  {
   "cell_type": "code",
   "execution_count": 21,
   "id": "62bd631c",
   "metadata": {},
   "outputs": [
    {
     "data": {
      "text/html": [
       "<table border='1'>\n",
       "<tr><th>order_id</th><th>customer_zip_code_prefix</th><th>seller_zip_code_prefix</th><th>customer_id</th><th>seller_id</th><th>product_id</th><th>order_item_id</th><th>price</th><th>freight_value</th><th>product_category_name</th><th>product_name_lenght</th><th>product_description_lenght</th><th>product_photos_qty</th><th>product_weight_g</th><th>order_status</th><th>order_purchase_timestamp</th><th>order_approved_at</th><th>order_carrier_delivery_date</th><th>order_customer_delivery_date</th><th>order_estimated_delivery_date</th><th>product_dim_cm</th><th>distance</th><th>survey_score</th><th>month</th></tr>\n",
       "<tr><td>3168875baaa7b1b7b...</td><td>02053</td><td>14940</td><td>8cdbc6c14192efc82...</td><td>4a3ca9315b744ce9f...</td><td>1f30aacc69904c0d0...</td><td>1</td><td>135.0</td><td>16.61</td><td>cama_mesa_banho</td><td>58</td><td>293</td><td>1</td><td>1850</td><td>delivered</td><td>2018-03-28 17:46:58</td><td>2018-03-28 18:08:46</td><td>2018-04-04 00:08:23</td><td>2018-04-11 18:48:44</td><td>2018-04-16 00:00:00</td><td>12000</td><td>186.2724794462031</td><td>5</td><td>3</td></tr>\n",
       "<tr><td>7ab737441b79ec93e...</td><td>02053</td><td>14940</td><td>bb7874514104785ce...</td><td>d2374cbcbb3ca4ab1...</td><td>0152f69b6cf919bcd...</td><td>1</td><td>13.9</td><td>11.85</td><td>cama_mesa_banho</td><td>40</td><td>116</td><td>1</td><td>250</td><td>delivered</td><td>2018-03-03 21:20:15</td><td>2018-03-06 03:51:19</td><td>2018-03-08 21:18:24</td><td>2018-03-29 00:52:30</td><td>2018-04-05 00:00:00</td><td>4800</td><td>186.2724794462031</td><td>3</td><td>3</td></tr>\n",
       "<tr><td>0996218f2d0c8ec0c...</td><td>02053</td><td>07112</td><td>2c94ee4423f153e13...</td><td>8581055ce74af1dab...</td><td>a50acd33ba7a8da8e...</td><td>1</td><td>117.3</td><td>12.81</td><td>automotivo</td><td>53</td><td>555</td><td>1</td><td>4105</td><td>delivered</td><td>2018-04-02 19:13:49</td><td>2018-04-02 19:28:41</td><td>2018-04-04 19:05:46</td><td>2018-04-05 20:08:40</td><td>2018-04-12 00:00:00</td><td>44890</td><td>6.478096287460243</td><td>5</td><td>4</td></tr>\n",
       "<tr><td>0996218f2d0c8ec0c...</td><td>02053</td><td>07112</td><td>2c94ee4423f153e13...</td><td>8581055ce74af1dab...</td><td>dfb97c88e066dc221...</td><td>2</td><td>139.0</td><td>15.88</td><td>automotivo</td><td>53</td><td>597</td><td>1</td><td>5417</td><td>delivered</td><td>2018-04-02 19:13:49</td><td>2018-04-02 19:28:41</td><td>2018-04-04 19:05:46</td><td>2018-04-05 20:08:40</td><td>2018-04-12 00:00:00</td><td>90992</td><td>6.478096287460243</td><td>5</td><td>4</td></tr>\n",
       "<tr><td>b7d6b37701289908b...</td><td>02053</td><td>11701</td><td>f0605edc06e3b81fd...</td><td>e9779976487b77c6d...</td><td>fef63ef09494166bd...</td><td>1</td><td>58.0</td><td>8.27</td><td>esporte_lazer</td><td>57</td><td>3119</td><td>11</td><td>375</td><td>delivered</td><td>2017-05-28 11:05:59</td><td>2017-05-28 11:15:11</td><td>2017-05-29 15:31:29</td><td>2017-05-30 18:48:58</td><td>2017-06-09 00:00:00</td><td>6525</td><td>36.4532508324584</td><td>5</td><td>5</td></tr>\n",
       "<tr><td>663830a477534735b...</td><td>02053</td><td>87050</td><td>c1ddb7521d14db907...</td><td>128639473a139ac0f...</td><td>6a8631b72a2f8729b...</td><td>1</td><td>24.9</td><td>13.51</td><td>eletronicos</td><td>54</td><td>614</td><td>1</td><td>100</td><td>delivered</td><td>2018-07-15 12:37:12</td><td>2018-07-16 12:30:53</td><td>2018-07-16 14:33:00</td><td>2018-07-23 23:56:47</td><td>2018-08-13 00:00:00</td><td>1122</td><td>336.47540988332685</td><td>5</td><td>7</td></tr>\n",
       "<tr><td>be787f15d899c8ef7...</td><td>02053</td><td>15025</td><td>774a68091890f5f1b...</td><td>1f50f920176fa81da...</td><td>0bcc3eeca39e10642...</td><td>1</td><td>59.0</td><td>13.43</td><td>ferramentas_jardim</td><td>57</td><td>339</td><td>2</td><td>1800</td><td>delivered</td><td>2017-12-11 21:11:11</td><td>2017-12-11 21:34:03</td><td>2017-12-13 21:29:21</td><td>2017-12-26 15:45:18</td><td>2018-01-04 00:00:00</td><td>32560</td><td>258.6147106802567</td><td>5</td><td>12</td></tr>\n",
       "<tr><td>b7b4ac6cf1e3f2b55...</td><td>02053</td><td>89180</td><td>57f0e44aca47fb9bc...</td><td>519a7aa428f18d125...</td><td>96ac5914ae8307995...</td><td>1</td><td>29.9</td><td>23.01</td><td>moveis_sala</td><td>47</td><td>521</td><td>4</td><td>1250</td><td>delivered</td><td>2018-07-07 16:56:54</td><td>2018-07-07 17:10:10</td><td>2018-07-09 08:47:00</td><td>2018-07-12 18:22:09</td><td>2018-08-02 00:00:00</td><td>5408</td><td>322.98952366330946</td><td>5</td><td>7</td></tr>\n",
       "<tr><td>27fd0c263b9d38e9c...</td><td>02053</td><td>89180</td><td>d1cd0d62067d359ad...</td><td>519a7aa428f18d125...</td><td>96ac5914ae8307995...</td><td>1</td><td>24.9</td><td>22.97</td><td>moveis_sala</td><td>47</td><td>521</td><td>4</td><td>1250</td><td>delivered</td><td>2018-07-30 21:54:00</td><td>2018-07-30 22:24:22</td><td>2018-07-31 08:40:00</td><td>2018-08-06 17:07:59</td><td>2018-08-17 00:00:00</td><td>5408</td><td>322.98952366330946</td><td>4</td><td>7</td></tr>\n",
       "<tr><td>989efe8965cc3848a...</td><td>02943</td><td>14940</td><td>88b61cadc52207340...</td><td>951e8cef368f09bb3...</td><td>625522e2041f5759b...</td><td>1</td><td>58.99</td><td>17.32</td><td>cama_mesa_banho</td><td>41</td><td>582</td><td>1</td><td>1450</td><td>delivered</td><td>2018-05-08 20:41:49</td><td>2018-05-10 03:09:52</td><td>2018-05-11 12:52:00</td><td>2018-05-16 15:06:53</td><td>2018-05-22 00:00:00</td><td>29925</td><td>178.78291855475408</td><td>5</td><td>5</td></tr>\n",
       "</table>\n"
      ],
      "text/plain": [
       "+--------------------+------------------------+----------------------+--------------------+--------------------+--------------------+-------------+-----+-------------+---------------------+-------------------+--------------------------+------------------+----------------+------------+------------------------+-------------------+---------------------------+----------------------------+-----------------------------+--------------+------------------+------------+-----+\n",
       "|            order_id|customer_zip_code_prefix|seller_zip_code_prefix|         customer_id|           seller_id|          product_id|order_item_id|price|freight_value|product_category_name|product_name_lenght|product_description_lenght|product_photos_qty|product_weight_g|order_status|order_purchase_timestamp|  order_approved_at|order_carrier_delivery_date|order_customer_delivery_date|order_estimated_delivery_date|product_dim_cm|          distance|survey_score|month|\n",
       "+--------------------+------------------------+----------------------+--------------------+--------------------+--------------------+-------------+-----+-------------+---------------------+-------------------+--------------------------+------------------+----------------+------------+------------------------+-------------------+---------------------------+----------------------------+-----------------------------+--------------+------------------+------------+-----+\n",
       "|3168875baaa7b1b7b...|                   02053|                 14940|8cdbc6c14192efc82...|4a3ca9315b744ce9f...|1f30aacc69904c0d0...|            1|135.0|        16.61|      cama_mesa_banho|                 58|                       293|                 1|            1850|   delivered|     2018-03-28 17:46:58|2018-03-28 18:08:46|        2018-04-04 00:08:23|         2018-04-11 18:48:44|          2018-04-16 00:00:00|         12000| 186.2724794462031|           5|    3|\n",
       "|7ab737441b79ec93e...|                   02053|                 14940|bb7874514104785ce...|d2374cbcbb3ca4ab1...|0152f69b6cf919bcd...|            1| 13.9|        11.85|      cama_mesa_banho|                 40|                       116|                 1|             250|   delivered|     2018-03-03 21:20:15|2018-03-06 03:51:19|        2018-03-08 21:18:24|         2018-03-29 00:52:30|          2018-04-05 00:00:00|          4800| 186.2724794462031|           3|    3|\n",
       "|0996218f2d0c8ec0c...|                   02053|                 07112|2c94ee4423f153e13...|8581055ce74af1dab...|a50acd33ba7a8da8e...|            1|117.3|        12.81|           automotivo|                 53|                       555|                 1|            4105|   delivered|     2018-04-02 19:13:49|2018-04-02 19:28:41|        2018-04-04 19:05:46|         2018-04-05 20:08:40|          2018-04-12 00:00:00|         44890| 6.478096287460243|           5|    4|\n",
       "|0996218f2d0c8ec0c...|                   02053|                 07112|2c94ee4423f153e13...|8581055ce74af1dab...|dfb97c88e066dc221...|            2|139.0|        15.88|           automotivo|                 53|                       597|                 1|            5417|   delivered|     2018-04-02 19:13:49|2018-04-02 19:28:41|        2018-04-04 19:05:46|         2018-04-05 20:08:40|          2018-04-12 00:00:00|         90992| 6.478096287460243|           5|    4|\n",
       "|b7d6b37701289908b...|                   02053|                 11701|f0605edc06e3b81fd...|e9779976487b77c6d...|fef63ef09494166bd...|            1| 58.0|         8.27|        esporte_lazer|                 57|                      3119|                11|             375|   delivered|     2017-05-28 11:05:59|2017-05-28 11:15:11|        2017-05-29 15:31:29|         2017-05-30 18:48:58|          2017-06-09 00:00:00|          6525|  36.4532508324584|           5|    5|\n",
       "|663830a477534735b...|                   02053|                 87050|c1ddb7521d14db907...|128639473a139ac0f...|6a8631b72a2f8729b...|            1| 24.9|        13.51|          eletronicos|                 54|                       614|                 1|             100|   delivered|     2018-07-15 12:37:12|2018-07-16 12:30:53|        2018-07-16 14:33:00|         2018-07-23 23:56:47|          2018-08-13 00:00:00|          1122|336.47540988332685|           5|    7|\n",
       "|be787f15d899c8ef7...|                   02053|                 15025|774a68091890f5f1b...|1f50f920176fa81da...|0bcc3eeca39e10642...|            1| 59.0|        13.43|   ferramentas_jardim|                 57|                       339|                 2|            1800|   delivered|     2017-12-11 21:11:11|2017-12-11 21:34:03|        2017-12-13 21:29:21|         2017-12-26 15:45:18|          2018-01-04 00:00:00|         32560| 258.6147106802567|           5|   12|\n",
       "|b7b4ac6cf1e3f2b55...|                   02053|                 89180|57f0e44aca47fb9bc...|519a7aa428f18d125...|96ac5914ae8307995...|            1| 29.9|        23.01|          moveis_sala|                 47|                       521|                 4|            1250|   delivered|     2018-07-07 16:56:54|2018-07-07 17:10:10|        2018-07-09 08:47:00|         2018-07-12 18:22:09|          2018-08-02 00:00:00|          5408|322.98952366330946|           5|    7|\n",
       "|27fd0c263b9d38e9c...|                   02053|                 89180|d1cd0d62067d359ad...|519a7aa428f18d125...|96ac5914ae8307995...|            1| 24.9|        22.97|          moveis_sala|                 47|                       521|                 4|            1250|   delivered|     2018-07-30 21:54:00|2018-07-30 22:24:22|        2018-07-31 08:40:00|         2018-08-06 17:07:59|          2018-08-17 00:00:00|          5408|322.98952366330946|           4|    7|\n",
       "|989efe8965cc3848a...|                   02943|                 14940|88b61cadc52207340...|951e8cef368f09bb3...|625522e2041f5759b...|            1|58.99|        17.32|      cama_mesa_banho|                 41|                       582|                 1|            1450|   delivered|     2018-05-08 20:41:49|2018-05-10 03:09:52|        2018-05-11 12:52:00|         2018-05-16 15:06:53|          2018-05-22 00:00:00|         29925|178.78291855475408|           5|    5|\n",
       "+--------------------+------------------------+----------------------+--------------------+--------------------+--------------------+-------------+-----+-------------+---------------------+-------------------+--------------------------+------------------+----------------+------------+------------------------+-------------------+---------------------------+----------------------------+-----------------------------+--------------+------------------+------------+-----+"
      ]
     },
     "metadata": {},
     "output_type": "display_data"
    }
   ],
   "source": [
    "get_month =  udf (lambda x: datetime.strptime(x, '%Y-%m-%d %H:%M:%S').month, IntegerType())\n",
    "df_order_merged = df_order_merged.withColumn('month', get_month(col('order_purchase_timestamp')))\n",
    "\n",
    "display(df_order_merged.limit(10))"
   ]
  },
  {
   "cell_type": "markdown",
   "id": "4a7c8518",
   "metadata": {},
   "source": [
    "display(df_order_merged.count())\n",
    "display(df_order_merged.count())\n",
    "display(df_order_merged.count())\n",
    "display(df_order_merged.count())\n",
    "display(df_order_merged.count())\n",
    "display(df_order_merged.count())\n",
    "   - **Plot of orders per month**"
   ]
  },
  {
   "cell_type": "code",
   "execution_count": 22,
   "id": "fc355792",
   "metadata": {},
   "outputs": [
    {
     "data": {
      "image/png": "[encoded data removed]",
      "text/plain": [
       "<Figure size 1080x720 with 1 Axes>"
      ]
     },
     "metadata": {
      "needs_background": "light"
     },
     "output_type": "display_data"
    }
   ],
   "source": [
    "df_pd_timestamps = df_order_merged.select('order_id','order_purchase_timestamp').toPandas()\n",
    "df_pd_timestamps.groupby(df_pd_timestamps['order_purchase_timestamp'].astype('datetime64[ns]').dt.month)\\\n",
    "    .agg({\"order_id\": \"nunique\"})\\\n",
    "    .plot(figsize=(15,10), kind=\"bar\",\n",
    "          title=\"Orders per month\",\n",
    "          ylabel=\"Num of orders\",\n",
    "          xlabel=\"Month\",\n",
    "          legend=False)\n",
    "plt.xticks(np.arange(0,12), ['Jan','Feb','Mar','Apr','May','Jun',\n",
    "                             'Jul','Aug','Sept','Oct','Nov','Dec'], \n",
    "           rotation='horizontal')\n",
    "plt.show()\n"
   ]
  },
  {
   "cell_type": "code",
   "execution_count": 23,
   "id": "6247c87e",
   "metadata": {},
   "outputs": [
    {
     "name": "stdout",
     "output_type": "stream",
     "text": [
      "{   'df_order_merged': {   'columns': [   'order_id',\n",
      "                                          'customer_zip_code_prefix',\n",
      "                                          'seller_zip_code_prefix',\n",
      "                                          'customer_id',\n",
      "                                          'seller_id',\n",
      "                                          'product_id',\n",
      "                                          'order_item_id',\n",
      "                                          'price',\n",
      "                                          'freight_value',\n",
      "                                          'product_category_name',\n",
      "                                          'product_name_lenght',\n",
      "                                          'product_description_lenght',\n",
      "                                          'product_photos_qty',\n",
      "                                          'product_weight_g',\n",
      "                                          'order_status',\n",
      "                                          'order_purchase_timestamp',\n",
      "                                          'order_approved_at',\n",
      "                                          'order_carrier_delivery_date',\n",
      "                                          'order_customer_delivery_date',\n",
      "                                          'order_estimated_delivery_date',\n",
      "                                          'product_dim_cm',\n",
      "                                          'distance',\n",
      "                                          'survey_score',\n",
      "                                          'month'],\n",
      "                           'count': 108747}}\n"
     ]
    }
   ],
   "source": [
    "pp.pprint(get_columns([df_order_merged]))"
   ]
  },
  {
   "cell_type": "markdown",
   "id": "50c70f7b",
   "metadata": {},
   "source": [
    "## Create a incrementing id for product_catergory"
   ]
  },
  {
   "cell_type": "code",
   "execution_count": 24,
   "id": "a66e6413",
   "metadata": {},
   "outputs": [],
   "source": [
    "df_product_category_name_translation = df_product_category_name_translation.withColumn(\"cat_id\", F.monotonically_increasing_id())\n",
    "df_order_merged = df_order_merged.join(df_product_category_name_translation.select('product_category_name','cat_id'), on=['product_category_name'], how='inner')\n",
    "df_order_merged = df_order_merged.withColumn('cat_id', df_order_merged['cat_id'].cast(IntegerType()))"
   ]
  },
  {
   "cell_type": "code",
   "execution_count": 25,
   "id": "540d672f",
   "metadata": {},
   "outputs": [
    {
     "data": {
      "text/plain": [
       "StructType(List(StructField(product_category_name,StringType,true),StructField(order_id,StringType,true),StructField(customer_zip_code_prefix,StringType,true),StructField(seller_zip_code_prefix,StringType,true),StructField(customer_id,StringType,true),StructField(seller_id,StringType,true),StructField(product_id,StringType,true),StructField(order_item_id,StringType,true),StructField(price,FloatType,true),StructField(freight_value,FloatType,true),StructField(product_name_lenght,IntegerType,true),StructField(product_description_lenght,IntegerType,true),StructField(product_photos_qty,IntegerType,true),StructField(product_weight_g,IntegerType,true),StructField(order_status,StringType,true),StructField(order_purchase_timestamp,StringType,true),StructField(order_approved_at,StringType,true),StructField(order_carrier_delivery_date,StringType,true),StructField(order_customer_delivery_date,StringType,true),StructField(order_estimated_delivery_date,StringType,true),StructField(product_dim_cm,IntegerType,true),StructField(distance,DoubleType,true),StructField(survey_score,IntegerType,true),StructField(month,IntegerType,true),StructField(cat_id,IntegerType,false)))"
      ]
     },
     "execution_count": 25,
     "metadata": {},
     "output_type": "execute_result"
    }
   ],
   "source": [
    "df_order_merged.schema"
   ]
  },
  {
   "cell_type": "code",
   "execution_count": 26,
   "id": "39ad899b",
   "metadata": {},
   "outputs": [
    {
     "data": {
      "text/html": [
       "<table border='1'>\n",
       "<tr><th>product_category_name</th><th>order_id</th><th>customer_zip_code_prefix</th><th>seller_zip_code_prefix</th><th>customer_id</th><th>seller_id</th><th>product_id</th><th>order_item_id</th><th>price</th><th>freight_value</th><th>product_name_lenght</th><th>product_description_lenght</th><th>product_photos_qty</th><th>product_weight_g</th><th>order_status</th><th>order_purchase_timestamp</th><th>order_approved_at</th><th>order_carrier_delivery_date</th><th>order_customer_delivery_date</th><th>order_estimated_delivery_date</th><th>product_dim_cm</th><th>distance</th><th>survey_score</th><th>month</th><th>cat_id</th></tr>\n",
       "<tr><td>cama_mesa_banho</td><td>3168875baaa7b1b7b...</td><td>02053</td><td>14940</td><td>8cdbc6c14192efc82...</td><td>4a3ca9315b744ce9f...</td><td>1f30aacc69904c0d0...</td><td>1</td><td>135.0</td><td>16.61</td><td>58</td><td>293</td><td>1</td><td>1850</td><td>delivered</td><td>2018-03-28 17:46:58</td><td>2018-03-28 18:08:46</td><td>2018-04-04 00:08:23</td><td>2018-04-11 18:48:44</td><td>2018-04-16 00:00:00</td><td>12000</td><td>186.2724794462031</td><td>5</td><td>3</td><td>3</td></tr>\n",
       "<tr><td>cama_mesa_banho</td><td>7ab737441b79ec93e...</td><td>02053</td><td>14940</td><td>bb7874514104785ce...</td><td>d2374cbcbb3ca4ab1...</td><td>0152f69b6cf919bcd...</td><td>1</td><td>13.9</td><td>11.85</td><td>40</td><td>116</td><td>1</td><td>250</td><td>delivered</td><td>2018-03-03 21:20:15</td><td>2018-03-06 03:51:19</td><td>2018-03-08 21:18:24</td><td>2018-03-29 00:52:30</td><td>2018-04-05 00:00:00</td><td>4800</td><td>186.2724794462031</td><td>3</td><td>3</td><td>3</td></tr>\n",
       "<tr><td>automotivo</td><td>0996218f2d0c8ec0c...</td><td>02053</td><td>07112</td><td>2c94ee4423f153e13...</td><td>8581055ce74af1dab...</td><td>a50acd33ba7a8da8e...</td><td>1</td><td>117.3</td><td>12.81</td><td>53</td><td>555</td><td>1</td><td>4105</td><td>delivered</td><td>2018-04-02 19:13:49</td><td>2018-04-02 19:28:41</td><td>2018-04-04 19:05:46</td><td>2018-04-05 20:08:40</td><td>2018-04-12 00:00:00</td><td>44890</td><td>6.478096287460243</td><td>5</td><td>4</td><td>2</td></tr>\n",
       "<tr><td>automotivo</td><td>0996218f2d0c8ec0c...</td><td>02053</td><td>07112</td><td>2c94ee4423f153e13...</td><td>8581055ce74af1dab...</td><td>dfb97c88e066dc221...</td><td>2</td><td>139.0</td><td>15.88</td><td>53</td><td>597</td><td>1</td><td>5417</td><td>delivered</td><td>2018-04-02 19:13:49</td><td>2018-04-02 19:28:41</td><td>2018-04-04 19:05:46</td><td>2018-04-05 20:08:40</td><td>2018-04-12 00:00:00</td><td>90992</td><td>6.478096287460243</td><td>5</td><td>4</td><td>2</td></tr>\n",
       "<tr><td>esporte_lazer</td><td>b7d6b37701289908b...</td><td>02053</td><td>11701</td><td>f0605edc06e3b81fd...</td><td>e9779976487b77c6d...</td><td>fef63ef09494166bd...</td><td>1</td><td>58.0</td><td>8.27</td><td>57</td><td>3119</td><td>11</td><td>375</td><td>delivered</td><td>2017-05-28 11:05:59</td><td>2017-05-28 11:15:11</td><td>2017-05-29 15:31:29</td><td>2017-05-30 18:48:58</td><td>2017-06-09 00:00:00</td><td>6525</td><td>36.4532508324584</td><td>5</td><td>5</td><td>5</td></tr>\n",
       "<tr><td>eletronicos</td><td>663830a477534735b...</td><td>02053</td><td>87050</td><td>c1ddb7521d14db907...</td><td>128639473a139ac0f...</td><td>6a8631b72a2f8729b...</td><td>1</td><td>24.9</td><td>13.51</td><td>54</td><td>614</td><td>1</td><td>100</td><td>delivered</td><td>2018-07-15 12:37:12</td><td>2018-07-16 12:30:53</td><td>2018-07-16 14:33:00</td><td>2018-07-23 23:56:47</td><td>2018-08-13 00:00:00</td><td>1122</td><td>336.47540988332685</td><td>5</td><td>7</td><td>32</td></tr>\n",
       "<tr><td>ferramentas_jardim</td><td>be787f15d899c8ef7...</td><td>02053</td><td>15025</td><td>774a68091890f5f1b...</td><td>1f50f920176fa81da...</td><td>0bcc3eeca39e10642...</td><td>1</td><td>59.0</td><td>13.43</td><td>57</td><td>339</td><td>2</td><td>1800</td><td>delivered</td><td>2017-12-11 21:11:11</td><td>2017-12-11 21:34:03</td><td>2017-12-13 21:29:21</td><td>2017-12-26 15:45:18</td><td>2018-01-04 00:00:00</td><td>32560</td><td>258.6147106802567</td><td>5</td><td>12</td><td>16</td></tr>\n",
       "<tr><td>moveis_sala</td><td>b7b4ac6cf1e3f2b55...</td><td>02053</td><td>89180</td><td>57f0e44aca47fb9bc...</td><td>519a7aa428f18d125...</td><td>96ac5914ae8307995...</td><td>1</td><td>29.9</td><td>23.01</td><td>47</td><td>521</td><td>4</td><td>1250</td><td>delivered</td><td>2018-07-07 16:56:54</td><td>2018-07-07 17:10:10</td><td>2018-07-09 08:47:00</td><td>2018-07-12 18:22:09</td><td>2018-08-02 00:00:00</td><td>5408</td><td>322.98952366330946</td><td>5</td><td>7</td><td>42</td></tr>\n",
       "<tr><td>moveis_sala</td><td>27fd0c263b9d38e9c...</td><td>02053</td><td>89180</td><td>d1cd0d62067d359ad...</td><td>519a7aa428f18d125...</td><td>96ac5914ae8307995...</td><td>1</td><td>24.9</td><td>22.97</td><td>47</td><td>521</td><td>4</td><td>1250</td><td>delivered</td><td>2018-07-30 21:54:00</td><td>2018-07-30 22:24:22</td><td>2018-07-31 08:40:00</td><td>2018-08-06 17:07:59</td><td>2018-08-17 00:00:00</td><td>5408</td><td>322.98952366330946</td><td>4</td><td>7</td><td>42</td></tr>\n",
       "<tr><td>cama_mesa_banho</td><td>989efe8965cc3848a...</td><td>02943</td><td>14940</td><td>88b61cadc52207340...</td><td>951e8cef368f09bb3...</td><td>625522e2041f5759b...</td><td>1</td><td>58.99</td><td>17.32</td><td>41</td><td>582</td><td>1</td><td>1450</td><td>delivered</td><td>2018-05-08 20:41:49</td><td>2018-05-10 03:09:52</td><td>2018-05-11 12:52:00</td><td>2018-05-16 15:06:53</td><td>2018-05-22 00:00:00</td><td>29925</td><td>178.78291855475408</td><td>5</td><td>5</td><td>3</td></tr>\n",
       "</table>\n"
      ],
      "text/plain": [
       "+---------------------+--------------------+------------------------+----------------------+--------------------+--------------------+--------------------+-------------+-----+-------------+-------------------+--------------------------+------------------+----------------+------------+------------------------+-------------------+---------------------------+----------------------------+-----------------------------+--------------+------------------+------------+-----+------+\n",
       "|product_category_name|            order_id|customer_zip_code_prefix|seller_zip_code_prefix|         customer_id|           seller_id|          product_id|order_item_id|price|freight_value|product_name_lenght|product_description_lenght|product_photos_qty|product_weight_g|order_status|order_purchase_timestamp|  order_approved_at|order_carrier_delivery_date|order_customer_delivery_date|order_estimated_delivery_date|product_dim_cm|          distance|survey_score|month|cat_id|\n",
       "+---------------------+--------------------+------------------------+----------------------+--------------------+--------------------+--------------------+-------------+-----+-------------+-------------------+--------------------------+------------------+----------------+------------+------------------------+-------------------+---------------------------+----------------------------+-----------------------------+--------------+------------------+------------+-----+------+\n",
       "|      cama_mesa_banho|3168875baaa7b1b7b...|                   02053|                 14940|8cdbc6c14192efc82...|4a3ca9315b744ce9f...|1f30aacc69904c0d0...|            1|135.0|        16.61|                 58|                       293|                 1|            1850|   delivered|     2018-03-28 17:46:58|2018-03-28 18:08:46|        2018-04-04 00:08:23|         2018-04-11 18:48:44|          2018-04-16 00:00:00|         12000| 186.2724794462031|           5|    3|     3|\n",
       "|      cama_mesa_banho|7ab737441b79ec93e...|                   02053|                 14940|bb7874514104785ce...|d2374cbcbb3ca4ab1...|0152f69b6cf919bcd...|            1| 13.9|        11.85|                 40|                       116|                 1|             250|   delivered|     2018-03-03 21:20:15|2018-03-06 03:51:19|        2018-03-08 21:18:24|         2018-03-29 00:52:30|          2018-04-05 00:00:00|          4800| 186.2724794462031|           3|    3|     3|\n",
       "|           automotivo|0996218f2d0c8ec0c...|                   02053|                 07112|2c94ee4423f153e13...|8581055ce74af1dab...|a50acd33ba7a8da8e...|            1|117.3|        12.81|                 53|                       555|                 1|            4105|   delivered|     2018-04-02 19:13:49|2018-04-02 19:28:41|        2018-04-04 19:05:46|         2018-04-05 20:08:40|          2018-04-12 00:00:00|         44890| 6.478096287460243|           5|    4|     2|\n",
       "|           automotivo|0996218f2d0c8ec0c...|                   02053|                 07112|2c94ee4423f153e13...|8581055ce74af1dab...|dfb97c88e066dc221...|            2|139.0|        15.88|                 53|                       597|                 1|            5417|   delivered|     2018-04-02 19:13:49|2018-04-02 19:28:41|        2018-04-04 19:05:46|         2018-04-05 20:08:40|          2018-04-12 00:00:00|         90992| 6.478096287460243|           5|    4|     2|\n",
       "|        esporte_lazer|b7d6b37701289908b...|                   02053|                 11701|f0605edc06e3b81fd...|e9779976487b77c6d...|fef63ef09494166bd...|            1| 58.0|         8.27|                 57|                      3119|                11|             375|   delivered|     2017-05-28 11:05:59|2017-05-28 11:15:11|        2017-05-29 15:31:29|         2017-05-30 18:48:58|          2017-06-09 00:00:00|          6525|  36.4532508324584|           5|    5|     5|\n",
       "|          eletronicos|663830a477534735b...|                   02053|                 87050|c1ddb7521d14db907...|128639473a139ac0f...|6a8631b72a2f8729b...|            1| 24.9|        13.51|                 54|                       614|                 1|             100|   delivered|     2018-07-15 12:37:12|2018-07-16 12:30:53|        2018-07-16 14:33:00|         2018-07-23 23:56:47|          2018-08-13 00:00:00|          1122|336.47540988332685|           5|    7|    32|\n",
       "|   ferramentas_jardim|be787f15d899c8ef7...|                   02053|                 15025|774a68091890f5f1b...|1f50f920176fa81da...|0bcc3eeca39e10642...|            1| 59.0|        13.43|                 57|                       339|                 2|            1800|   delivered|     2017-12-11 21:11:11|2017-12-11 21:34:03|        2017-12-13 21:29:21|         2017-12-26 15:45:18|          2018-01-04 00:00:00|         32560| 258.6147106802567|           5|   12|    16|\n",
       "|          moveis_sala|b7b4ac6cf1e3f2b55...|                   02053|                 89180|57f0e44aca47fb9bc...|519a7aa428f18d125...|96ac5914ae8307995...|            1| 29.9|        23.01|                 47|                       521|                 4|            1250|   delivered|     2018-07-07 16:56:54|2018-07-07 17:10:10|        2018-07-09 08:47:00|         2018-07-12 18:22:09|          2018-08-02 00:00:00|          5408|322.98952366330946|           5|    7|    42|\n",
       "|          moveis_sala|27fd0c263b9d38e9c...|                   02053|                 89180|d1cd0d62067d359ad...|519a7aa428f18d125...|96ac5914ae8307995...|            1| 24.9|        22.97|                 47|                       521|                 4|            1250|   delivered|     2018-07-30 21:54:00|2018-07-30 22:24:22|        2018-07-31 08:40:00|         2018-08-06 17:07:59|          2018-08-17 00:00:00|          5408|322.98952366330946|           4|    7|    42|\n",
       "|      cama_mesa_banho|989efe8965cc3848a...|                   02943|                 14940|88b61cadc52207340...|951e8cef368f09bb3...|625522e2041f5759b...|            1|58.99|        17.32|                 41|                       582|                 1|            1450|   delivered|     2018-05-08 20:41:49|2018-05-10 03:09:52|        2018-05-11 12:52:00|         2018-05-16 15:06:53|          2018-05-22 00:00:00|         29925|178.78291855475408|           5|    5|     3|\n",
       "+---------------------+--------------------+------------------------+----------------------+--------------------+--------------------+--------------------+-------------+-----+-------------+-------------------+--------------------------+------------------+----------------+------------+------------------------+-------------------+---------------------------+----------------------------+-----------------------------+--------------+------------------+------------+-----+------+"
      ]
     },
     "execution_count": 26,
     "metadata": {},
     "output_type": "execute_result"
    }
   ],
   "source": [
    "df_order_merged.limit(10)"
   ]
  },
  {
   "cell_type": "markdown",
   "id": "7d8eacba",
   "metadata": {},
   "source": [
    "## Using a smaller dataframe for the final K-Means model.\n",
    "  - ### Using a dataset split of 60%, 10%, 30% for the train, validation and test datasets\n",
    "  - ### To prevent the kernel crashes the train, test data sets have been restricted to 30,000 and 20,000 data points"
   ]
  },
  {
   "cell_type": "code",
   "execution_count": 27,
   "id": "efc7c86d",
   "metadata": {},
   "outputs": [],
   "source": [
    "features = ['distance', 'survey_score', 'month', 'price', 'freight_value' , 'product_dim_cm', 'product_weight_g', 'product_photos_qty', 'cat_id']\n",
    "features_ = ['distance', 'survey_score', 'month', 'price', 'freight_value' , 'product_dim_cm', 'product_weight_g', 'product_photos_qty', 'cat_id','product_id','customer_id']\n",
    "\n",
    "df_order_merged_short = df_order_merged.select(features_)\n",
    "#df_order_merged = df_order_merged.select(features)\n",
    "VA = VectorAssembler(inputCols=features, outputCol='features')\n",
    "transformed_data = VA.transform(df_order_merged_short)\n",
    "\n",
    "train_df,val_df,  test_df = transformed_data.randomSplit([0.6, 0.1,0.3], seed = 42)\n"
   ]
  },
  {
   "cell_type": "markdown",
   "id": "d059b3e6",
   "metadata": {},
   "source": [
    "## Check the datatypes of the columns before fitting it to the model"
   ]
  },
  {
   "cell_type": "code",
   "execution_count": 28,
   "id": "242beb20",
   "metadata": {},
   "outputs": [
    {
     "data": {
      "text/plain": [
       "StructType(List(StructField(distance,DoubleType,true),StructField(survey_score,IntegerType,true),StructField(month,IntegerType,true),StructField(price,FloatType,true),StructField(freight_value,FloatType,true),StructField(product_dim_cm,IntegerType,true),StructField(product_weight_g,IntegerType,true),StructField(product_photos_qty,IntegerType,true),StructField(cat_id,IntegerType,false),StructField(product_id,StringType,true),StructField(customer_id,StringType,true)))"
      ]
     },
     "metadata": {},
     "output_type": "display_data"
    }
   ],
   "source": [
    "display(df_order_merged_short.schema)"
   ]
  },
  {
   "cell_type": "markdown",
   "id": "d66831c6",
   "metadata": {},
   "source": [
    "## Scale the train, validation, test datasets"
   ]
  },
  {
   "cell_type": "code",
   "execution_count": 29,
   "id": "aae0d942",
   "metadata": {},
   "outputs": [
    {
     "name": "stdout",
     "output_type": "stream",
     "text": [
      "Fit the trained data and create a scaler model\n",
      "+-----------------+------------+-----+-----+-------------+--------------+----------------+------------------+------+--------------------+--------------------+--------------------+--------------------+\n",
      "|         distance|survey_score|month|price|freight_value|product_dim_cm|product_weight_g|product_photos_qty|cat_id|          product_id|         customer_id|            features|              scaled|\n",
      "+-----------------+------------+-----+-----+-------------+--------------+----------------+------------------+------+--------------------+--------------------+--------------------+--------------------+\n",
      "|2.295458467223866|           5|    7|15.99|         7.39|          8000|             250|                 2|    12|c2c00c360a8407127...|01f841d4c59e8b763...|[2.29545846722386...|[0.00628629665383...|\n",
      "|3.021365960240162|           5|   12| 29.0|         8.72|          6000|             325|                 4|     7|170b033abb14ccc92...|683765c80b88aa6bb...|[3.02136596024016...|[0.00827425239753...|\n",
      "+-----------------+------------+-----+-----+-------------+--------------+----------------+------------------+------+--------------------+--------------------+--------------------+--------------------+\n",
      "only showing top 2 rows\n",
      "\n",
      "Fit the test data to the scaler model\n",
      "+-----------------+------------+-----+-----+-------------+--------------+----------------+------------------+------+--------------------+--------------------+--------------------+--------------------+\n",
      "|         distance|survey_score|month|price|freight_value|product_dim_cm|product_weight_g|product_photos_qty|cat_id|          product_id|         customer_id|            features|              scaled|\n",
      "+-----------------+------------+-----+-----+-------------+--------------+----------------+------------------+------+--------------------+--------------------+--------------------+--------------------+\n",
      "|2.396908421333802|           4|    6|200.5|          9.6|         17496|             455|                 1|    15|6b75ce117b8fcc752...|71af36f53c0fe0b5b...|[2.39690842133380...|[0.00656412546936...|\n",
      "|6.430892166424179|           5|    6|24.99|         7.39|           816|             350|                 5|     8|a2da86fa759178e9e...|68cb7fbc85416655a...|[6.43089216642417...|[0.01761151268219...|\n",
      "+-----------------+------------+-----+-----+-------------+--------------+----------------+------------------+------+--------------------+--------------------+--------------------+--------------------+\n",
      "only showing top 2 rows\n",
      "\n",
      "Fit the validation data to the scaler model\n",
      "+-----------------+------------+-----+-----+-------------+--------------+----------------+------------------+------+--------------------+--------------------+--------------------+--------------------+\n",
      "|         distance|survey_score|month|price|freight_value|product_dim_cm|product_weight_g|product_photos_qty|cat_id|          product_id|         customer_id|            features|              scaled|\n",
      "+-----------------+------------+-----+-----+-------------+--------------+----------------+------------------+------+--------------------+--------------------+--------------------+--------------------+\n",
      "|2.131367549634232|           5|    3|127.9|         8.66|          4693|             350|                 1|     1|1ca737c9f8f06b367...|7093a3faf4512a873...|[2.13136754963423...|[0.00583692054840...|\n",
      "|4.213825395287663|           5|    1|38.25|         9.94|          8400|             583|                 2|    14|72d3bf1d3a790f887...|0247131a290588492...|[4.21382539528766...|[0.01153989795959...|\n",
      "+-----------------+------------+-----+-----+-------------+--------------+----------------+------------------+------+--------------------+--------------------+--------------------+--------------------+\n",
      "only showing top 2 rows\n",
      "\n",
      "Number of rows in train_df = 30000, val_df = 10847, test_df = 20000\n"
     ]
    }
   ],
   "source": [
    "print(\"Fit the trained data and create a scaler model\")\n",
    "scale = StandardScaler(inputCol='features',outputCol='scaled')\n",
    "\n",
    "train_df = train_df.limit(N_TRAIN_DATA)\n",
    "train_scaled_data = scale.fit(train_df)\n",
    "train_scaled_data_output = train_scaled_data.transform(train_df)\n",
    "train_scaled_data_output.show(2)\n",
    "\n",
    "print(\"Fit the test data to the scaler model\")\n",
    "test_df = test_df.limit(N_TEST_DATA)\n",
    "test_scaled_data_output = train_scaled_data.transform(test_df)\n",
    "test_scaled_data_output.show(2)\n",
    "\n",
    "print(\"Fit the validation data to the scaler model\")\n",
    "val_scaled_data_output = train_scaled_data.transform(val_df)\n",
    "val_scaled_data_output.show(2)\n",
    "\n",
    "\n",
    "print(\"Number of rows in train_df = {}, val_df = {}, test_df = {}\".format(N_TRAIN_DATA,val_df.count(), N_TEST_DATA))"
   ]
  },
  {
   "cell_type": "markdown",
   "id": "2c99f97b",
   "metadata": {},
   "source": [
    "## Results"
   ]
  },
  {
   "cell_type": "markdown",
   "id": "c56a7eb1",
   "metadata": {},
   "source": [
    "  - ### Find the optimal 'k' for clustering"
   ]
  },
  {
   "cell_type": "code",
   "execution_count": 30,
   "id": "a1f13f7a",
   "metadata": {},
   "outputs": [
    {
     "name": "stdout",
     "output_type": "stream",
     "text": [
      "Silhouette Score for k = 2 : 0.7154185741524448\n",
      "Silhouette Score for k = 3 : 0.3098066990821567\n",
      "Silhouette Score for k = 4 : 0.29358178371419563\n",
      "Silhouette Score for k = 5 : 0.2987095209119094\n",
      "Silhouette Score for k = 6 : 0.3041229055406726\n",
      "Silhouette Score for k = 7 : 0.25531200898935774\n",
      "Silhouette Score for k = 8 : 0.2844162143852261\n",
      "Silhouette Score for k = 9 : 0.3003896273958905\n",
      "Silhouette Score for k = 10 : 0.3003355105400472\n",
      "Silhouette Score for k = 11 : 0.26685786770597814\n",
      "Silhouette Score for k = 12 : 0.3005346901436662\n",
      "Silhouette Score for k = 13 : 0.2608738004931076\n",
      "Silhouette Score for k = 14 : 0.2477006753074689\n"
     ]
    }
   ],
   "source": [
    "silhouette_score=[]\n",
    "evaluator = ClusteringEvaluator(predictionCol='prediction', featuresCol='scaled', \\\n",
    "                                metricName='silhouette', distanceMeasure='squaredEuclidean')\n",
    "\n",
    "for i in range(2,15):    \n",
    "    KMeans_algo=KMeans(featuresCol='scaled', k=i)\n",
    "    KMeans_fit=KMeans_algo.fit(train_scaled_data_output)    \n",
    "    output=KMeans_fit.transform(train_scaled_data_output)\n",
    "    score=evaluator.evaluate(output)\n",
    "    silhouette_score.append(score)\n",
    "    print(\"Silhouette Score for k = {} : {}\".format(i,score))\n"
   ]
  },
  {
   "cell_type": "markdown",
   "id": "a240a5bf",
   "metadata": {},
   "source": [
    "  - ### Plot of Cost against 'k'"
   ]
  },
  {
   "cell_type": "code",
   "execution_count": 31,
   "id": "285e6a12",
   "metadata": {},
   "outputs": [
    {
     "data": {
      "text/plain": [
       "Text(0, 0.5, 'cost')"
      ]
     },
     "execution_count": 31,
     "metadata": {},
     "output_type": "execute_result"
    },
    {
     "data": {
      "image/png": "[encoded data removed]",
      "text/plain": [
       "<Figure size 576x432 with 1 Axes>"
      ]
     },
     "metadata": {
      "needs_background": "light"
     },
     "output_type": "display_data"
    }
   ],
   "source": [
    "(x,y) = (range(2,15),silhouette_score)\n",
    "x_new = np.linspace(1, 14, 200)\n",
    "a_BSpline = make_interp_spline(x, y)\n",
    "y_new = a_BSpline(x_new)\n",
    "\n",
    "fig, ax = plt.subplots(1,1, figsize =(8,6))\n",
    "ax.plot(x_new,y_new)\n",
    "ax.set_title(\"Cost vs 'k'\")\n",
    "ax.set_xlabel('k')\n",
    "ax.set_ylabel('cost')"
   ]
  },
  {
   "cell_type": "markdown",
   "id": "f6364408",
   "metadata": {},
   "source": [
    "## It can be seen from the above plot that a optimal value of k = 4"
   ]
  },
  {
   "cell_type": "code",
   "execution_count": 32,
   "id": "11ed9226",
   "metadata": {},
   "outputs": [
    {
     "name": "stdout",
     "output_type": "stream",
     "text": [
      "Silhouette Score for training data and k = 4: 0.29358178371419563\n"
     ]
    }
   ],
   "source": [
    "KMeans_algo=KMeans(featuresCol='scaled', k=4)\n",
    "KMeans_fit=KMeans_algo.fit(train_scaled_data_output)    \n",
    "train_output=KMeans_fit.transform(train_scaled_data_output)\n",
    "score=evaluator.evaluate(train_output)\n",
    "silhouette_score.append(score)\n",
    "print(\"Silhouette Score for training data and k = {}: {}\".format(4,score))"
   ]
  },
  {
   "cell_type": "markdown",
   "id": "3b3b375c",
   "metadata": {},
   "source": [
    "  - ### Plot the clusters"
   ]
  },
  {
   "cell_type": "code",
   "execution_count": 33,
   "id": "b2d787c5",
   "metadata": {},
   "outputs": [
    {
     "data": {
      "image/png": "[encoded data removed]",
      "text/plain": [
       "<Figure size 1080x720 with 1 Axes>"
      ]
     },
     "metadata": {
      "needs_background": "light"
     },
     "output_type": "display_data"
    }
   ],
   "source": [
    "train_df = train_output.toPandas()\n",
    "# unpack the dense scaled vectors\n",
    "train_df_scaled = train_df['scaled'].apply(lambda x: pd.Series(x.toArray()))\n",
    "# use PCA to reduce the dimension to 2\n",
    "pca = PCA(2)\n",
    "data_pca = pca.fit_transform(train_df_scaled)\n",
    "kmeans_model = sklKMeans(n_clusters= 4)\n",
    "label = kmeans_model.fit_predict(data_pca)\n",
    "unique_labels = np.unique(label)\n",
    "centroids = kmeans_model.cluster_centers_\n",
    "\n",
    "fig, ax = plt.subplots(figsize=(15, 10))\n",
    "\n",
    "for i in unique_labels:\n",
    "    ax.scatter(data_pca[label == i , 0] , data_pca[label == i , 1] , label = i, s=10)\n",
    "\n",
    "ax.scatter(centroids[:,0] , centroids[:,1] , s = 80, color = 'black', marker='X')\n",
    "ax.set_title(\"Plot of the clusters in 2D\")\n",
    "plt.legend()\n",
    "plt.show()"
   ]
  },
  {
   "cell_type": "markdown",
   "id": "4be15bdf",
   "metadata": {},
   "source": [
    "  - ### Score for the validation data"
   ]
  },
  {
   "cell_type": "code",
   "execution_count": 34,
   "id": "6fcb0dd6",
   "metadata": {},
   "outputs": [
    {
     "name": "stdout",
     "output_type": "stream",
     "text": [
      "Silhouette Score for validation data: 0.2927932745091702\n"
     ]
    }
   ],
   "source": [
    "val_output=KMeans_fit.transform(val_scaled_data_output)\n",
    "score=evaluator.evaluate(val_output)\n",
    "print(\"Silhouette Score for validation data:\",score)\n"
   ]
  },
  {
   "cell_type": "markdown",
   "id": "b6aaeceb",
   "metadata": {},
   "source": [
    "  - ### Score for the test data"
   ]
  },
  {
   "cell_type": "code",
   "execution_count": 35,
   "id": "3ada02c9",
   "metadata": {},
   "outputs": [
    {
     "name": "stdout",
     "output_type": "stream",
     "text": [
      "Silhouette Score for test data: 0.297981050113347\n"
     ]
    }
   ],
   "source": [
    "test_output=KMeans_fit.transform(test_scaled_data_output)\n",
    "score=evaluator.evaluate(test_output)\n",
    "print(\"Silhouette Score for test data:\",score)\n"
   ]
  },
  {
   "cell_type": "markdown",
   "id": "9f454307",
   "metadata": {},
   "source": [
    "## Combine all the outputs together"
   ]
  },
  {
   "cell_type": "code",
   "execution_count": 36,
   "id": "fc384eca",
   "metadata": {},
   "outputs": [],
   "source": [
    "Final_output = train_output.union(train_output.union(val_output)).dropna()"
   ]
  },
  {
   "cell_type": "code",
   "execution_count": 37,
   "id": "67e7bb3b",
   "metadata": {},
   "outputs": [
    {
     "data": {
      "text/html": [
       "<table border='1'>\n",
       "<tr><th>distance</th><th>survey_score</th><th>month</th><th>price</th><th>freight_value</th><th>product_dim_cm</th><th>product_weight_g</th><th>product_photos_qty</th><th>cat_id</th><th>product_id</th><th>customer_id</th><th>features</th><th>scaled</th><th>prediction</th></tr>\n",
       "<tr><td>198.33453976369512</td><td>5</td><td>7</td><td>99.99</td><td>71.78</td><td>112251</td><td>8250</td><td>1</td><td>3</td><td>22dd24a9dd84994cf...</td><td>8e4a4bf8cb5a4231d...</td><td>[198.334539763695...</td><td>[0.54315500430913...</td><td>3</td></tr>\n",
       "<tr><td>210.36938402746296</td><td>4</td><td>11</td><td>1610.0</td><td>32.11</td><td>30912</td><td>3510</td><td>1</td><td>5</td><td>f209a7348b00e6af7...</td><td>90753daa6413261a9...</td><td>[210.369384027462...</td><td>[0.57611338813746...</td><td>3</td></tr>\n",
       "<tr><td>252.22465480922648</td><td>5</td><td>1</td><td>289.0</td><td>46.48</td><td>53400</td><td>10150</td><td>3</td><td>7</td><td>4aa6014eceb682077...</td><td>359b9d6f7f8977275...</td><td>[252.224654809226...</td><td>[0.69073739568004...</td><td>3</td></tr>\n",
       "<tr><td>262.16783233924406</td><td>4</td><td>11</td><td>139.99</td><td>32.01</td><td>64000</td><td>10700</td><td>1</td><td>11</td><td>83b00325c13c44245...</td><td>68bc16b896692f80d...</td><td>[262.167832339244...</td><td>[0.71796758282041...</td><td>3</td></tr>\n",
       "<tr><td>308.96169782395975</td><td>3</td><td>8</td><td>795.0</td><td>63.65</td><td>51975</td><td>9050</td><td>8</td><td>63</td><td>f49e985b4cb2d0543...</td><td>69f32d82d34e7b1a4...</td><td>[308.961697823959...</td><td>[0.84611632705464...</td><td>3</td></tr>\n",
       "<tr><td>313.0098992106862</td><td>5</td><td>7</td><td>159.9</td><td>60.35</td><td>62640</td><td>7474</td><td>4</td><td>3</td><td>0ec7b6a863e219792...</td><td>5500c1fe2f5362793...</td><td>[313.009899210686...</td><td>[0.85720265041653...</td><td>3</td></tr>\n",
       "<tr><td>313.23958502541706</td><td>5</td><td>5</td><td>219.0</td><td>54.06</td><td>83549</td><td>16200</td><td>2</td><td>23</td><td>fb1e2262cc73f7ab2...</td><td>1cefecd08a908f264...</td><td>[313.239585025417...</td><td>[0.85783166339550...</td><td>3</td></tr>\n",
       "<tr><td>313.88202851765914</td><td>5</td><td>8</td><td>149.99</td><td>57.53</td><td>31584</td><td>8250</td><td>3</td><td>25</td><td>c28d0e4df4c650713...</td><td>14e7871569ad7387e...</td><td>[313.882028517659...</td><td>[0.85959104629579...</td><td>3</td></tr>\n",
       "<tr><td>184.8796023402937</td><td>5</td><td>7</td><td>630.0</td><td>64.49</td><td>2560</td><td>23450</td><td>1</td><td>3</td><td>13b4ff901d43edec6...</td><td>92dd835c0a01f4740...</td><td>[184.879602340293...</td><td>[0.50630758175281...</td><td>3</td></tr>\n",
       "<tr><td>259.46477003230837</td><td>5</td><td>9</td><td>279.99</td><td>47.43</td><td>65664</td><td>8250</td><td>4</td><td>14</td><td>9fd2f153a01bbc71f...</td><td>b321c76c00ab4ac26...</td><td>[259.464770032308...</td><td>[0.71056503044239...</td><td>3</td></tr>\n",
       "<tr><td>425.2951521395577</td><td>4</td><td>4</td><td>89.9</td><td>23.21</td><td>83190</td><td>4975</td><td>4</td><td>29</td><td>7d9504e234d43cbe1...</td><td>ef5a6ca97d80cfe69...</td><td>[425.295152139557...</td><td>[1.16470479861067...</td><td>3</td></tr>\n",
       "<tr><td>425.2951521395577</td><td>4</td><td>4</td><td>89.9</td><td>23.21</td><td>83190</td><td>4975</td><td>4</td><td>29</td><td>7d9504e234d43cbe1...</td><td>ef5a6ca97d80cfe69...</td><td>[425.295152139557...</td><td>[1.16470479861067...</td><td>3</td></tr>\n",
       "<tr><td>458.45042934018784</td><td>4</td><td>7</td><td>134.0</td><td>52.95</td><td>92950</td><td>13750</td><td>3</td><td>52</td><td>49e038a7b8ba2e18d...</td><td>d1ecae988f85309f8...</td><td>[458.450429340187...</td><td>[1.25550317771416...</td><td>3</td></tr>\n",
       "<tr><td>678.4883856170538</td><td>5</td><td>8</td><td>99.99</td><td>41.09</td><td>42400</td><td>8450</td><td>1</td><td>30</td><td>22594ba8fd9a72ad9...</td><td>9257e7f34e66593a7...</td><td>[678.488385617053...</td><td>[1.85809472446204...</td><td>3</td></tr>\n",
       "<tr><td>948.1341930199363</td><td>5</td><td>10</td><td>249.9</td><td>78.77</td><td>106580</td><td>5650</td><td>3</td><td>22</td><td>fe6a9515d655fa793...</td><td>69ee6fd73d273e7a1...</td><td>[948.134193019936...</td><td>[2.59654134024743...</td><td>3</td></tr>\n",
       "<tr><td>1233.1601730870514</td><td>5</td><td>12</td><td>248.99</td><td>133.15</td><td>75000</td><td>18050</td><td>2</td><td>23</td><td>657247f6f60543b93...</td><td>86d9c7683745d83c9...</td><td>[1233.16017308705...</td><td>[3.37710778931889...</td><td>3</td></tr>\n",
       "<tr><td>14.28207577143999</td><td>5</td><td>8</td><td>108.0</td><td>29.13</td><td>86640</td><td>11200</td><td>2</td><td>26</td><td>ea9e7b142ab7562c2...</td><td>cf69cc8de5f38d6fe...</td><td>[14.2820757714399...</td><td>[0.03911260709517...</td><td>3</td></tr>\n",
       "<tr><td>21.915648402363537</td><td>2</td><td>7</td><td>560.0</td><td>19.22</td><td>35301</td><td>8750</td><td>1</td><td>53</td><td>e4d6002d3e034177e...</td><td>4d77bdf492f3c64a1...</td><td>[21.9156484023635...</td><td>[0.06001775644628...</td><td>3</td></tr>\n",
       "<tr><td>224.84702076199</td><td>1</td><td>1</td><td>229.99</td><td>107.12</td><td>48608</td><td>12450</td><td>2</td><td>30</td><td>eb7151059126a851a...</td><td>8ee5d92401e446faa...</td><td>[224.84702076199,...</td><td>[0.61576155457532...</td><td>3</td></tr>\n",
       "<tr><td>262.97240076801336</td><td>5</td><td>4</td><td>329.9</td><td>19.22</td><td>57420</td><td>9600</td><td>1</td><td>16</td><td>45c6a146b3386b751...</td><td>18d668de92869e9c6...</td><td>[262.972400768013...</td><td>[0.72017095782970...</td><td>3</td></tr>\n",
       "</table>\n",
       "only showing top 20 rows\n"
      ],
      "text/plain": [
       "+------------------+------------+-----+------+-------------+--------------+----------------+------------------+------+--------------------+--------------------+--------------------+--------------------+----------+\n",
       "|          distance|survey_score|month| price|freight_value|product_dim_cm|product_weight_g|product_photos_qty|cat_id|          product_id|         customer_id|            features|              scaled|prediction|\n",
       "+------------------+------------+-----+------+-------------+--------------+----------------+------------------+------+--------------------+--------------------+--------------------+--------------------+----------+\n",
       "|198.33453976369512|           5|    7| 99.99|        71.78|        112251|            8250|                 1|     3|22dd24a9dd84994cf...|8e4a4bf8cb5a4231d...|[198.334539763695...|[0.54315500430913...|         3|\n",
       "|210.36938402746296|           4|   11|1610.0|        32.11|         30912|            3510|                 1|     5|f209a7348b00e6af7...|90753daa6413261a9...|[210.369384027462...|[0.57611338813746...|         3|\n",
       "|252.22465480922648|           5|    1| 289.0|        46.48|         53400|           10150|                 3|     7|4aa6014eceb682077...|359b9d6f7f8977275...|[252.224654809226...|[0.69073739568004...|         3|\n",
       "|262.16783233924406|           4|   11|139.99|        32.01|         64000|           10700|                 1|    11|83b00325c13c44245...|68bc16b896692f80d...|[262.167832339244...|[0.71796758282041...|         3|\n",
       "|308.96169782395975|           3|    8| 795.0|        63.65|         51975|            9050|                 8|    63|f49e985b4cb2d0543...|69f32d82d34e7b1a4...|[308.961697823959...|[0.84611632705464...|         3|\n",
       "| 313.0098992106862|           5|    7| 159.9|        60.35|         62640|            7474|                 4|     3|0ec7b6a863e219792...|5500c1fe2f5362793...|[313.009899210686...|[0.85720265041653...|         3|\n",
       "|313.23958502541706|           5|    5| 219.0|        54.06|         83549|           16200|                 2|    23|fb1e2262cc73f7ab2...|1cefecd08a908f264...|[313.239585025417...|[0.85783166339550...|         3|\n",
       "|313.88202851765914|           5|    8|149.99|        57.53|         31584|            8250|                 3|    25|c28d0e4df4c650713...|14e7871569ad7387e...|[313.882028517659...|[0.85959104629579...|         3|\n",
       "| 184.8796023402937|           5|    7| 630.0|        64.49|          2560|           23450|                 1|     3|13b4ff901d43edec6...|92dd835c0a01f4740...|[184.879602340293...|[0.50630758175281...|         3|\n",
       "|259.46477003230837|           5|    9|279.99|        47.43|         65664|            8250|                 4|    14|9fd2f153a01bbc71f...|b321c76c00ab4ac26...|[259.464770032308...|[0.71056503044239...|         3|\n",
       "| 425.2951521395577|           4|    4|  89.9|        23.21|         83190|            4975|                 4|    29|7d9504e234d43cbe1...|ef5a6ca97d80cfe69...|[425.295152139557...|[1.16470479861067...|         3|\n",
       "| 425.2951521395577|           4|    4|  89.9|        23.21|         83190|            4975|                 4|    29|7d9504e234d43cbe1...|ef5a6ca97d80cfe69...|[425.295152139557...|[1.16470479861067...|         3|\n",
       "|458.45042934018784|           4|    7| 134.0|        52.95|         92950|           13750|                 3|    52|49e038a7b8ba2e18d...|d1ecae988f85309f8...|[458.450429340187...|[1.25550317771416...|         3|\n",
       "| 678.4883856170538|           5|    8| 99.99|        41.09|         42400|            8450|                 1|    30|22594ba8fd9a72ad9...|9257e7f34e66593a7...|[678.488385617053...|[1.85809472446204...|         3|\n",
       "| 948.1341930199363|           5|   10| 249.9|        78.77|        106580|            5650|                 3|    22|fe6a9515d655fa793...|69ee6fd73d273e7a1...|[948.134193019936...|[2.59654134024743...|         3|\n",
       "|1233.1601730870514|           5|   12|248.99|       133.15|         75000|           18050|                 2|    23|657247f6f60543b93...|86d9c7683745d83c9...|[1233.16017308705...|[3.37710778931889...|         3|\n",
       "| 14.28207577143999|           5|    8| 108.0|        29.13|         86640|           11200|                 2|    26|ea9e7b142ab7562c2...|cf69cc8de5f38d6fe...|[14.2820757714399...|[0.03911260709517...|         3|\n",
       "|21.915648402363537|           2|    7| 560.0|        19.22|         35301|            8750|                 1|    53|e4d6002d3e034177e...|4d77bdf492f3c64a1...|[21.9156484023635...|[0.06001775644628...|         3|\n",
       "|   224.84702076199|           1|    1|229.99|       107.12|         48608|           12450|                 2|    30|eb7151059126a851a...|8ee5d92401e446faa...|[224.84702076199,...|[0.61576155457532...|         3|\n",
       "|262.97240076801336|           5|    4| 329.9|        19.22|         57420|            9600|                 1|    16|45c6a146b3386b751...|18d668de92869e9c6...|[262.972400768013...|[0.72017095782970...|         3|\n",
       "+------------------+------------+-----+------+-------------+--------------+----------------+------------------+------+--------------------+--------------------+--------------------+--------------------+----------+\n",
       "only showing top 20 rows"
      ]
     },
     "execution_count": 37,
     "metadata": {},
     "output_type": "execute_result"
    }
   ],
   "source": [
    "Final_output[Final_output['prediction']==3].sample(fraction=0.5)"
   ]
  },
  {
   "cell_type": "markdown",
   "id": "18b4bc8b",
   "metadata": {},
   "source": [
    "## Product Recommendations\n",
    "  - ### Assume there were 5 purchases and we generated the test outputs\n",
    "  - ### Use the test output prediction labels and filter the Final_output dataframe\n",
    "  - ### Randomly choose 3 products from the cluster for each purchase"
   ]
  },
  {
   "cell_type": "code",
   "execution_count": 38,
   "id": "779609da",
   "metadata": {},
   "outputs": [],
   "source": [
    "sample_test = test_output.limit(5)"
   ]
  },
  {
   "cell_type": "code",
   "execution_count": 39,
   "id": "8e97f368",
   "metadata": {},
   "outputs": [],
   "source": [
    "purchase_list = sample_test.select('product_id', 'customer_id', 'prediction').toPandas().values.tolist()"
   ]
  },
  {
   "cell_type": "code",
   "execution_count": 40,
   "id": "8eb94f61",
   "metadata": {},
   "outputs": [
    {
     "name": "stdout",
     "output_type": "stream",
     "text": [
      "Product : 6b75ce117b8fcc75289cb6cbe589de6c purchased by the customer :71af36f53c0fe0b5b886ffad8154c5db\n",
      "Top 3 recommended products for the specific customer\n"
     ]
    },
    {
     "data": {
      "text/html": [
       "<table border='1'>\n",
       "<tr><th>distance</th><th>survey_score</th><th>month</th><th>price</th><th>freight_value</th><th>product_dim_cm</th><th>product_weight_g</th><th>product_photos_qty</th><th>cat_id</th><th>product_id</th><th>customer_id</th><th>features</th><th>scaled</th><th>prediction</th></tr>\n",
       "<tr><td>6.478096287460243</td><td>5</td><td>4</td><td>117.3</td><td>12.81</td><td>44890</td><td>4105</td><td>1</td><td>2</td><td>a50acd33ba7a8da8e...</td><td>2c94ee4423f153e13...</td><td>[6.47809628746024...</td><td>[0.01774078494407...</td><td>1</td></tr>\n",
       "<tr><td>12.265322028224537</td><td>4</td><td>4</td><td>219.0</td><td>9.3</td><td>2700</td><td>292</td><td>2</td><td>9</td><td>d04e48982547095af...</td><td>63368406d4bb7f949...</td><td>[12.2653220282245...</td><td>[0.03358956562498...</td><td>1</td></tr>\n",
       "<tr><td>30.60662347612332</td><td>5</td><td>12</td><td>79.99</td><td>8.75</td><td>8960</td><td>250</td><td>1</td><td>22</td><td>ccc4bd1600ccbb62e...</td><td>a0edaa97421af6b1d...</td><td>[30.6066234761233...</td><td>[0.08381868698144...</td><td>1</td></tr>\n",
       "</table>\n"
      ],
      "text/plain": [
       "+------------------+------------+-----+-----+-------------+--------------+----------------+------------------+------+--------------------+--------------------+--------------------+--------------------+----------+\n",
       "|          distance|survey_score|month|price|freight_value|product_dim_cm|product_weight_g|product_photos_qty|cat_id|          product_id|         customer_id|            features|              scaled|prediction|\n",
       "+------------------+------------+-----+-----+-------------+--------------+----------------+------------------+------+--------------------+--------------------+--------------------+--------------------+----------+\n",
       "| 6.478096287460243|           5|    4|117.3|        12.81|         44890|            4105|                 1|     2|a50acd33ba7a8da8e...|2c94ee4423f153e13...|[6.47809628746024...|[0.01774078494407...|         1|\n",
       "|12.265322028224537|           4|    4|219.0|          9.3|          2700|             292|                 2|     9|d04e48982547095af...|63368406d4bb7f949...|[12.2653220282245...|[0.03358956562498...|         1|\n",
       "| 30.60662347612332|           5|   12|79.99|         8.75|          8960|             250|                 1|    22|ccc4bd1600ccbb62e...|a0edaa97421af6b1d...|[30.6066234761233...|[0.08381868698144...|         1|\n",
       "+------------------+------------+-----+-----+-------------+--------------+----------------+------------------+------+--------------------+--------------------+--------------------+--------------------+----------+"
      ]
     },
     "metadata": {},
     "output_type": "display_data"
    },
    {
     "name": "stdout",
     "output_type": "stream",
     "text": [
      "Product : a2da86fa759178e9e58e54aa1a144e59 purchased by the customer :68cb7fbc85416655ad0499fcc7fdb9f7\n",
      "Top 3 recommended products for the specific customer\n"
     ]
    },
    {
     "data": {
      "text/html": [
       "<table border='1'>\n",
       "<tr><th>distance</th><th>survey_score</th><th>month</th><th>price</th><th>freight_value</th><th>product_dim_cm</th><th>product_weight_g</th><th>product_photos_qty</th><th>cat_id</th><th>product_id</th><th>customer_id</th><th>features</th><th>scaled</th><th>prediction</th></tr>\n",
       "<tr><td>6.271393215280431</td><td>5</td><td>4</td><td>29.9</td><td>7.39</td><td>15840</td><td>150</td><td>6</td><td>0</td><td>adf591c625cb265c1...</td><td>47ed1ad73b7883c3f...</td><td>[6.27139321528043...</td><td>[0.01717471204424...</td><td>2</td></tr>\n",
       "<tr><td>7.028794344256277</td><td>5</td><td>8</td><td>30.0</td><td>8.37</td><td>11270</td><td>500</td><td>6</td><td>43</td><td>37f4d0bf85fbf875c...</td><td>dc7b3fbf491155c69...</td><td>[7.02879434425627...</td><td>[0.01924891562957...</td><td>2</td></tr>\n",
       "<tr><td>14.914633111221498</td><td>5</td><td>1</td><td>134.17</td><td>27.38</td><td>43560</td><td>10400</td><td>10</td><td>11</td><td>9523f1a3e7db9e38d...</td><td>a8c5c582c453d8fe3...</td><td>[14.9146331112214...</td><td>[0.04084491597604...</td><td>2</td></tr>\n",
       "</table>\n"
      ],
      "text/plain": [
       "+------------------+------------+-----+------+-------------+--------------+----------------+------------------+------+--------------------+--------------------+--------------------+--------------------+----------+\n",
       "|          distance|survey_score|month| price|freight_value|product_dim_cm|product_weight_g|product_photos_qty|cat_id|          product_id|         customer_id|            features|              scaled|prediction|\n",
       "+------------------+------------+-----+------+-------------+--------------+----------------+------------------+------+--------------------+--------------------+--------------------+--------------------+----------+\n",
       "| 6.271393215280431|           5|    4|  29.9|         7.39|         15840|             150|                 6|     0|adf591c625cb265c1...|47ed1ad73b7883c3f...|[6.27139321528043...|[0.01717471204424...|         2|\n",
       "| 7.028794344256277|           5|    8|  30.0|         8.37|         11270|             500|                 6|    43|37f4d0bf85fbf875c...|dc7b3fbf491155c69...|[7.02879434425627...|[0.01924891562957...|         2|\n",
       "|14.914633111221498|           5|    1|134.17|        27.38|         43560|           10400|                10|    11|9523f1a3e7db9e38d...|a8c5c582c453d8fe3...|[14.9146331112214...|[0.04084491597604...|         2|\n",
       "+------------------+------------+-----+------+-------------+--------------+----------------+------------------+------+--------------------+--------------------+--------------------+--------------------+----------+"
      ]
     },
     "metadata": {},
     "output_type": "display_data"
    },
    {
     "name": "stdout",
     "output_type": "stream",
     "text": [
      "Product : dfb97c88e066dc22165f31648efe1312 purchased by the customer :2c94ee4423f153e13ce3fb15ac406a13\n",
      "Top 3 recommended products for the specific customer\n"
     ]
    },
    {
     "data": {
      "text/html": [
       "<table border='1'>\n",
       "<tr><th>distance</th><th>survey_score</th><th>month</th><th>price</th><th>freight_value</th><th>product_dim_cm</th><th>product_weight_g</th><th>product_photos_qty</th><th>cat_id</th><th>product_id</th><th>customer_id</th><th>features</th><th>scaled</th><th>prediction</th></tr>\n",
       "<tr><td>18.645394688770942</td><td>5</td><td>1</td><td>49.9</td><td>8.27</td><td>8000</td><td>100</td><td>2</td><td>6</td><td>473795a355d29305c...</td><td>b930ac822ab2d45dd...</td><td>[18.6453946887709...</td><td>[0.05106190502466...</td><td>1</td></tr>\n",
       "<tr><td>26.103049476398382</td><td>5</td><td>3</td><td>110.0</td><td>13.05</td><td>50400</td><td>7800</td><td>3</td><td>44</td><td>88e84a987b4681434...</td><td>7302aa13024a3e490...</td><td>[26.1030494763983...</td><td>[0.07148528928812...</td><td>1</td></tr>\n",
       "<tr><td>26.528569471573803</td><td>4</td><td>1</td><td>155.0</td><td>8.83</td><td>5967</td><td>350</td><td>3</td><td>33</td><td>e40fa115d27ea4a80...</td><td>7e27f4fc651dbbb8e...</td><td>[26.5285694715738...</td><td>[0.07265060983737...</td><td>1</td></tr>\n",
       "</table>\n"
      ],
      "text/plain": [
       "+------------------+------------+-----+-----+-------------+--------------+----------------+------------------+------+--------------------+--------------------+--------------------+--------------------+----------+\n",
       "|          distance|survey_score|month|price|freight_value|product_dim_cm|product_weight_g|product_photos_qty|cat_id|          product_id|         customer_id|            features|              scaled|prediction|\n",
       "+------------------+------------+-----+-----+-------------+--------------+----------------+------------------+------+--------------------+--------------------+--------------------+--------------------+----------+\n",
       "|18.645394688770942|           5|    1| 49.9|         8.27|          8000|             100|                 2|     6|473795a355d29305c...|b930ac822ab2d45dd...|[18.6453946887709...|[0.05106190502466...|         1|\n",
       "|26.103049476398382|           5|    3|110.0|        13.05|         50400|            7800|                 3|    44|88e84a987b4681434...|7302aa13024a3e490...|[26.1030494763983...|[0.07148528928812...|         1|\n",
       "|26.528569471573803|           4|    1|155.0|         8.83|          5967|             350|                 3|    33|e40fa115d27ea4a80...|7e27f4fc651dbbb8e...|[26.5285694715738...|[0.07265060983737...|         1|\n",
       "+------------------+------------+-----+-----+-------------+--------------+----------------+------------------+------+--------------------+--------------------+--------------------+--------------------+----------+"
      ]
     },
     "metadata": {},
     "output_type": "display_data"
    },
    {
     "name": "stdout",
     "output_type": "stream",
     "text": [
      "Product : 37f4d0bf85fbf875c920d460766d6a5c purchased by the customer :db7432cb997db7083db6aaea715d3433\n",
      "Top 3 recommended products for the specific customer\n"
     ]
    },
    {
     "data": {
      "text/html": [
       "<table border='1'>\n",
       "<tr><th>distance</th><th>survey_score</th><th>month</th><th>price</th><th>freight_value</th><th>product_dim_cm</th><th>product_weight_g</th><th>product_photos_qty</th><th>cat_id</th><th>product_id</th><th>customer_id</th><th>features</th><th>scaled</th><th>prediction</th></tr>\n",
       "<tr><td>22.111542860294147</td><td>5</td><td>3</td><td>49.9</td><td>10.96</td><td>3136</td><td>600</td><td>4</td><td>7</td><td>1720f85e4a07f5701...</td><td>e785a41a19890a8f1...</td><td>[22.1115428602941...</td><td>[0.06055422909128...</td><td>2</td></tr>\n",
       "<tr><td>24.10704168477952</td><td>5</td><td>12</td><td>118.6</td><td>8.09</td><td>2288</td><td>250</td><td>7</td><td>17</td><td>7a7416293b9692d84...</td><td>9f11f34a505da5700...</td><td>[24.1070416847795...</td><td>[0.06601906226609...</td><td>2</td></tr>\n",
       "<tr><td>25.923252137933993</td><td>4</td><td>1</td><td>129.9</td><td>9.1</td><td>4800</td><td>550</td><td>4</td><td>23</td><td>f0f464c1300173b9e...</td><td>0b79f3d959c1308c5...</td><td>[25.9232521379339...</td><td>[0.07099289989258...</td><td>2</td></tr>\n",
       "</table>\n"
      ],
      "text/plain": [
       "+------------------+------------+-----+-----+-------------+--------------+----------------+------------------+------+--------------------+--------------------+--------------------+--------------------+----------+\n",
       "|          distance|survey_score|month|price|freight_value|product_dim_cm|product_weight_g|product_photos_qty|cat_id|          product_id|         customer_id|            features|              scaled|prediction|\n",
       "+------------------+------------+-----+-----+-------------+--------------+----------------+------------------+------+--------------------+--------------------+--------------------+--------------------+----------+\n",
       "|22.111542860294147|           5|    3| 49.9|        10.96|          3136|             600|                 4|     7|1720f85e4a07f5701...|e785a41a19890a8f1...|[22.1115428602941...|[0.06055422909128...|         2|\n",
       "| 24.10704168477952|           5|   12|118.6|         8.09|          2288|             250|                 7|    17|7a7416293b9692d84...|9f11f34a505da5700...|[24.1070416847795...|[0.06601906226609...|         2|\n",
       "|25.923252137933993|           4|    1|129.9|          9.1|          4800|             550|                 4|    23|f0f464c1300173b9e...|0b79f3d959c1308c5...|[25.9232521379339...|[0.07099289989258...|         2|\n",
       "+------------------+------------+-----+-----+-------------+--------------+----------------+------------------+------+--------------------+--------------------+--------------------+--------------------+----------+"
      ]
     },
     "metadata": {},
     "output_type": "display_data"
    },
    {
     "name": "stdout",
     "output_type": "stream",
     "text": [
      "Product : 2136c70bbe723d338fab53da3c03e6dc purchased by the customer :70a8cfb1730fd53e5c15f2a62e1e5448\n",
      "Top 3 recommended products for the specific customer\n"
     ]
    },
    {
     "data": {
      "text/html": [
       "<table border='1'>\n",
       "<tr><th>distance</th><th>survey_score</th><th>month</th><th>price</th><th>freight_value</th><th>product_dim_cm</th><th>product_weight_g</th><th>product_photos_qty</th><th>cat_id</th><th>product_id</th><th>customer_id</th><th>features</th><th>scaled</th><th>prediction</th></tr>\n",
       "<tr><td>13.19973867236129</td><td>1</td><td>8</td><td>5.9</td><td>7.39</td><td>4590</td><td>250</td><td>1</td><td>7</td><td>9a4b54310a69c82a6...</td><td>16d5e579f5c682f59...</td><td>[13.1997386723612...</td><td>[0.03614854036018...</td><td>0</td></tr>\n",
       "<tr><td>16.74617105631575</td><td>1</td><td>5</td><td>579.99</td><td>16.96</td><td>16000</td><td>3750</td><td>3</td><td>25</td><td>71f2ce4ae5dfdd3b5...</td><td>ee78e2394f33a3bf7...</td><td>[16.7461710563157...</td><td>[0.04586072916543...</td><td>0</td></tr>\n",
       "<tr><td>19.282037475200585</td><td>1</td><td>5</td><td>38.7</td><td>8.29</td><td>4096</td><td>450</td><td>1</td><td>29</td><td>c9e5a053551073d27...</td><td>705b9e5a5d27aaed4...</td><td>[19.2820374752005...</td><td>[0.05280540222802...</td><td>0</td></tr>\n",
       "</table>\n"
      ],
      "text/plain": [
       "+------------------+------------+-----+------+-------------+--------------+----------------+------------------+------+--------------------+--------------------+--------------------+--------------------+----------+\n",
       "|          distance|survey_score|month| price|freight_value|product_dim_cm|product_weight_g|product_photos_qty|cat_id|          product_id|         customer_id|            features|              scaled|prediction|\n",
       "+------------------+------------+-----+------+-------------+--------------+----------------+------------------+------+--------------------+--------------------+--------------------+--------------------+----------+\n",
       "| 13.19973867236129|           1|    8|   5.9|         7.39|          4590|             250|                 1|     7|9a4b54310a69c82a6...|16d5e579f5c682f59...|[13.1997386723612...|[0.03614854036018...|         0|\n",
       "| 16.74617105631575|           1|    5|579.99|        16.96|         16000|            3750|                 3|    25|71f2ce4ae5dfdd3b5...|ee78e2394f33a3bf7...|[16.7461710563157...|[0.04586072916543...|         0|\n",
       "|19.282037475200585|           1|    5|  38.7|         8.29|          4096|             450|                 1|    29|c9e5a053551073d27...|705b9e5a5d27aaed4...|[19.2820374752005...|[0.05280540222802...|         0|\n",
       "+------------------+------------+-----+------+-------------+--------------+----------------+------------------+------+--------------------+--------------------+--------------------+--------------------+----------+"
      ]
     },
     "metadata": {},
     "output_type": "display_data"
    }
   ],
   "source": [
    "for item in purchase_list:\n",
    "    print('Product : {} purchased by the customer :{}'.format(item[0],item[1]))\n",
    "    print('Top 3 recommended products for the specific customer')\n",
    "    display(Final_output[Final_output['prediction']==item[2]].sample(fraction=0.5).limit(3))"
   ]
  },
  {
   "cell_type": "markdown",
   "id": "41e07751",
   "metadata": {},
   "source": [
    "## Stop Spark session"
   ]
  },
  {
   "cell_type": "code",
   "execution_count": 42,
   "id": "d6d51c57",
   "metadata": {},
   "outputs": [],
   "source": [
    "spark.stop()"
   ]
  },
  {
   "cell_type": "code",
   "execution_count": null,
   "id": "f96bb4e4",
   "metadata": {},
   "outputs": [],
   "source": []
  }
 ],
 "metadata": {
  "kernelspec": {
   "display_name": "Python 3",
   "language": "python",
   "name": "python3"
  },
  "language_info": {
   "codemirror_mode": {
    "name": "ipython",
    "version": 3
   },
   "file_extension": ".py",
   "mimetype": "text/x-python",
   "name": "python",
   "nbconvert_exporter": "python",
   "pygments_lexer": "ipython3",
   "version": "3.8.5"
  }
 },
 "nbformat": 4,
 "nbformat_minor": 5
}
